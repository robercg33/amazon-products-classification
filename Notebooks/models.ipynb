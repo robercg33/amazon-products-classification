{
  "nbformat": 4,
  "nbformat_minor": 0,
  "metadata": {
    "colab": {
      "provenance": [],
      "toc_visible": true,
      "machine_shape": "hm",
      "gpuType": "T4"
    },
    "kernelspec": {
      "name": "python3",
      "display_name": "Python 3"
    },
    "language_info": {
      "name": "python"
    },
    "accelerator": "GPU",
    "widgets": {
      "application/vnd.jupyter.widget-state+json": {
        "16a7c15fe34e4e4081cc96fc25d064e9": {
          "model_module": "@jupyter-widgets/controls",
          "model_name": "HBoxModel",
          "model_module_version": "1.5.0",
          "state": {
            "_dom_classes": [],
            "_model_module": "@jupyter-widgets/controls",
            "_model_module_version": "1.5.0",
            "_model_name": "HBoxModel",
            "_view_count": null,
            "_view_module": "@jupyter-widgets/controls",
            "_view_module_version": "1.5.0",
            "_view_name": "HBoxView",
            "box_style": "",
            "children": [
              "IPY_MODEL_a96af2d269384d7ea6af2b2710b36f98",
              "IPY_MODEL_9f93dcf0e6834cfbac34a09064b1ae68",
              "IPY_MODEL_c67d8da09f6c4bbe8d1648d0d919ae09"
            ],
            "layout": "IPY_MODEL_05833d112d904409b21c7f37214357fc"
          }
        },
        "a96af2d269384d7ea6af2b2710b36f98": {
          "model_module": "@jupyter-widgets/controls",
          "model_name": "HTMLModel",
          "model_module_version": "1.5.0",
          "state": {
            "_dom_classes": [],
            "_model_module": "@jupyter-widgets/controls",
            "_model_module_version": "1.5.0",
            "_model_name": "HTMLModel",
            "_view_count": null,
            "_view_module": "@jupyter-widgets/controls",
            "_view_module_version": "1.5.0",
            "_view_name": "HTMLView",
            "description": "",
            "description_tooltip": null,
            "layout": "IPY_MODEL_ee9db374bf4e40589aaddfdf2f931de4",
            "placeholder": "​",
            "style": "IPY_MODEL_c9af7918b0234600a83dfc2685b40b91",
            "value": "tokenizer_config.json: 100%"
          }
        },
        "9f93dcf0e6834cfbac34a09064b1ae68": {
          "model_module": "@jupyter-widgets/controls",
          "model_name": "FloatProgressModel",
          "model_module_version": "1.5.0",
          "state": {
            "_dom_classes": [],
            "_model_module": "@jupyter-widgets/controls",
            "_model_module_version": "1.5.0",
            "_model_name": "FloatProgressModel",
            "_view_count": null,
            "_view_module": "@jupyter-widgets/controls",
            "_view_module_version": "1.5.0",
            "_view_name": "ProgressView",
            "bar_style": "success",
            "description": "",
            "description_tooltip": null,
            "layout": "IPY_MODEL_c3c66523715f422fa6fefdc870c3fdc1",
            "max": 48,
            "min": 0,
            "orientation": "horizontal",
            "style": "IPY_MODEL_cdb33b8708ca442a8a2651ca92736dfe",
            "value": 48
          }
        },
        "c67d8da09f6c4bbe8d1648d0d919ae09": {
          "model_module": "@jupyter-widgets/controls",
          "model_name": "HTMLModel",
          "model_module_version": "1.5.0",
          "state": {
            "_dom_classes": [],
            "_model_module": "@jupyter-widgets/controls",
            "_model_module_version": "1.5.0",
            "_model_name": "HTMLModel",
            "_view_count": null,
            "_view_module": "@jupyter-widgets/controls",
            "_view_module_version": "1.5.0",
            "_view_name": "HTMLView",
            "description": "",
            "description_tooltip": null,
            "layout": "IPY_MODEL_0680bd6e5278448d85ec31414c82bb8d",
            "placeholder": "​",
            "style": "IPY_MODEL_2daefab0ce274a37bf9607ea9b43bbc1",
            "value": " 48.0/48.0 [00:00&lt;00:00, 4.10kB/s]"
          }
        },
        "05833d112d904409b21c7f37214357fc": {
          "model_module": "@jupyter-widgets/base",
          "model_name": "LayoutModel",
          "model_module_version": "1.2.0",
          "state": {
            "_model_module": "@jupyter-widgets/base",
            "_model_module_version": "1.2.0",
            "_model_name": "LayoutModel",
            "_view_count": null,
            "_view_module": "@jupyter-widgets/base",
            "_view_module_version": "1.2.0",
            "_view_name": "LayoutView",
            "align_content": null,
            "align_items": null,
            "align_self": null,
            "border": null,
            "bottom": null,
            "display": null,
            "flex": null,
            "flex_flow": null,
            "grid_area": null,
            "grid_auto_columns": null,
            "grid_auto_flow": null,
            "grid_auto_rows": null,
            "grid_column": null,
            "grid_gap": null,
            "grid_row": null,
            "grid_template_areas": null,
            "grid_template_columns": null,
            "grid_template_rows": null,
            "height": null,
            "justify_content": null,
            "justify_items": null,
            "left": null,
            "margin": null,
            "max_height": null,
            "max_width": null,
            "min_height": null,
            "min_width": null,
            "object_fit": null,
            "object_position": null,
            "order": null,
            "overflow": null,
            "overflow_x": null,
            "overflow_y": null,
            "padding": null,
            "right": null,
            "top": null,
            "visibility": null,
            "width": null
          }
        },
        "ee9db374bf4e40589aaddfdf2f931de4": {
          "model_module": "@jupyter-widgets/base",
          "model_name": "LayoutModel",
          "model_module_version": "1.2.0",
          "state": {
            "_model_module": "@jupyter-widgets/base",
            "_model_module_version": "1.2.0",
            "_model_name": "LayoutModel",
            "_view_count": null,
            "_view_module": "@jupyter-widgets/base",
            "_view_module_version": "1.2.0",
            "_view_name": "LayoutView",
            "align_content": null,
            "align_items": null,
            "align_self": null,
            "border": null,
            "bottom": null,
            "display": null,
            "flex": null,
            "flex_flow": null,
            "grid_area": null,
            "grid_auto_columns": null,
            "grid_auto_flow": null,
            "grid_auto_rows": null,
            "grid_column": null,
            "grid_gap": null,
            "grid_row": null,
            "grid_template_areas": null,
            "grid_template_columns": null,
            "grid_template_rows": null,
            "height": null,
            "justify_content": null,
            "justify_items": null,
            "left": null,
            "margin": null,
            "max_height": null,
            "max_width": null,
            "min_height": null,
            "min_width": null,
            "object_fit": null,
            "object_position": null,
            "order": null,
            "overflow": null,
            "overflow_x": null,
            "overflow_y": null,
            "padding": null,
            "right": null,
            "top": null,
            "visibility": null,
            "width": null
          }
        },
        "c9af7918b0234600a83dfc2685b40b91": {
          "model_module": "@jupyter-widgets/controls",
          "model_name": "DescriptionStyleModel",
          "model_module_version": "1.5.0",
          "state": {
            "_model_module": "@jupyter-widgets/controls",
            "_model_module_version": "1.5.0",
            "_model_name": "DescriptionStyleModel",
            "_view_count": null,
            "_view_module": "@jupyter-widgets/base",
            "_view_module_version": "1.2.0",
            "_view_name": "StyleView",
            "description_width": ""
          }
        },
        "c3c66523715f422fa6fefdc870c3fdc1": {
          "model_module": "@jupyter-widgets/base",
          "model_name": "LayoutModel",
          "model_module_version": "1.2.0",
          "state": {
            "_model_module": "@jupyter-widgets/base",
            "_model_module_version": "1.2.0",
            "_model_name": "LayoutModel",
            "_view_count": null,
            "_view_module": "@jupyter-widgets/base",
            "_view_module_version": "1.2.0",
            "_view_name": "LayoutView",
            "align_content": null,
            "align_items": null,
            "align_self": null,
            "border": null,
            "bottom": null,
            "display": null,
            "flex": null,
            "flex_flow": null,
            "grid_area": null,
            "grid_auto_columns": null,
            "grid_auto_flow": null,
            "grid_auto_rows": null,
            "grid_column": null,
            "grid_gap": null,
            "grid_row": null,
            "grid_template_areas": null,
            "grid_template_columns": null,
            "grid_template_rows": null,
            "height": null,
            "justify_content": null,
            "justify_items": null,
            "left": null,
            "margin": null,
            "max_height": null,
            "max_width": null,
            "min_height": null,
            "min_width": null,
            "object_fit": null,
            "object_position": null,
            "order": null,
            "overflow": null,
            "overflow_x": null,
            "overflow_y": null,
            "padding": null,
            "right": null,
            "top": null,
            "visibility": null,
            "width": null
          }
        },
        "cdb33b8708ca442a8a2651ca92736dfe": {
          "model_module": "@jupyter-widgets/controls",
          "model_name": "ProgressStyleModel",
          "model_module_version": "1.5.0",
          "state": {
            "_model_module": "@jupyter-widgets/controls",
            "_model_module_version": "1.5.0",
            "_model_name": "ProgressStyleModel",
            "_view_count": null,
            "_view_module": "@jupyter-widgets/base",
            "_view_module_version": "1.2.0",
            "_view_name": "StyleView",
            "bar_color": null,
            "description_width": ""
          }
        },
        "0680bd6e5278448d85ec31414c82bb8d": {
          "model_module": "@jupyter-widgets/base",
          "model_name": "LayoutModel",
          "model_module_version": "1.2.0",
          "state": {
            "_model_module": "@jupyter-widgets/base",
            "_model_module_version": "1.2.0",
            "_model_name": "LayoutModel",
            "_view_count": null,
            "_view_module": "@jupyter-widgets/base",
            "_view_module_version": "1.2.0",
            "_view_name": "LayoutView",
            "align_content": null,
            "align_items": null,
            "align_self": null,
            "border": null,
            "bottom": null,
            "display": null,
            "flex": null,
            "flex_flow": null,
            "grid_area": null,
            "grid_auto_columns": null,
            "grid_auto_flow": null,
            "grid_auto_rows": null,
            "grid_column": null,
            "grid_gap": null,
            "grid_row": null,
            "grid_template_areas": null,
            "grid_template_columns": null,
            "grid_template_rows": null,
            "height": null,
            "justify_content": null,
            "justify_items": null,
            "left": null,
            "margin": null,
            "max_height": null,
            "max_width": null,
            "min_height": null,
            "min_width": null,
            "object_fit": null,
            "object_position": null,
            "order": null,
            "overflow": null,
            "overflow_x": null,
            "overflow_y": null,
            "padding": null,
            "right": null,
            "top": null,
            "visibility": null,
            "width": null
          }
        },
        "2daefab0ce274a37bf9607ea9b43bbc1": {
          "model_module": "@jupyter-widgets/controls",
          "model_name": "DescriptionStyleModel",
          "model_module_version": "1.5.0",
          "state": {
            "_model_module": "@jupyter-widgets/controls",
            "_model_module_version": "1.5.0",
            "_model_name": "DescriptionStyleModel",
            "_view_count": null,
            "_view_module": "@jupyter-widgets/base",
            "_view_module_version": "1.2.0",
            "_view_name": "StyleView",
            "description_width": ""
          }
        },
        "2d5691d6d8864618926f144b06c40617": {
          "model_module": "@jupyter-widgets/controls",
          "model_name": "HBoxModel",
          "model_module_version": "1.5.0",
          "state": {
            "_dom_classes": [],
            "_model_module": "@jupyter-widgets/controls",
            "_model_module_version": "1.5.0",
            "_model_name": "HBoxModel",
            "_view_count": null,
            "_view_module": "@jupyter-widgets/controls",
            "_view_module_version": "1.5.0",
            "_view_name": "HBoxView",
            "box_style": "",
            "children": [
              "IPY_MODEL_933248e8cb2b4662beb2c79e57f83e99",
              "IPY_MODEL_1d598d38c84649218831f4dcbb48f134",
              "IPY_MODEL_f5952883b526474c86689b13e21bba8e"
            ],
            "layout": "IPY_MODEL_1f0dc07fb0b1496d837c196f56dbe950"
          }
        },
        "933248e8cb2b4662beb2c79e57f83e99": {
          "model_module": "@jupyter-widgets/controls",
          "model_name": "HTMLModel",
          "model_module_version": "1.5.0",
          "state": {
            "_dom_classes": [],
            "_model_module": "@jupyter-widgets/controls",
            "_model_module_version": "1.5.0",
            "_model_name": "HTMLModel",
            "_view_count": null,
            "_view_module": "@jupyter-widgets/controls",
            "_view_module_version": "1.5.0",
            "_view_name": "HTMLView",
            "description": "",
            "description_tooltip": null,
            "layout": "IPY_MODEL_8911f6de40544f3b9ad450e7bbb2461f",
            "placeholder": "​",
            "style": "IPY_MODEL_2efb0203a7af4492837b4bd24686dd39",
            "value": "vocab.txt: 100%"
          }
        },
        "1d598d38c84649218831f4dcbb48f134": {
          "model_module": "@jupyter-widgets/controls",
          "model_name": "FloatProgressModel",
          "model_module_version": "1.5.0",
          "state": {
            "_dom_classes": [],
            "_model_module": "@jupyter-widgets/controls",
            "_model_module_version": "1.5.0",
            "_model_name": "FloatProgressModel",
            "_view_count": null,
            "_view_module": "@jupyter-widgets/controls",
            "_view_module_version": "1.5.0",
            "_view_name": "ProgressView",
            "bar_style": "success",
            "description": "",
            "description_tooltip": null,
            "layout": "IPY_MODEL_537d81a3eea54cf09b0ee51abaab5b63",
            "max": 231508,
            "min": 0,
            "orientation": "horizontal",
            "style": "IPY_MODEL_32da18ef17b04108a37c68ac5e4c9528",
            "value": 231508
          }
        },
        "f5952883b526474c86689b13e21bba8e": {
          "model_module": "@jupyter-widgets/controls",
          "model_name": "HTMLModel",
          "model_module_version": "1.5.0",
          "state": {
            "_dom_classes": [],
            "_model_module": "@jupyter-widgets/controls",
            "_model_module_version": "1.5.0",
            "_model_name": "HTMLModel",
            "_view_count": null,
            "_view_module": "@jupyter-widgets/controls",
            "_view_module_version": "1.5.0",
            "_view_name": "HTMLView",
            "description": "",
            "description_tooltip": null,
            "layout": "IPY_MODEL_c7d03e7f96e64adfa776c78211ac0a90",
            "placeholder": "​",
            "style": "IPY_MODEL_f339082dc32c406ba0bb535e051310a8",
            "value": " 232k/232k [00:00&lt;00:00, 538kB/s]"
          }
        },
        "1f0dc07fb0b1496d837c196f56dbe950": {
          "model_module": "@jupyter-widgets/base",
          "model_name": "LayoutModel",
          "model_module_version": "1.2.0",
          "state": {
            "_model_module": "@jupyter-widgets/base",
            "_model_module_version": "1.2.0",
            "_model_name": "LayoutModel",
            "_view_count": null,
            "_view_module": "@jupyter-widgets/base",
            "_view_module_version": "1.2.0",
            "_view_name": "LayoutView",
            "align_content": null,
            "align_items": null,
            "align_self": null,
            "border": null,
            "bottom": null,
            "display": null,
            "flex": null,
            "flex_flow": null,
            "grid_area": null,
            "grid_auto_columns": null,
            "grid_auto_flow": null,
            "grid_auto_rows": null,
            "grid_column": null,
            "grid_gap": null,
            "grid_row": null,
            "grid_template_areas": null,
            "grid_template_columns": null,
            "grid_template_rows": null,
            "height": null,
            "justify_content": null,
            "justify_items": null,
            "left": null,
            "margin": null,
            "max_height": null,
            "max_width": null,
            "min_height": null,
            "min_width": null,
            "object_fit": null,
            "object_position": null,
            "order": null,
            "overflow": null,
            "overflow_x": null,
            "overflow_y": null,
            "padding": null,
            "right": null,
            "top": null,
            "visibility": null,
            "width": null
          }
        },
        "8911f6de40544f3b9ad450e7bbb2461f": {
          "model_module": "@jupyter-widgets/base",
          "model_name": "LayoutModel",
          "model_module_version": "1.2.0",
          "state": {
            "_model_module": "@jupyter-widgets/base",
            "_model_module_version": "1.2.0",
            "_model_name": "LayoutModel",
            "_view_count": null,
            "_view_module": "@jupyter-widgets/base",
            "_view_module_version": "1.2.0",
            "_view_name": "LayoutView",
            "align_content": null,
            "align_items": null,
            "align_self": null,
            "border": null,
            "bottom": null,
            "display": null,
            "flex": null,
            "flex_flow": null,
            "grid_area": null,
            "grid_auto_columns": null,
            "grid_auto_flow": null,
            "grid_auto_rows": null,
            "grid_column": null,
            "grid_gap": null,
            "grid_row": null,
            "grid_template_areas": null,
            "grid_template_columns": null,
            "grid_template_rows": null,
            "height": null,
            "justify_content": null,
            "justify_items": null,
            "left": null,
            "margin": null,
            "max_height": null,
            "max_width": null,
            "min_height": null,
            "min_width": null,
            "object_fit": null,
            "object_position": null,
            "order": null,
            "overflow": null,
            "overflow_x": null,
            "overflow_y": null,
            "padding": null,
            "right": null,
            "top": null,
            "visibility": null,
            "width": null
          }
        },
        "2efb0203a7af4492837b4bd24686dd39": {
          "model_module": "@jupyter-widgets/controls",
          "model_name": "DescriptionStyleModel",
          "model_module_version": "1.5.0",
          "state": {
            "_model_module": "@jupyter-widgets/controls",
            "_model_module_version": "1.5.0",
            "_model_name": "DescriptionStyleModel",
            "_view_count": null,
            "_view_module": "@jupyter-widgets/base",
            "_view_module_version": "1.2.0",
            "_view_name": "StyleView",
            "description_width": ""
          }
        },
        "537d81a3eea54cf09b0ee51abaab5b63": {
          "model_module": "@jupyter-widgets/base",
          "model_name": "LayoutModel",
          "model_module_version": "1.2.0",
          "state": {
            "_model_module": "@jupyter-widgets/base",
            "_model_module_version": "1.2.0",
            "_model_name": "LayoutModel",
            "_view_count": null,
            "_view_module": "@jupyter-widgets/base",
            "_view_module_version": "1.2.0",
            "_view_name": "LayoutView",
            "align_content": null,
            "align_items": null,
            "align_self": null,
            "border": null,
            "bottom": null,
            "display": null,
            "flex": null,
            "flex_flow": null,
            "grid_area": null,
            "grid_auto_columns": null,
            "grid_auto_flow": null,
            "grid_auto_rows": null,
            "grid_column": null,
            "grid_gap": null,
            "grid_row": null,
            "grid_template_areas": null,
            "grid_template_columns": null,
            "grid_template_rows": null,
            "height": null,
            "justify_content": null,
            "justify_items": null,
            "left": null,
            "margin": null,
            "max_height": null,
            "max_width": null,
            "min_height": null,
            "min_width": null,
            "object_fit": null,
            "object_position": null,
            "order": null,
            "overflow": null,
            "overflow_x": null,
            "overflow_y": null,
            "padding": null,
            "right": null,
            "top": null,
            "visibility": null,
            "width": null
          }
        },
        "32da18ef17b04108a37c68ac5e4c9528": {
          "model_module": "@jupyter-widgets/controls",
          "model_name": "ProgressStyleModel",
          "model_module_version": "1.5.0",
          "state": {
            "_model_module": "@jupyter-widgets/controls",
            "_model_module_version": "1.5.0",
            "_model_name": "ProgressStyleModel",
            "_view_count": null,
            "_view_module": "@jupyter-widgets/base",
            "_view_module_version": "1.2.0",
            "_view_name": "StyleView",
            "bar_color": null,
            "description_width": ""
          }
        },
        "c7d03e7f96e64adfa776c78211ac0a90": {
          "model_module": "@jupyter-widgets/base",
          "model_name": "LayoutModel",
          "model_module_version": "1.2.0",
          "state": {
            "_model_module": "@jupyter-widgets/base",
            "_model_module_version": "1.2.0",
            "_model_name": "LayoutModel",
            "_view_count": null,
            "_view_module": "@jupyter-widgets/base",
            "_view_module_version": "1.2.0",
            "_view_name": "LayoutView",
            "align_content": null,
            "align_items": null,
            "align_self": null,
            "border": null,
            "bottom": null,
            "display": null,
            "flex": null,
            "flex_flow": null,
            "grid_area": null,
            "grid_auto_columns": null,
            "grid_auto_flow": null,
            "grid_auto_rows": null,
            "grid_column": null,
            "grid_gap": null,
            "grid_row": null,
            "grid_template_areas": null,
            "grid_template_columns": null,
            "grid_template_rows": null,
            "height": null,
            "justify_content": null,
            "justify_items": null,
            "left": null,
            "margin": null,
            "max_height": null,
            "max_width": null,
            "min_height": null,
            "min_width": null,
            "object_fit": null,
            "object_position": null,
            "order": null,
            "overflow": null,
            "overflow_x": null,
            "overflow_y": null,
            "padding": null,
            "right": null,
            "top": null,
            "visibility": null,
            "width": null
          }
        },
        "f339082dc32c406ba0bb535e051310a8": {
          "model_module": "@jupyter-widgets/controls",
          "model_name": "DescriptionStyleModel",
          "model_module_version": "1.5.0",
          "state": {
            "_model_module": "@jupyter-widgets/controls",
            "_model_module_version": "1.5.0",
            "_model_name": "DescriptionStyleModel",
            "_view_count": null,
            "_view_module": "@jupyter-widgets/base",
            "_view_module_version": "1.2.0",
            "_view_name": "StyleView",
            "description_width": ""
          }
        },
        "481f827b95924a44b09c55fd1316ddae": {
          "model_module": "@jupyter-widgets/controls",
          "model_name": "HBoxModel",
          "model_module_version": "1.5.0",
          "state": {
            "_dom_classes": [],
            "_model_module": "@jupyter-widgets/controls",
            "_model_module_version": "1.5.0",
            "_model_name": "HBoxModel",
            "_view_count": null,
            "_view_module": "@jupyter-widgets/controls",
            "_view_module_version": "1.5.0",
            "_view_name": "HBoxView",
            "box_style": "",
            "children": [
              "IPY_MODEL_cb013b71a38e479a84f089cf6794fb03",
              "IPY_MODEL_e3d232f01f854466b3c46dd3db25a39c",
              "IPY_MODEL_49e336a4740a4bcdb19f86f6edac0722"
            ],
            "layout": "IPY_MODEL_9dad054c3b5c4d2e8565607719019028"
          }
        },
        "cb013b71a38e479a84f089cf6794fb03": {
          "model_module": "@jupyter-widgets/controls",
          "model_name": "HTMLModel",
          "model_module_version": "1.5.0",
          "state": {
            "_dom_classes": [],
            "_model_module": "@jupyter-widgets/controls",
            "_model_module_version": "1.5.0",
            "_model_name": "HTMLModel",
            "_view_count": null,
            "_view_module": "@jupyter-widgets/controls",
            "_view_module_version": "1.5.0",
            "_view_name": "HTMLView",
            "description": "",
            "description_tooltip": null,
            "layout": "IPY_MODEL_1827505af61649ceba27a6491ebc3af1",
            "placeholder": "​",
            "style": "IPY_MODEL_98cc47a7e73b48b9b3238431c86168b4",
            "value": "tokenizer.json: 100%"
          }
        },
        "e3d232f01f854466b3c46dd3db25a39c": {
          "model_module": "@jupyter-widgets/controls",
          "model_name": "FloatProgressModel",
          "model_module_version": "1.5.0",
          "state": {
            "_dom_classes": [],
            "_model_module": "@jupyter-widgets/controls",
            "_model_module_version": "1.5.0",
            "_model_name": "FloatProgressModel",
            "_view_count": null,
            "_view_module": "@jupyter-widgets/controls",
            "_view_module_version": "1.5.0",
            "_view_name": "ProgressView",
            "bar_style": "success",
            "description": "",
            "description_tooltip": null,
            "layout": "IPY_MODEL_be5b681182d14af6895cfaddf111d486",
            "max": 466062,
            "min": 0,
            "orientation": "horizontal",
            "style": "IPY_MODEL_47e91bbb8dd64797a6552c239a28ead7",
            "value": 466062
          }
        },
        "49e336a4740a4bcdb19f86f6edac0722": {
          "model_module": "@jupyter-widgets/controls",
          "model_name": "HTMLModel",
          "model_module_version": "1.5.0",
          "state": {
            "_dom_classes": [],
            "_model_module": "@jupyter-widgets/controls",
            "_model_module_version": "1.5.0",
            "_model_name": "HTMLModel",
            "_view_count": null,
            "_view_module": "@jupyter-widgets/controls",
            "_view_module_version": "1.5.0",
            "_view_name": "HTMLView",
            "description": "",
            "description_tooltip": null,
            "layout": "IPY_MODEL_8c8e4de0beae4d70a8c17b3c0b2b73bc",
            "placeholder": "​",
            "style": "IPY_MODEL_5cbc6cd826164016bd6e5e7232203118",
            "value": " 466k/466k [00:00&lt;00:00, 1.05MB/s]"
          }
        },
        "9dad054c3b5c4d2e8565607719019028": {
          "model_module": "@jupyter-widgets/base",
          "model_name": "LayoutModel",
          "model_module_version": "1.2.0",
          "state": {
            "_model_module": "@jupyter-widgets/base",
            "_model_module_version": "1.2.0",
            "_model_name": "LayoutModel",
            "_view_count": null,
            "_view_module": "@jupyter-widgets/base",
            "_view_module_version": "1.2.0",
            "_view_name": "LayoutView",
            "align_content": null,
            "align_items": null,
            "align_self": null,
            "border": null,
            "bottom": null,
            "display": null,
            "flex": null,
            "flex_flow": null,
            "grid_area": null,
            "grid_auto_columns": null,
            "grid_auto_flow": null,
            "grid_auto_rows": null,
            "grid_column": null,
            "grid_gap": null,
            "grid_row": null,
            "grid_template_areas": null,
            "grid_template_columns": null,
            "grid_template_rows": null,
            "height": null,
            "justify_content": null,
            "justify_items": null,
            "left": null,
            "margin": null,
            "max_height": null,
            "max_width": null,
            "min_height": null,
            "min_width": null,
            "object_fit": null,
            "object_position": null,
            "order": null,
            "overflow": null,
            "overflow_x": null,
            "overflow_y": null,
            "padding": null,
            "right": null,
            "top": null,
            "visibility": null,
            "width": null
          }
        },
        "1827505af61649ceba27a6491ebc3af1": {
          "model_module": "@jupyter-widgets/base",
          "model_name": "LayoutModel",
          "model_module_version": "1.2.0",
          "state": {
            "_model_module": "@jupyter-widgets/base",
            "_model_module_version": "1.2.0",
            "_model_name": "LayoutModel",
            "_view_count": null,
            "_view_module": "@jupyter-widgets/base",
            "_view_module_version": "1.2.0",
            "_view_name": "LayoutView",
            "align_content": null,
            "align_items": null,
            "align_self": null,
            "border": null,
            "bottom": null,
            "display": null,
            "flex": null,
            "flex_flow": null,
            "grid_area": null,
            "grid_auto_columns": null,
            "grid_auto_flow": null,
            "grid_auto_rows": null,
            "grid_column": null,
            "grid_gap": null,
            "grid_row": null,
            "grid_template_areas": null,
            "grid_template_columns": null,
            "grid_template_rows": null,
            "height": null,
            "justify_content": null,
            "justify_items": null,
            "left": null,
            "margin": null,
            "max_height": null,
            "max_width": null,
            "min_height": null,
            "min_width": null,
            "object_fit": null,
            "object_position": null,
            "order": null,
            "overflow": null,
            "overflow_x": null,
            "overflow_y": null,
            "padding": null,
            "right": null,
            "top": null,
            "visibility": null,
            "width": null
          }
        },
        "98cc47a7e73b48b9b3238431c86168b4": {
          "model_module": "@jupyter-widgets/controls",
          "model_name": "DescriptionStyleModel",
          "model_module_version": "1.5.0",
          "state": {
            "_model_module": "@jupyter-widgets/controls",
            "_model_module_version": "1.5.0",
            "_model_name": "DescriptionStyleModel",
            "_view_count": null,
            "_view_module": "@jupyter-widgets/base",
            "_view_module_version": "1.2.0",
            "_view_name": "StyleView",
            "description_width": ""
          }
        },
        "be5b681182d14af6895cfaddf111d486": {
          "model_module": "@jupyter-widgets/base",
          "model_name": "LayoutModel",
          "model_module_version": "1.2.0",
          "state": {
            "_model_module": "@jupyter-widgets/base",
            "_model_module_version": "1.2.0",
            "_model_name": "LayoutModel",
            "_view_count": null,
            "_view_module": "@jupyter-widgets/base",
            "_view_module_version": "1.2.0",
            "_view_name": "LayoutView",
            "align_content": null,
            "align_items": null,
            "align_self": null,
            "border": null,
            "bottom": null,
            "display": null,
            "flex": null,
            "flex_flow": null,
            "grid_area": null,
            "grid_auto_columns": null,
            "grid_auto_flow": null,
            "grid_auto_rows": null,
            "grid_column": null,
            "grid_gap": null,
            "grid_row": null,
            "grid_template_areas": null,
            "grid_template_columns": null,
            "grid_template_rows": null,
            "height": null,
            "justify_content": null,
            "justify_items": null,
            "left": null,
            "margin": null,
            "max_height": null,
            "max_width": null,
            "min_height": null,
            "min_width": null,
            "object_fit": null,
            "object_position": null,
            "order": null,
            "overflow": null,
            "overflow_x": null,
            "overflow_y": null,
            "padding": null,
            "right": null,
            "top": null,
            "visibility": null,
            "width": null
          }
        },
        "47e91bbb8dd64797a6552c239a28ead7": {
          "model_module": "@jupyter-widgets/controls",
          "model_name": "ProgressStyleModel",
          "model_module_version": "1.5.0",
          "state": {
            "_model_module": "@jupyter-widgets/controls",
            "_model_module_version": "1.5.0",
            "_model_name": "ProgressStyleModel",
            "_view_count": null,
            "_view_module": "@jupyter-widgets/base",
            "_view_module_version": "1.2.0",
            "_view_name": "StyleView",
            "bar_color": null,
            "description_width": ""
          }
        },
        "8c8e4de0beae4d70a8c17b3c0b2b73bc": {
          "model_module": "@jupyter-widgets/base",
          "model_name": "LayoutModel",
          "model_module_version": "1.2.0",
          "state": {
            "_model_module": "@jupyter-widgets/base",
            "_model_module_version": "1.2.0",
            "_model_name": "LayoutModel",
            "_view_count": null,
            "_view_module": "@jupyter-widgets/base",
            "_view_module_version": "1.2.0",
            "_view_name": "LayoutView",
            "align_content": null,
            "align_items": null,
            "align_self": null,
            "border": null,
            "bottom": null,
            "display": null,
            "flex": null,
            "flex_flow": null,
            "grid_area": null,
            "grid_auto_columns": null,
            "grid_auto_flow": null,
            "grid_auto_rows": null,
            "grid_column": null,
            "grid_gap": null,
            "grid_row": null,
            "grid_template_areas": null,
            "grid_template_columns": null,
            "grid_template_rows": null,
            "height": null,
            "justify_content": null,
            "justify_items": null,
            "left": null,
            "margin": null,
            "max_height": null,
            "max_width": null,
            "min_height": null,
            "min_width": null,
            "object_fit": null,
            "object_position": null,
            "order": null,
            "overflow": null,
            "overflow_x": null,
            "overflow_y": null,
            "padding": null,
            "right": null,
            "top": null,
            "visibility": null,
            "width": null
          }
        },
        "5cbc6cd826164016bd6e5e7232203118": {
          "model_module": "@jupyter-widgets/controls",
          "model_name": "DescriptionStyleModel",
          "model_module_version": "1.5.0",
          "state": {
            "_model_module": "@jupyter-widgets/controls",
            "_model_module_version": "1.5.0",
            "_model_name": "DescriptionStyleModel",
            "_view_count": null,
            "_view_module": "@jupyter-widgets/base",
            "_view_module_version": "1.2.0",
            "_view_name": "StyleView",
            "description_width": ""
          }
        },
        "6f9a7f77bfd84ef288b619bdec1c7316": {
          "model_module": "@jupyter-widgets/controls",
          "model_name": "HBoxModel",
          "model_module_version": "1.5.0",
          "state": {
            "_dom_classes": [],
            "_model_module": "@jupyter-widgets/controls",
            "_model_module_version": "1.5.0",
            "_model_name": "HBoxModel",
            "_view_count": null,
            "_view_module": "@jupyter-widgets/controls",
            "_view_module_version": "1.5.0",
            "_view_name": "HBoxView",
            "box_style": "",
            "children": [
              "IPY_MODEL_2b87cec06b42462f9302476142a49c15",
              "IPY_MODEL_654a6063b9374ea6ad54c282cc1ea27d",
              "IPY_MODEL_8fc891f78f60495985e443112ff06246"
            ],
            "layout": "IPY_MODEL_9f40d146db904fcf9c49332b9f4f6273"
          }
        },
        "2b87cec06b42462f9302476142a49c15": {
          "model_module": "@jupyter-widgets/controls",
          "model_name": "HTMLModel",
          "model_module_version": "1.5.0",
          "state": {
            "_dom_classes": [],
            "_model_module": "@jupyter-widgets/controls",
            "_model_module_version": "1.5.0",
            "_model_name": "HTMLModel",
            "_view_count": null,
            "_view_module": "@jupyter-widgets/controls",
            "_view_module_version": "1.5.0",
            "_view_name": "HTMLView",
            "description": "",
            "description_tooltip": null,
            "layout": "IPY_MODEL_deffb7903fe94aac960ebcc294e425ce",
            "placeholder": "​",
            "style": "IPY_MODEL_44000233ad8a4659aa190e6f03f4b7d4",
            "value": "config.json: 100%"
          }
        },
        "654a6063b9374ea6ad54c282cc1ea27d": {
          "model_module": "@jupyter-widgets/controls",
          "model_name": "FloatProgressModel",
          "model_module_version": "1.5.0",
          "state": {
            "_dom_classes": [],
            "_model_module": "@jupyter-widgets/controls",
            "_model_module_version": "1.5.0",
            "_model_name": "FloatProgressModel",
            "_view_count": null,
            "_view_module": "@jupyter-widgets/controls",
            "_view_module_version": "1.5.0",
            "_view_name": "ProgressView",
            "bar_style": "success",
            "description": "",
            "description_tooltip": null,
            "layout": "IPY_MODEL_9e44d541a9ea48d69fa01f63fbe37285",
            "max": 483,
            "min": 0,
            "orientation": "horizontal",
            "style": "IPY_MODEL_61f9be10618b4328af2086974f796d11",
            "value": 483
          }
        },
        "8fc891f78f60495985e443112ff06246": {
          "model_module": "@jupyter-widgets/controls",
          "model_name": "HTMLModel",
          "model_module_version": "1.5.0",
          "state": {
            "_dom_classes": [],
            "_model_module": "@jupyter-widgets/controls",
            "_model_module_version": "1.5.0",
            "_model_name": "HTMLModel",
            "_view_count": null,
            "_view_module": "@jupyter-widgets/controls",
            "_view_module_version": "1.5.0",
            "_view_name": "HTMLView",
            "description": "",
            "description_tooltip": null,
            "layout": "IPY_MODEL_76e3631693b645a181edf2d32dbd4927",
            "placeholder": "​",
            "style": "IPY_MODEL_11f037823b1648e0b8b3f003f5ed8ec0",
            "value": " 483/483 [00:00&lt;00:00, 45.7kB/s]"
          }
        },
        "9f40d146db904fcf9c49332b9f4f6273": {
          "model_module": "@jupyter-widgets/base",
          "model_name": "LayoutModel",
          "model_module_version": "1.2.0",
          "state": {
            "_model_module": "@jupyter-widgets/base",
            "_model_module_version": "1.2.0",
            "_model_name": "LayoutModel",
            "_view_count": null,
            "_view_module": "@jupyter-widgets/base",
            "_view_module_version": "1.2.0",
            "_view_name": "LayoutView",
            "align_content": null,
            "align_items": null,
            "align_self": null,
            "border": null,
            "bottom": null,
            "display": null,
            "flex": null,
            "flex_flow": null,
            "grid_area": null,
            "grid_auto_columns": null,
            "grid_auto_flow": null,
            "grid_auto_rows": null,
            "grid_column": null,
            "grid_gap": null,
            "grid_row": null,
            "grid_template_areas": null,
            "grid_template_columns": null,
            "grid_template_rows": null,
            "height": null,
            "justify_content": null,
            "justify_items": null,
            "left": null,
            "margin": null,
            "max_height": null,
            "max_width": null,
            "min_height": null,
            "min_width": null,
            "object_fit": null,
            "object_position": null,
            "order": null,
            "overflow": null,
            "overflow_x": null,
            "overflow_y": null,
            "padding": null,
            "right": null,
            "top": null,
            "visibility": null,
            "width": null
          }
        },
        "deffb7903fe94aac960ebcc294e425ce": {
          "model_module": "@jupyter-widgets/base",
          "model_name": "LayoutModel",
          "model_module_version": "1.2.0",
          "state": {
            "_model_module": "@jupyter-widgets/base",
            "_model_module_version": "1.2.0",
            "_model_name": "LayoutModel",
            "_view_count": null,
            "_view_module": "@jupyter-widgets/base",
            "_view_module_version": "1.2.0",
            "_view_name": "LayoutView",
            "align_content": null,
            "align_items": null,
            "align_self": null,
            "border": null,
            "bottom": null,
            "display": null,
            "flex": null,
            "flex_flow": null,
            "grid_area": null,
            "grid_auto_columns": null,
            "grid_auto_flow": null,
            "grid_auto_rows": null,
            "grid_column": null,
            "grid_gap": null,
            "grid_row": null,
            "grid_template_areas": null,
            "grid_template_columns": null,
            "grid_template_rows": null,
            "height": null,
            "justify_content": null,
            "justify_items": null,
            "left": null,
            "margin": null,
            "max_height": null,
            "max_width": null,
            "min_height": null,
            "min_width": null,
            "object_fit": null,
            "object_position": null,
            "order": null,
            "overflow": null,
            "overflow_x": null,
            "overflow_y": null,
            "padding": null,
            "right": null,
            "top": null,
            "visibility": null,
            "width": null
          }
        },
        "44000233ad8a4659aa190e6f03f4b7d4": {
          "model_module": "@jupyter-widgets/controls",
          "model_name": "DescriptionStyleModel",
          "model_module_version": "1.5.0",
          "state": {
            "_model_module": "@jupyter-widgets/controls",
            "_model_module_version": "1.5.0",
            "_model_name": "DescriptionStyleModel",
            "_view_count": null,
            "_view_module": "@jupyter-widgets/base",
            "_view_module_version": "1.2.0",
            "_view_name": "StyleView",
            "description_width": ""
          }
        },
        "9e44d541a9ea48d69fa01f63fbe37285": {
          "model_module": "@jupyter-widgets/base",
          "model_name": "LayoutModel",
          "model_module_version": "1.2.0",
          "state": {
            "_model_module": "@jupyter-widgets/base",
            "_model_module_version": "1.2.0",
            "_model_name": "LayoutModel",
            "_view_count": null,
            "_view_module": "@jupyter-widgets/base",
            "_view_module_version": "1.2.0",
            "_view_name": "LayoutView",
            "align_content": null,
            "align_items": null,
            "align_self": null,
            "border": null,
            "bottom": null,
            "display": null,
            "flex": null,
            "flex_flow": null,
            "grid_area": null,
            "grid_auto_columns": null,
            "grid_auto_flow": null,
            "grid_auto_rows": null,
            "grid_column": null,
            "grid_gap": null,
            "grid_row": null,
            "grid_template_areas": null,
            "grid_template_columns": null,
            "grid_template_rows": null,
            "height": null,
            "justify_content": null,
            "justify_items": null,
            "left": null,
            "margin": null,
            "max_height": null,
            "max_width": null,
            "min_height": null,
            "min_width": null,
            "object_fit": null,
            "object_position": null,
            "order": null,
            "overflow": null,
            "overflow_x": null,
            "overflow_y": null,
            "padding": null,
            "right": null,
            "top": null,
            "visibility": null,
            "width": null
          }
        },
        "61f9be10618b4328af2086974f796d11": {
          "model_module": "@jupyter-widgets/controls",
          "model_name": "ProgressStyleModel",
          "model_module_version": "1.5.0",
          "state": {
            "_model_module": "@jupyter-widgets/controls",
            "_model_module_version": "1.5.0",
            "_model_name": "ProgressStyleModel",
            "_view_count": null,
            "_view_module": "@jupyter-widgets/base",
            "_view_module_version": "1.2.0",
            "_view_name": "StyleView",
            "bar_color": null,
            "description_width": ""
          }
        },
        "76e3631693b645a181edf2d32dbd4927": {
          "model_module": "@jupyter-widgets/base",
          "model_name": "LayoutModel",
          "model_module_version": "1.2.0",
          "state": {
            "_model_module": "@jupyter-widgets/base",
            "_model_module_version": "1.2.0",
            "_model_name": "LayoutModel",
            "_view_count": null,
            "_view_module": "@jupyter-widgets/base",
            "_view_module_version": "1.2.0",
            "_view_name": "LayoutView",
            "align_content": null,
            "align_items": null,
            "align_self": null,
            "border": null,
            "bottom": null,
            "display": null,
            "flex": null,
            "flex_flow": null,
            "grid_area": null,
            "grid_auto_columns": null,
            "grid_auto_flow": null,
            "grid_auto_rows": null,
            "grid_column": null,
            "grid_gap": null,
            "grid_row": null,
            "grid_template_areas": null,
            "grid_template_columns": null,
            "grid_template_rows": null,
            "height": null,
            "justify_content": null,
            "justify_items": null,
            "left": null,
            "margin": null,
            "max_height": null,
            "max_width": null,
            "min_height": null,
            "min_width": null,
            "object_fit": null,
            "object_position": null,
            "order": null,
            "overflow": null,
            "overflow_x": null,
            "overflow_y": null,
            "padding": null,
            "right": null,
            "top": null,
            "visibility": null,
            "width": null
          }
        },
        "11f037823b1648e0b8b3f003f5ed8ec0": {
          "model_module": "@jupyter-widgets/controls",
          "model_name": "DescriptionStyleModel",
          "model_module_version": "1.5.0",
          "state": {
            "_model_module": "@jupyter-widgets/controls",
            "_model_module_version": "1.5.0",
            "_model_name": "DescriptionStyleModel",
            "_view_count": null,
            "_view_module": "@jupyter-widgets/base",
            "_view_module_version": "1.2.0",
            "_view_name": "StyleView",
            "description_width": ""
          }
        },
        "dd35846136b84ba3bd196c952a07780d": {
          "model_module": "@jupyter-widgets/controls",
          "model_name": "HBoxModel",
          "model_module_version": "1.5.0",
          "state": {
            "_dom_classes": [],
            "_model_module": "@jupyter-widgets/controls",
            "_model_module_version": "1.5.0",
            "_model_name": "HBoxModel",
            "_view_count": null,
            "_view_module": "@jupyter-widgets/controls",
            "_view_module_version": "1.5.0",
            "_view_name": "HBoxView",
            "box_style": "",
            "children": [
              "IPY_MODEL_b24d281501ba422490647eff76f3d8bb",
              "IPY_MODEL_3a8ad62a1bc0422496e0d4c2d34c4eba",
              "IPY_MODEL_ad21f7ff79114d99819b152c1d837a68"
            ],
            "layout": "IPY_MODEL_6e9492f8cf704e34916869d16890eb1e"
          }
        },
        "b24d281501ba422490647eff76f3d8bb": {
          "model_module": "@jupyter-widgets/controls",
          "model_name": "HTMLModel",
          "model_module_version": "1.5.0",
          "state": {
            "_dom_classes": [],
            "_model_module": "@jupyter-widgets/controls",
            "_model_module_version": "1.5.0",
            "_model_name": "HTMLModel",
            "_view_count": null,
            "_view_module": "@jupyter-widgets/controls",
            "_view_module_version": "1.5.0",
            "_view_name": "HTMLView",
            "description": "",
            "description_tooltip": null,
            "layout": "IPY_MODEL_b99de984bfa54caa8504874575df9851",
            "placeholder": "​",
            "style": "IPY_MODEL_ca652bdd2669494c827aa143ba1dd3f1",
            "value": "model.safetensors: 100%"
          }
        },
        "3a8ad62a1bc0422496e0d4c2d34c4eba": {
          "model_module": "@jupyter-widgets/controls",
          "model_name": "FloatProgressModel",
          "model_module_version": "1.5.0",
          "state": {
            "_dom_classes": [],
            "_model_module": "@jupyter-widgets/controls",
            "_model_module_version": "1.5.0",
            "_model_name": "FloatProgressModel",
            "_view_count": null,
            "_view_module": "@jupyter-widgets/controls",
            "_view_module_version": "1.5.0",
            "_view_name": "ProgressView",
            "bar_style": "success",
            "description": "",
            "description_tooltip": null,
            "layout": "IPY_MODEL_b1c0cdd8280c4867a46a1f463e000f08",
            "max": 267954768,
            "min": 0,
            "orientation": "horizontal",
            "style": "IPY_MODEL_fceb9b598ca54430a900d3ccdb94aa64",
            "value": 267954768
          }
        },
        "ad21f7ff79114d99819b152c1d837a68": {
          "model_module": "@jupyter-widgets/controls",
          "model_name": "HTMLModel",
          "model_module_version": "1.5.0",
          "state": {
            "_dom_classes": [],
            "_model_module": "@jupyter-widgets/controls",
            "_model_module_version": "1.5.0",
            "_model_name": "HTMLModel",
            "_view_count": null,
            "_view_module": "@jupyter-widgets/controls",
            "_view_module_version": "1.5.0",
            "_view_name": "HTMLView",
            "description": "",
            "description_tooltip": null,
            "layout": "IPY_MODEL_976208269a3748c9bd541a59722e68f7",
            "placeholder": "​",
            "style": "IPY_MODEL_3c62526b3020401e92ad2c7ad70cd8cc",
            "value": " 268M/268M [00:01&lt;00:00, 186MB/s]"
          }
        },
        "6e9492f8cf704e34916869d16890eb1e": {
          "model_module": "@jupyter-widgets/base",
          "model_name": "LayoutModel",
          "model_module_version": "1.2.0",
          "state": {
            "_model_module": "@jupyter-widgets/base",
            "_model_module_version": "1.2.0",
            "_model_name": "LayoutModel",
            "_view_count": null,
            "_view_module": "@jupyter-widgets/base",
            "_view_module_version": "1.2.0",
            "_view_name": "LayoutView",
            "align_content": null,
            "align_items": null,
            "align_self": null,
            "border": null,
            "bottom": null,
            "display": null,
            "flex": null,
            "flex_flow": null,
            "grid_area": null,
            "grid_auto_columns": null,
            "grid_auto_flow": null,
            "grid_auto_rows": null,
            "grid_column": null,
            "grid_gap": null,
            "grid_row": null,
            "grid_template_areas": null,
            "grid_template_columns": null,
            "grid_template_rows": null,
            "height": null,
            "justify_content": null,
            "justify_items": null,
            "left": null,
            "margin": null,
            "max_height": null,
            "max_width": null,
            "min_height": null,
            "min_width": null,
            "object_fit": null,
            "object_position": null,
            "order": null,
            "overflow": null,
            "overflow_x": null,
            "overflow_y": null,
            "padding": null,
            "right": null,
            "top": null,
            "visibility": null,
            "width": null
          }
        },
        "b99de984bfa54caa8504874575df9851": {
          "model_module": "@jupyter-widgets/base",
          "model_name": "LayoutModel",
          "model_module_version": "1.2.0",
          "state": {
            "_model_module": "@jupyter-widgets/base",
            "_model_module_version": "1.2.0",
            "_model_name": "LayoutModel",
            "_view_count": null,
            "_view_module": "@jupyter-widgets/base",
            "_view_module_version": "1.2.0",
            "_view_name": "LayoutView",
            "align_content": null,
            "align_items": null,
            "align_self": null,
            "border": null,
            "bottom": null,
            "display": null,
            "flex": null,
            "flex_flow": null,
            "grid_area": null,
            "grid_auto_columns": null,
            "grid_auto_flow": null,
            "grid_auto_rows": null,
            "grid_column": null,
            "grid_gap": null,
            "grid_row": null,
            "grid_template_areas": null,
            "grid_template_columns": null,
            "grid_template_rows": null,
            "height": null,
            "justify_content": null,
            "justify_items": null,
            "left": null,
            "margin": null,
            "max_height": null,
            "max_width": null,
            "min_height": null,
            "min_width": null,
            "object_fit": null,
            "object_position": null,
            "order": null,
            "overflow": null,
            "overflow_x": null,
            "overflow_y": null,
            "padding": null,
            "right": null,
            "top": null,
            "visibility": null,
            "width": null
          }
        },
        "ca652bdd2669494c827aa143ba1dd3f1": {
          "model_module": "@jupyter-widgets/controls",
          "model_name": "DescriptionStyleModel",
          "model_module_version": "1.5.0",
          "state": {
            "_model_module": "@jupyter-widgets/controls",
            "_model_module_version": "1.5.0",
            "_model_name": "DescriptionStyleModel",
            "_view_count": null,
            "_view_module": "@jupyter-widgets/base",
            "_view_module_version": "1.2.0",
            "_view_name": "StyleView",
            "description_width": ""
          }
        },
        "b1c0cdd8280c4867a46a1f463e000f08": {
          "model_module": "@jupyter-widgets/base",
          "model_name": "LayoutModel",
          "model_module_version": "1.2.0",
          "state": {
            "_model_module": "@jupyter-widgets/base",
            "_model_module_version": "1.2.0",
            "_model_name": "LayoutModel",
            "_view_count": null,
            "_view_module": "@jupyter-widgets/base",
            "_view_module_version": "1.2.0",
            "_view_name": "LayoutView",
            "align_content": null,
            "align_items": null,
            "align_self": null,
            "border": null,
            "bottom": null,
            "display": null,
            "flex": null,
            "flex_flow": null,
            "grid_area": null,
            "grid_auto_columns": null,
            "grid_auto_flow": null,
            "grid_auto_rows": null,
            "grid_column": null,
            "grid_gap": null,
            "grid_row": null,
            "grid_template_areas": null,
            "grid_template_columns": null,
            "grid_template_rows": null,
            "height": null,
            "justify_content": null,
            "justify_items": null,
            "left": null,
            "margin": null,
            "max_height": null,
            "max_width": null,
            "min_height": null,
            "min_width": null,
            "object_fit": null,
            "object_position": null,
            "order": null,
            "overflow": null,
            "overflow_x": null,
            "overflow_y": null,
            "padding": null,
            "right": null,
            "top": null,
            "visibility": null,
            "width": null
          }
        },
        "fceb9b598ca54430a900d3ccdb94aa64": {
          "model_module": "@jupyter-widgets/controls",
          "model_name": "ProgressStyleModel",
          "model_module_version": "1.5.0",
          "state": {
            "_model_module": "@jupyter-widgets/controls",
            "_model_module_version": "1.5.0",
            "_model_name": "ProgressStyleModel",
            "_view_count": null,
            "_view_module": "@jupyter-widgets/base",
            "_view_module_version": "1.2.0",
            "_view_name": "StyleView",
            "bar_color": null,
            "description_width": ""
          }
        },
        "976208269a3748c9bd541a59722e68f7": {
          "model_module": "@jupyter-widgets/base",
          "model_name": "LayoutModel",
          "model_module_version": "1.2.0",
          "state": {
            "_model_module": "@jupyter-widgets/base",
            "_model_module_version": "1.2.0",
            "_model_name": "LayoutModel",
            "_view_count": null,
            "_view_module": "@jupyter-widgets/base",
            "_view_module_version": "1.2.0",
            "_view_name": "LayoutView",
            "align_content": null,
            "align_items": null,
            "align_self": null,
            "border": null,
            "bottom": null,
            "display": null,
            "flex": null,
            "flex_flow": null,
            "grid_area": null,
            "grid_auto_columns": null,
            "grid_auto_flow": null,
            "grid_auto_rows": null,
            "grid_column": null,
            "grid_gap": null,
            "grid_row": null,
            "grid_template_areas": null,
            "grid_template_columns": null,
            "grid_template_rows": null,
            "height": null,
            "justify_content": null,
            "justify_items": null,
            "left": null,
            "margin": null,
            "max_height": null,
            "max_width": null,
            "min_height": null,
            "min_width": null,
            "object_fit": null,
            "object_position": null,
            "order": null,
            "overflow": null,
            "overflow_x": null,
            "overflow_y": null,
            "padding": null,
            "right": null,
            "top": null,
            "visibility": null,
            "width": null
          }
        },
        "3c62526b3020401e92ad2c7ad70cd8cc": {
          "model_module": "@jupyter-widgets/controls",
          "model_name": "DescriptionStyleModel",
          "model_module_version": "1.5.0",
          "state": {
            "_model_module": "@jupyter-widgets/controls",
            "_model_module_version": "1.5.0",
            "_model_name": "DescriptionStyleModel",
            "_view_count": null,
            "_view_module": "@jupyter-widgets/base",
            "_view_module_version": "1.2.0",
            "_view_name": "StyleView",
            "description_width": ""
          }
        },
        "2b5925611574432d99049dce803d2129": {
          "model_module": "@jupyter-widgets/controls",
          "model_name": "HBoxModel",
          "model_module_version": "1.5.0",
          "state": {
            "_dom_classes": [],
            "_model_module": "@jupyter-widgets/controls",
            "_model_module_version": "1.5.0",
            "_model_name": "HBoxModel",
            "_view_count": null,
            "_view_module": "@jupyter-widgets/controls",
            "_view_module_version": "1.5.0",
            "_view_name": "HBoxView",
            "box_style": "",
            "children": [
              "IPY_MODEL_73a610f394d44773b02c8bad85e07b6d",
              "IPY_MODEL_e829d3250ef5483bac56985195f312be",
              "IPY_MODEL_26538dab22314c90b641c7d64c8b6813"
            ],
            "layout": "IPY_MODEL_64bb54efb0da4db19c3d11d795c2eb00"
          }
        },
        "73a610f394d44773b02c8bad85e07b6d": {
          "model_module": "@jupyter-widgets/controls",
          "model_name": "HTMLModel",
          "model_module_version": "1.5.0",
          "state": {
            "_dom_classes": [],
            "_model_module": "@jupyter-widgets/controls",
            "_model_module_version": "1.5.0",
            "_model_name": "HTMLModel",
            "_view_count": null,
            "_view_module": "@jupyter-widgets/controls",
            "_view_module_version": "1.5.0",
            "_view_name": "HTMLView",
            "description": "",
            "description_tooltip": null,
            "layout": "IPY_MODEL_9d6714f0633448948b33cb8e70c6a734",
            "placeholder": "​",
            "style": "IPY_MODEL_2c94f589f65e4a03b8eab0fbf27059ce",
            "value": "Map: 100%"
          }
        },
        "e829d3250ef5483bac56985195f312be": {
          "model_module": "@jupyter-widgets/controls",
          "model_name": "FloatProgressModel",
          "model_module_version": "1.5.0",
          "state": {
            "_dom_classes": [],
            "_model_module": "@jupyter-widgets/controls",
            "_model_module_version": "1.5.0",
            "_model_name": "FloatProgressModel",
            "_view_count": null,
            "_view_module": "@jupyter-widgets/controls",
            "_view_module_version": "1.5.0",
            "_view_name": "ProgressView",
            "bar_style": "success",
            "description": "",
            "description_tooltip": null,
            "layout": "IPY_MODEL_13708bd7c6504c808bf51393ce3dae32",
            "max": 18726,
            "min": 0,
            "orientation": "horizontal",
            "style": "IPY_MODEL_180ed578a524450eb00aa3948ac236a5",
            "value": 18726
          }
        },
        "26538dab22314c90b641c7d64c8b6813": {
          "model_module": "@jupyter-widgets/controls",
          "model_name": "HTMLModel",
          "model_module_version": "1.5.0",
          "state": {
            "_dom_classes": [],
            "_model_module": "@jupyter-widgets/controls",
            "_model_module_version": "1.5.0",
            "_model_name": "HTMLModel",
            "_view_count": null,
            "_view_module": "@jupyter-widgets/controls",
            "_view_module_version": "1.5.0",
            "_view_name": "HTMLView",
            "description": "",
            "description_tooltip": null,
            "layout": "IPY_MODEL_fc95fb3b8a324cd9af8641b8eaf0ed69",
            "placeholder": "​",
            "style": "IPY_MODEL_3567b9a900024b22ab9baa340f0b6d9c",
            "value": " 18726/18726 [00:07&lt;00:00, 2444.70 examples/s]"
          }
        },
        "64bb54efb0da4db19c3d11d795c2eb00": {
          "model_module": "@jupyter-widgets/base",
          "model_name": "LayoutModel",
          "model_module_version": "1.2.0",
          "state": {
            "_model_module": "@jupyter-widgets/base",
            "_model_module_version": "1.2.0",
            "_model_name": "LayoutModel",
            "_view_count": null,
            "_view_module": "@jupyter-widgets/base",
            "_view_module_version": "1.2.0",
            "_view_name": "LayoutView",
            "align_content": null,
            "align_items": null,
            "align_self": null,
            "border": null,
            "bottom": null,
            "display": null,
            "flex": null,
            "flex_flow": null,
            "grid_area": null,
            "grid_auto_columns": null,
            "grid_auto_flow": null,
            "grid_auto_rows": null,
            "grid_column": null,
            "grid_gap": null,
            "grid_row": null,
            "grid_template_areas": null,
            "grid_template_columns": null,
            "grid_template_rows": null,
            "height": null,
            "justify_content": null,
            "justify_items": null,
            "left": null,
            "margin": null,
            "max_height": null,
            "max_width": null,
            "min_height": null,
            "min_width": null,
            "object_fit": null,
            "object_position": null,
            "order": null,
            "overflow": null,
            "overflow_x": null,
            "overflow_y": null,
            "padding": null,
            "right": null,
            "top": null,
            "visibility": null,
            "width": null
          }
        },
        "9d6714f0633448948b33cb8e70c6a734": {
          "model_module": "@jupyter-widgets/base",
          "model_name": "LayoutModel",
          "model_module_version": "1.2.0",
          "state": {
            "_model_module": "@jupyter-widgets/base",
            "_model_module_version": "1.2.0",
            "_model_name": "LayoutModel",
            "_view_count": null,
            "_view_module": "@jupyter-widgets/base",
            "_view_module_version": "1.2.0",
            "_view_name": "LayoutView",
            "align_content": null,
            "align_items": null,
            "align_self": null,
            "border": null,
            "bottom": null,
            "display": null,
            "flex": null,
            "flex_flow": null,
            "grid_area": null,
            "grid_auto_columns": null,
            "grid_auto_flow": null,
            "grid_auto_rows": null,
            "grid_column": null,
            "grid_gap": null,
            "grid_row": null,
            "grid_template_areas": null,
            "grid_template_columns": null,
            "grid_template_rows": null,
            "height": null,
            "justify_content": null,
            "justify_items": null,
            "left": null,
            "margin": null,
            "max_height": null,
            "max_width": null,
            "min_height": null,
            "min_width": null,
            "object_fit": null,
            "object_position": null,
            "order": null,
            "overflow": null,
            "overflow_x": null,
            "overflow_y": null,
            "padding": null,
            "right": null,
            "top": null,
            "visibility": null,
            "width": null
          }
        },
        "2c94f589f65e4a03b8eab0fbf27059ce": {
          "model_module": "@jupyter-widgets/controls",
          "model_name": "DescriptionStyleModel",
          "model_module_version": "1.5.0",
          "state": {
            "_model_module": "@jupyter-widgets/controls",
            "_model_module_version": "1.5.0",
            "_model_name": "DescriptionStyleModel",
            "_view_count": null,
            "_view_module": "@jupyter-widgets/base",
            "_view_module_version": "1.2.0",
            "_view_name": "StyleView",
            "description_width": ""
          }
        },
        "13708bd7c6504c808bf51393ce3dae32": {
          "model_module": "@jupyter-widgets/base",
          "model_name": "LayoutModel",
          "model_module_version": "1.2.0",
          "state": {
            "_model_module": "@jupyter-widgets/base",
            "_model_module_version": "1.2.0",
            "_model_name": "LayoutModel",
            "_view_count": null,
            "_view_module": "@jupyter-widgets/base",
            "_view_module_version": "1.2.0",
            "_view_name": "LayoutView",
            "align_content": null,
            "align_items": null,
            "align_self": null,
            "border": null,
            "bottom": null,
            "display": null,
            "flex": null,
            "flex_flow": null,
            "grid_area": null,
            "grid_auto_columns": null,
            "grid_auto_flow": null,
            "grid_auto_rows": null,
            "grid_column": null,
            "grid_gap": null,
            "grid_row": null,
            "grid_template_areas": null,
            "grid_template_columns": null,
            "grid_template_rows": null,
            "height": null,
            "justify_content": null,
            "justify_items": null,
            "left": null,
            "margin": null,
            "max_height": null,
            "max_width": null,
            "min_height": null,
            "min_width": null,
            "object_fit": null,
            "object_position": null,
            "order": null,
            "overflow": null,
            "overflow_x": null,
            "overflow_y": null,
            "padding": null,
            "right": null,
            "top": null,
            "visibility": null,
            "width": null
          }
        },
        "180ed578a524450eb00aa3948ac236a5": {
          "model_module": "@jupyter-widgets/controls",
          "model_name": "ProgressStyleModel",
          "model_module_version": "1.5.0",
          "state": {
            "_model_module": "@jupyter-widgets/controls",
            "_model_module_version": "1.5.0",
            "_model_name": "ProgressStyleModel",
            "_view_count": null,
            "_view_module": "@jupyter-widgets/base",
            "_view_module_version": "1.2.0",
            "_view_name": "StyleView",
            "bar_color": null,
            "description_width": ""
          }
        },
        "fc95fb3b8a324cd9af8641b8eaf0ed69": {
          "model_module": "@jupyter-widgets/base",
          "model_name": "LayoutModel",
          "model_module_version": "1.2.0",
          "state": {
            "_model_module": "@jupyter-widgets/base",
            "_model_module_version": "1.2.0",
            "_model_name": "LayoutModel",
            "_view_count": null,
            "_view_module": "@jupyter-widgets/base",
            "_view_module_version": "1.2.0",
            "_view_name": "LayoutView",
            "align_content": null,
            "align_items": null,
            "align_self": null,
            "border": null,
            "bottom": null,
            "display": null,
            "flex": null,
            "flex_flow": null,
            "grid_area": null,
            "grid_auto_columns": null,
            "grid_auto_flow": null,
            "grid_auto_rows": null,
            "grid_column": null,
            "grid_gap": null,
            "grid_row": null,
            "grid_template_areas": null,
            "grid_template_columns": null,
            "grid_template_rows": null,
            "height": null,
            "justify_content": null,
            "justify_items": null,
            "left": null,
            "margin": null,
            "max_height": null,
            "max_width": null,
            "min_height": null,
            "min_width": null,
            "object_fit": null,
            "object_position": null,
            "order": null,
            "overflow": null,
            "overflow_x": null,
            "overflow_y": null,
            "padding": null,
            "right": null,
            "top": null,
            "visibility": null,
            "width": null
          }
        },
        "3567b9a900024b22ab9baa340f0b6d9c": {
          "model_module": "@jupyter-widgets/controls",
          "model_name": "DescriptionStyleModel",
          "model_module_version": "1.5.0",
          "state": {
            "_model_module": "@jupyter-widgets/controls",
            "_model_module_version": "1.5.0",
            "_model_name": "DescriptionStyleModel",
            "_view_count": null,
            "_view_module": "@jupyter-widgets/base",
            "_view_module_version": "1.2.0",
            "_view_name": "StyleView",
            "description_width": ""
          }
        },
        "e9e9676a30904b779b7b2ffe4e83a6ef": {
          "model_module": "@jupyter-widgets/controls",
          "model_name": "HBoxModel",
          "model_module_version": "1.5.0",
          "state": {
            "_dom_classes": [],
            "_model_module": "@jupyter-widgets/controls",
            "_model_module_version": "1.5.0",
            "_model_name": "HBoxModel",
            "_view_count": null,
            "_view_module": "@jupyter-widgets/controls",
            "_view_module_version": "1.5.0",
            "_view_name": "HBoxView",
            "box_style": "",
            "children": [
              "IPY_MODEL_ac1fa494859e4bb78b5c1f46cc1b9e3f",
              "IPY_MODEL_fea9af74c1f1427cb7e0ce136f10d1d6",
              "IPY_MODEL_a6f52c546d184453a594521f2683684f"
            ],
            "layout": "IPY_MODEL_758f539a347d45bbabfd5ba4d0d40edb"
          }
        },
        "ac1fa494859e4bb78b5c1f46cc1b9e3f": {
          "model_module": "@jupyter-widgets/controls",
          "model_name": "HTMLModel",
          "model_module_version": "1.5.0",
          "state": {
            "_dom_classes": [],
            "_model_module": "@jupyter-widgets/controls",
            "_model_module_version": "1.5.0",
            "_model_name": "HTMLModel",
            "_view_count": null,
            "_view_module": "@jupyter-widgets/controls",
            "_view_module_version": "1.5.0",
            "_view_name": "HTMLView",
            "description": "",
            "description_tooltip": null,
            "layout": "IPY_MODEL_0d1ad8d562e9499783e01591174a9e05",
            "placeholder": "​",
            "style": "IPY_MODEL_ba5382fd5f1f477d8d3f854e6979e660",
            "value": "Map: 100%"
          }
        },
        "fea9af74c1f1427cb7e0ce136f10d1d6": {
          "model_module": "@jupyter-widgets/controls",
          "model_name": "FloatProgressModel",
          "model_module_version": "1.5.0",
          "state": {
            "_dom_classes": [],
            "_model_module": "@jupyter-widgets/controls",
            "_model_module_version": "1.5.0",
            "_model_name": "FloatProgressModel",
            "_view_count": null,
            "_view_module": "@jupyter-widgets/controls",
            "_view_module_version": "1.5.0",
            "_view_name": "ProgressView",
            "bar_style": "success",
            "description": "",
            "description_tooltip": null,
            "layout": "IPY_MODEL_5a5df88adf0f40e393df32042fcaffa1",
            "max": 18726,
            "min": 0,
            "orientation": "horizontal",
            "style": "IPY_MODEL_569d321b93a145c299fda7253a307bae",
            "value": 18726
          }
        },
        "a6f52c546d184453a594521f2683684f": {
          "model_module": "@jupyter-widgets/controls",
          "model_name": "HTMLModel",
          "model_module_version": "1.5.0",
          "state": {
            "_dom_classes": [],
            "_model_module": "@jupyter-widgets/controls",
            "_model_module_version": "1.5.0",
            "_model_name": "HTMLModel",
            "_view_count": null,
            "_view_module": "@jupyter-widgets/controls",
            "_view_module_version": "1.5.0",
            "_view_name": "HTMLView",
            "description": "",
            "description_tooltip": null,
            "layout": "IPY_MODEL_b5327b5fa6774f4b9292126af38c4b92",
            "placeholder": "​",
            "style": "IPY_MODEL_fb9c3b6fb176455198768e5857c7650c",
            "value": " 18726/18726 [00:44&lt;00:00, 421.11 examples/s]"
          }
        },
        "758f539a347d45bbabfd5ba4d0d40edb": {
          "model_module": "@jupyter-widgets/base",
          "model_name": "LayoutModel",
          "model_module_version": "1.2.0",
          "state": {
            "_model_module": "@jupyter-widgets/base",
            "_model_module_version": "1.2.0",
            "_model_name": "LayoutModel",
            "_view_count": null,
            "_view_module": "@jupyter-widgets/base",
            "_view_module_version": "1.2.0",
            "_view_name": "LayoutView",
            "align_content": null,
            "align_items": null,
            "align_self": null,
            "border": null,
            "bottom": null,
            "display": null,
            "flex": null,
            "flex_flow": null,
            "grid_area": null,
            "grid_auto_columns": null,
            "grid_auto_flow": null,
            "grid_auto_rows": null,
            "grid_column": null,
            "grid_gap": null,
            "grid_row": null,
            "grid_template_areas": null,
            "grid_template_columns": null,
            "grid_template_rows": null,
            "height": null,
            "justify_content": null,
            "justify_items": null,
            "left": null,
            "margin": null,
            "max_height": null,
            "max_width": null,
            "min_height": null,
            "min_width": null,
            "object_fit": null,
            "object_position": null,
            "order": null,
            "overflow": null,
            "overflow_x": null,
            "overflow_y": null,
            "padding": null,
            "right": null,
            "top": null,
            "visibility": null,
            "width": null
          }
        },
        "0d1ad8d562e9499783e01591174a9e05": {
          "model_module": "@jupyter-widgets/base",
          "model_name": "LayoutModel",
          "model_module_version": "1.2.0",
          "state": {
            "_model_module": "@jupyter-widgets/base",
            "_model_module_version": "1.2.0",
            "_model_name": "LayoutModel",
            "_view_count": null,
            "_view_module": "@jupyter-widgets/base",
            "_view_module_version": "1.2.0",
            "_view_name": "LayoutView",
            "align_content": null,
            "align_items": null,
            "align_self": null,
            "border": null,
            "bottom": null,
            "display": null,
            "flex": null,
            "flex_flow": null,
            "grid_area": null,
            "grid_auto_columns": null,
            "grid_auto_flow": null,
            "grid_auto_rows": null,
            "grid_column": null,
            "grid_gap": null,
            "grid_row": null,
            "grid_template_areas": null,
            "grid_template_columns": null,
            "grid_template_rows": null,
            "height": null,
            "justify_content": null,
            "justify_items": null,
            "left": null,
            "margin": null,
            "max_height": null,
            "max_width": null,
            "min_height": null,
            "min_width": null,
            "object_fit": null,
            "object_position": null,
            "order": null,
            "overflow": null,
            "overflow_x": null,
            "overflow_y": null,
            "padding": null,
            "right": null,
            "top": null,
            "visibility": null,
            "width": null
          }
        },
        "ba5382fd5f1f477d8d3f854e6979e660": {
          "model_module": "@jupyter-widgets/controls",
          "model_name": "DescriptionStyleModel",
          "model_module_version": "1.5.0",
          "state": {
            "_model_module": "@jupyter-widgets/controls",
            "_model_module_version": "1.5.0",
            "_model_name": "DescriptionStyleModel",
            "_view_count": null,
            "_view_module": "@jupyter-widgets/base",
            "_view_module_version": "1.2.0",
            "_view_name": "StyleView",
            "description_width": ""
          }
        },
        "5a5df88adf0f40e393df32042fcaffa1": {
          "model_module": "@jupyter-widgets/base",
          "model_name": "LayoutModel",
          "model_module_version": "1.2.0",
          "state": {
            "_model_module": "@jupyter-widgets/base",
            "_model_module_version": "1.2.0",
            "_model_name": "LayoutModel",
            "_view_count": null,
            "_view_module": "@jupyter-widgets/base",
            "_view_module_version": "1.2.0",
            "_view_name": "LayoutView",
            "align_content": null,
            "align_items": null,
            "align_self": null,
            "border": null,
            "bottom": null,
            "display": null,
            "flex": null,
            "flex_flow": null,
            "grid_area": null,
            "grid_auto_columns": null,
            "grid_auto_flow": null,
            "grid_auto_rows": null,
            "grid_column": null,
            "grid_gap": null,
            "grid_row": null,
            "grid_template_areas": null,
            "grid_template_columns": null,
            "grid_template_rows": null,
            "height": null,
            "justify_content": null,
            "justify_items": null,
            "left": null,
            "margin": null,
            "max_height": null,
            "max_width": null,
            "min_height": null,
            "min_width": null,
            "object_fit": null,
            "object_position": null,
            "order": null,
            "overflow": null,
            "overflow_x": null,
            "overflow_y": null,
            "padding": null,
            "right": null,
            "top": null,
            "visibility": null,
            "width": null
          }
        },
        "569d321b93a145c299fda7253a307bae": {
          "model_module": "@jupyter-widgets/controls",
          "model_name": "ProgressStyleModel",
          "model_module_version": "1.5.0",
          "state": {
            "_model_module": "@jupyter-widgets/controls",
            "_model_module_version": "1.5.0",
            "_model_name": "ProgressStyleModel",
            "_view_count": null,
            "_view_module": "@jupyter-widgets/base",
            "_view_module_version": "1.2.0",
            "_view_name": "StyleView",
            "bar_color": null,
            "description_width": ""
          }
        },
        "b5327b5fa6774f4b9292126af38c4b92": {
          "model_module": "@jupyter-widgets/base",
          "model_name": "LayoutModel",
          "model_module_version": "1.2.0",
          "state": {
            "_model_module": "@jupyter-widgets/base",
            "_model_module_version": "1.2.0",
            "_model_name": "LayoutModel",
            "_view_count": null,
            "_view_module": "@jupyter-widgets/base",
            "_view_module_version": "1.2.0",
            "_view_name": "LayoutView",
            "align_content": null,
            "align_items": null,
            "align_self": null,
            "border": null,
            "bottom": null,
            "display": null,
            "flex": null,
            "flex_flow": null,
            "grid_area": null,
            "grid_auto_columns": null,
            "grid_auto_flow": null,
            "grid_auto_rows": null,
            "grid_column": null,
            "grid_gap": null,
            "grid_row": null,
            "grid_template_areas": null,
            "grid_template_columns": null,
            "grid_template_rows": null,
            "height": null,
            "justify_content": null,
            "justify_items": null,
            "left": null,
            "margin": null,
            "max_height": null,
            "max_width": null,
            "min_height": null,
            "min_width": null,
            "object_fit": null,
            "object_position": null,
            "order": null,
            "overflow": null,
            "overflow_x": null,
            "overflow_y": null,
            "padding": null,
            "right": null,
            "top": null,
            "visibility": null,
            "width": null
          }
        },
        "fb9c3b6fb176455198768e5857c7650c": {
          "model_module": "@jupyter-widgets/controls",
          "model_name": "DescriptionStyleModel",
          "model_module_version": "1.5.0",
          "state": {
            "_model_module": "@jupyter-widgets/controls",
            "_model_module_version": "1.5.0",
            "_model_name": "DescriptionStyleModel",
            "_view_count": null,
            "_view_module": "@jupyter-widgets/base",
            "_view_module_version": "1.2.0",
            "_view_name": "StyleView",
            "description_width": ""
          }
        },
        "8425773c73a746979e1b618dc7e3f679": {
          "model_module": "@jupyter-widgets/controls",
          "model_name": "HBoxModel",
          "model_module_version": "1.5.0",
          "state": {
            "_dom_classes": [],
            "_model_module": "@jupyter-widgets/controls",
            "_model_module_version": "1.5.0",
            "_model_name": "HBoxModel",
            "_view_count": null,
            "_view_module": "@jupyter-widgets/controls",
            "_view_module_version": "1.5.0",
            "_view_name": "HBoxView",
            "box_style": "",
            "children": [
              "IPY_MODEL_f3ec0b358b9149eaa120c8b977c111ab",
              "IPY_MODEL_f24c03c7f9f2457ca6834189cd883d44",
              "IPY_MODEL_8ac3b5a8314c481db2281b3bbf6cd947"
            ],
            "layout": "IPY_MODEL_f1d7c17113b64bd8a3eb2b58911f0beb"
          }
        },
        "f3ec0b358b9149eaa120c8b977c111ab": {
          "model_module": "@jupyter-widgets/controls",
          "model_name": "HTMLModel",
          "model_module_version": "1.5.0",
          "state": {
            "_dom_classes": [],
            "_model_module": "@jupyter-widgets/controls",
            "_model_module_version": "1.5.0",
            "_model_name": "HTMLModel",
            "_view_count": null,
            "_view_module": "@jupyter-widgets/controls",
            "_view_module_version": "1.5.0",
            "_view_name": "HTMLView",
            "description": "",
            "description_tooltip": null,
            "layout": "IPY_MODEL_8ba9e0472d4049f1b515344f36697b07",
            "placeholder": "​",
            "style": "IPY_MODEL_a1d3ae3a3a2a48ed8ee2963feaf6778e",
            "value": "Map: 100%"
          }
        },
        "f24c03c7f9f2457ca6834189cd883d44": {
          "model_module": "@jupyter-widgets/controls",
          "model_name": "FloatProgressModel",
          "model_module_version": "1.5.0",
          "state": {
            "_dom_classes": [],
            "_model_module": "@jupyter-widgets/controls",
            "_model_module_version": "1.5.0",
            "_model_name": "FloatProgressModel",
            "_view_count": null,
            "_view_module": "@jupyter-widgets/controls",
            "_view_module_version": "1.5.0",
            "_view_name": "ProgressView",
            "bar_style": "success",
            "description": "",
            "description_tooltip": null,
            "layout": "IPY_MODEL_ac1386a3d9594929ad83869ce606dc57",
            "max": 18726,
            "min": 0,
            "orientation": "horizontal",
            "style": "IPY_MODEL_aa7cdaac21974d239732f5e995bc80c8",
            "value": 18726
          }
        },
        "8ac3b5a8314c481db2281b3bbf6cd947": {
          "model_module": "@jupyter-widgets/controls",
          "model_name": "HTMLModel",
          "model_module_version": "1.5.0",
          "state": {
            "_dom_classes": [],
            "_model_module": "@jupyter-widgets/controls",
            "_model_module_version": "1.5.0",
            "_model_name": "HTMLModel",
            "_view_count": null,
            "_view_module": "@jupyter-widgets/controls",
            "_view_module_version": "1.5.0",
            "_view_name": "HTMLView",
            "description": "",
            "description_tooltip": null,
            "layout": "IPY_MODEL_61dbff4f1b4c496cb6030688978b271c",
            "placeholder": "​",
            "style": "IPY_MODEL_5198b258346c4c1e94748094379120d0",
            "value": " 18726/18726 [00:23&lt;00:00, 745.25 examples/s]"
          }
        },
        "f1d7c17113b64bd8a3eb2b58911f0beb": {
          "model_module": "@jupyter-widgets/base",
          "model_name": "LayoutModel",
          "model_module_version": "1.2.0",
          "state": {
            "_model_module": "@jupyter-widgets/base",
            "_model_module_version": "1.2.0",
            "_model_name": "LayoutModel",
            "_view_count": null,
            "_view_module": "@jupyter-widgets/base",
            "_view_module_version": "1.2.0",
            "_view_name": "LayoutView",
            "align_content": null,
            "align_items": null,
            "align_self": null,
            "border": null,
            "bottom": null,
            "display": null,
            "flex": null,
            "flex_flow": null,
            "grid_area": null,
            "grid_auto_columns": null,
            "grid_auto_flow": null,
            "grid_auto_rows": null,
            "grid_column": null,
            "grid_gap": null,
            "grid_row": null,
            "grid_template_areas": null,
            "grid_template_columns": null,
            "grid_template_rows": null,
            "height": null,
            "justify_content": null,
            "justify_items": null,
            "left": null,
            "margin": null,
            "max_height": null,
            "max_width": null,
            "min_height": null,
            "min_width": null,
            "object_fit": null,
            "object_position": null,
            "order": null,
            "overflow": null,
            "overflow_x": null,
            "overflow_y": null,
            "padding": null,
            "right": null,
            "top": null,
            "visibility": null,
            "width": null
          }
        },
        "8ba9e0472d4049f1b515344f36697b07": {
          "model_module": "@jupyter-widgets/base",
          "model_name": "LayoutModel",
          "model_module_version": "1.2.0",
          "state": {
            "_model_module": "@jupyter-widgets/base",
            "_model_module_version": "1.2.0",
            "_model_name": "LayoutModel",
            "_view_count": null,
            "_view_module": "@jupyter-widgets/base",
            "_view_module_version": "1.2.0",
            "_view_name": "LayoutView",
            "align_content": null,
            "align_items": null,
            "align_self": null,
            "border": null,
            "bottom": null,
            "display": null,
            "flex": null,
            "flex_flow": null,
            "grid_area": null,
            "grid_auto_columns": null,
            "grid_auto_flow": null,
            "grid_auto_rows": null,
            "grid_column": null,
            "grid_gap": null,
            "grid_row": null,
            "grid_template_areas": null,
            "grid_template_columns": null,
            "grid_template_rows": null,
            "height": null,
            "justify_content": null,
            "justify_items": null,
            "left": null,
            "margin": null,
            "max_height": null,
            "max_width": null,
            "min_height": null,
            "min_width": null,
            "object_fit": null,
            "object_position": null,
            "order": null,
            "overflow": null,
            "overflow_x": null,
            "overflow_y": null,
            "padding": null,
            "right": null,
            "top": null,
            "visibility": null,
            "width": null
          }
        },
        "a1d3ae3a3a2a48ed8ee2963feaf6778e": {
          "model_module": "@jupyter-widgets/controls",
          "model_name": "DescriptionStyleModel",
          "model_module_version": "1.5.0",
          "state": {
            "_model_module": "@jupyter-widgets/controls",
            "_model_module_version": "1.5.0",
            "_model_name": "DescriptionStyleModel",
            "_view_count": null,
            "_view_module": "@jupyter-widgets/base",
            "_view_module_version": "1.2.0",
            "_view_name": "StyleView",
            "description_width": ""
          }
        },
        "ac1386a3d9594929ad83869ce606dc57": {
          "model_module": "@jupyter-widgets/base",
          "model_name": "LayoutModel",
          "model_module_version": "1.2.0",
          "state": {
            "_model_module": "@jupyter-widgets/base",
            "_model_module_version": "1.2.0",
            "_model_name": "LayoutModel",
            "_view_count": null,
            "_view_module": "@jupyter-widgets/base",
            "_view_module_version": "1.2.0",
            "_view_name": "LayoutView",
            "align_content": null,
            "align_items": null,
            "align_self": null,
            "border": null,
            "bottom": null,
            "display": null,
            "flex": null,
            "flex_flow": null,
            "grid_area": null,
            "grid_auto_columns": null,
            "grid_auto_flow": null,
            "grid_auto_rows": null,
            "grid_column": null,
            "grid_gap": null,
            "grid_row": null,
            "grid_template_areas": null,
            "grid_template_columns": null,
            "grid_template_rows": null,
            "height": null,
            "justify_content": null,
            "justify_items": null,
            "left": null,
            "margin": null,
            "max_height": null,
            "max_width": null,
            "min_height": null,
            "min_width": null,
            "object_fit": null,
            "object_position": null,
            "order": null,
            "overflow": null,
            "overflow_x": null,
            "overflow_y": null,
            "padding": null,
            "right": null,
            "top": null,
            "visibility": null,
            "width": null
          }
        },
        "aa7cdaac21974d239732f5e995bc80c8": {
          "model_module": "@jupyter-widgets/controls",
          "model_name": "ProgressStyleModel",
          "model_module_version": "1.5.0",
          "state": {
            "_model_module": "@jupyter-widgets/controls",
            "_model_module_version": "1.5.0",
            "_model_name": "ProgressStyleModel",
            "_view_count": null,
            "_view_module": "@jupyter-widgets/base",
            "_view_module_version": "1.2.0",
            "_view_name": "StyleView",
            "bar_color": null,
            "description_width": ""
          }
        },
        "61dbff4f1b4c496cb6030688978b271c": {
          "model_module": "@jupyter-widgets/base",
          "model_name": "LayoutModel",
          "model_module_version": "1.2.0",
          "state": {
            "_model_module": "@jupyter-widgets/base",
            "_model_module_version": "1.2.0",
            "_model_name": "LayoutModel",
            "_view_count": null,
            "_view_module": "@jupyter-widgets/base",
            "_view_module_version": "1.2.0",
            "_view_name": "LayoutView",
            "align_content": null,
            "align_items": null,
            "align_self": null,
            "border": null,
            "bottom": null,
            "display": null,
            "flex": null,
            "flex_flow": null,
            "grid_area": null,
            "grid_auto_columns": null,
            "grid_auto_flow": null,
            "grid_auto_rows": null,
            "grid_column": null,
            "grid_gap": null,
            "grid_row": null,
            "grid_template_areas": null,
            "grid_template_columns": null,
            "grid_template_rows": null,
            "height": null,
            "justify_content": null,
            "justify_items": null,
            "left": null,
            "margin": null,
            "max_height": null,
            "max_width": null,
            "min_height": null,
            "min_width": null,
            "object_fit": null,
            "object_position": null,
            "order": null,
            "overflow": null,
            "overflow_x": null,
            "overflow_y": null,
            "padding": null,
            "right": null,
            "top": null,
            "visibility": null,
            "width": null
          }
        },
        "5198b258346c4c1e94748094379120d0": {
          "model_module": "@jupyter-widgets/controls",
          "model_name": "DescriptionStyleModel",
          "model_module_version": "1.5.0",
          "state": {
            "_model_module": "@jupyter-widgets/controls",
            "_model_module_version": "1.5.0",
            "_model_name": "DescriptionStyleModel",
            "_view_count": null,
            "_view_module": "@jupyter-widgets/base",
            "_view_module_version": "1.2.0",
            "_view_name": "StyleView",
            "description_width": ""
          }
        }
      }
    }
  },
  "cells": [
    {
      "cell_type": "code",
      "source": [
        "!pip install datasets"
      ],
      "metadata": {
        "colab": {
          "base_uri": "https://localhost:8080/"
        },
        "id": "2slQVWEm3Q5R",
        "outputId": "5640e4b9-cf58-4e90-f377-83e768754cf5"
      },
      "execution_count": 1,
      "outputs": [
        {
          "output_type": "stream",
          "name": "stdout",
          "text": [
            "Collecting datasets\n",
            "  Downloading datasets-3.2.0-py3-none-any.whl.metadata (20 kB)\n",
            "Requirement already satisfied: filelock in /usr/local/lib/python3.10/dist-packages (from datasets) (3.16.1)\n",
            "Requirement already satisfied: numpy>=1.17 in /usr/local/lib/python3.10/dist-packages (from datasets) (1.26.4)\n",
            "Requirement already satisfied: pyarrow>=15.0.0 in /usr/local/lib/python3.10/dist-packages (from datasets) (17.0.0)\n",
            "Collecting dill<0.3.9,>=0.3.0 (from datasets)\n",
            "  Downloading dill-0.3.8-py3-none-any.whl.metadata (10 kB)\n",
            "Requirement already satisfied: pandas in /usr/local/lib/python3.10/dist-packages (from datasets) (2.2.2)\n",
            "Requirement already satisfied: requests>=2.32.2 in /usr/local/lib/python3.10/dist-packages (from datasets) (2.32.3)\n",
            "Requirement already satisfied: tqdm>=4.66.3 in /usr/local/lib/python3.10/dist-packages (from datasets) (4.67.1)\n",
            "Collecting xxhash (from datasets)\n",
            "  Downloading xxhash-3.5.0-cp310-cp310-manylinux_2_17_x86_64.manylinux2014_x86_64.whl.metadata (12 kB)\n",
            "Collecting multiprocess<0.70.17 (from datasets)\n",
            "  Downloading multiprocess-0.70.16-py310-none-any.whl.metadata (7.2 kB)\n",
            "Collecting fsspec<=2024.9.0,>=2023.1.0 (from fsspec[http]<=2024.9.0,>=2023.1.0->datasets)\n",
            "  Downloading fsspec-2024.9.0-py3-none-any.whl.metadata (11 kB)\n",
            "Requirement already satisfied: aiohttp in /usr/local/lib/python3.10/dist-packages (from datasets) (3.11.10)\n",
            "Requirement already satisfied: huggingface-hub>=0.23.0 in /usr/local/lib/python3.10/dist-packages (from datasets) (0.27.0)\n",
            "Requirement already satisfied: packaging in /usr/local/lib/python3.10/dist-packages (from datasets) (24.2)\n",
            "Requirement already satisfied: pyyaml>=5.1 in /usr/local/lib/python3.10/dist-packages (from datasets) (6.0.2)\n",
            "Requirement already satisfied: aiohappyeyeballs>=2.3.0 in /usr/local/lib/python3.10/dist-packages (from aiohttp->datasets) (2.4.4)\n",
            "Requirement already satisfied: aiosignal>=1.1.2 in /usr/local/lib/python3.10/dist-packages (from aiohttp->datasets) (1.3.2)\n",
            "Requirement already satisfied: async-timeout<6.0,>=4.0 in /usr/local/lib/python3.10/dist-packages (from aiohttp->datasets) (4.0.3)\n",
            "Requirement already satisfied: attrs>=17.3.0 in /usr/local/lib/python3.10/dist-packages (from aiohttp->datasets) (24.3.0)\n",
            "Requirement already satisfied: frozenlist>=1.1.1 in /usr/local/lib/python3.10/dist-packages (from aiohttp->datasets) (1.5.0)\n",
            "Requirement already satisfied: multidict<7.0,>=4.5 in /usr/local/lib/python3.10/dist-packages (from aiohttp->datasets) (6.1.0)\n",
            "Requirement already satisfied: propcache>=0.2.0 in /usr/local/lib/python3.10/dist-packages (from aiohttp->datasets) (0.2.1)\n",
            "Requirement already satisfied: yarl<2.0,>=1.17.0 in /usr/local/lib/python3.10/dist-packages (from aiohttp->datasets) (1.18.3)\n",
            "Requirement already satisfied: typing-extensions>=3.7.4.3 in /usr/local/lib/python3.10/dist-packages (from huggingface-hub>=0.23.0->datasets) (4.12.2)\n",
            "Requirement already satisfied: charset-normalizer<4,>=2 in /usr/local/lib/python3.10/dist-packages (from requests>=2.32.2->datasets) (3.4.0)\n",
            "Requirement already satisfied: idna<4,>=2.5 in /usr/local/lib/python3.10/dist-packages (from requests>=2.32.2->datasets) (3.10)\n",
            "Requirement already satisfied: urllib3<3,>=1.21.1 in /usr/local/lib/python3.10/dist-packages (from requests>=2.32.2->datasets) (2.2.3)\n",
            "Requirement already satisfied: certifi>=2017.4.17 in /usr/local/lib/python3.10/dist-packages (from requests>=2.32.2->datasets) (2024.12.14)\n",
            "Requirement already satisfied: python-dateutil>=2.8.2 in /usr/local/lib/python3.10/dist-packages (from pandas->datasets) (2.8.2)\n",
            "Requirement already satisfied: pytz>=2020.1 in /usr/local/lib/python3.10/dist-packages (from pandas->datasets) (2024.2)\n",
            "Requirement already satisfied: tzdata>=2022.7 in /usr/local/lib/python3.10/dist-packages (from pandas->datasets) (2024.2)\n",
            "Requirement already satisfied: six>=1.5 in /usr/local/lib/python3.10/dist-packages (from python-dateutil>=2.8.2->pandas->datasets) (1.17.0)\n",
            "Downloading datasets-3.2.0-py3-none-any.whl (480 kB)\n",
            "\u001b[2K   \u001b[90m━━━━━━━━━━━━━━━━━━━━━━━━━━━━━━━━━━━━━━━━\u001b[0m \u001b[32m480.6/480.6 kB\u001b[0m \u001b[31m27.2 MB/s\u001b[0m eta \u001b[36m0:00:00\u001b[0m\n",
            "\u001b[?25hDownloading dill-0.3.8-py3-none-any.whl (116 kB)\n",
            "\u001b[2K   \u001b[90m━━━━━━━━━━━━━━━━━━━━━━━━━━━━━━━━━━━━━━━━\u001b[0m \u001b[32m116.3/116.3 kB\u001b[0m \u001b[31m11.4 MB/s\u001b[0m eta \u001b[36m0:00:00\u001b[0m\n",
            "\u001b[?25hDownloading fsspec-2024.9.0-py3-none-any.whl (179 kB)\n",
            "\u001b[2K   \u001b[90m━━━━━━━━━━━━━━━━━━━━━━━━━━━━━━━━━━━━━━━━\u001b[0m \u001b[32m179.3/179.3 kB\u001b[0m \u001b[31m17.0 MB/s\u001b[0m eta \u001b[36m0:00:00\u001b[0m\n",
            "\u001b[?25hDownloading multiprocess-0.70.16-py310-none-any.whl (134 kB)\n",
            "\u001b[2K   \u001b[90m━━━━━━━━━━━━━━━━━━━━━━━━━━━━━━━━━━━━━━━━\u001b[0m \u001b[32m134.8/134.8 kB\u001b[0m \u001b[31m13.2 MB/s\u001b[0m eta \u001b[36m0:00:00\u001b[0m\n",
            "\u001b[?25hDownloading xxhash-3.5.0-cp310-cp310-manylinux_2_17_x86_64.manylinux2014_x86_64.whl (194 kB)\n",
            "\u001b[2K   \u001b[90m━━━━━━━━━━━━━━━━━━━━━━━━━━━━━━━━━━━━━━━━\u001b[0m \u001b[32m194.1/194.1 kB\u001b[0m \u001b[31m18.8 MB/s\u001b[0m eta \u001b[36m0:00:00\u001b[0m\n",
            "\u001b[?25hInstalling collected packages: xxhash, fsspec, dill, multiprocess, datasets\n",
            "  Attempting uninstall: fsspec\n",
            "    Found existing installation: fsspec 2024.10.0\n",
            "    Uninstalling fsspec-2024.10.0:\n",
            "      Successfully uninstalled fsspec-2024.10.0\n",
            "\u001b[31mERROR: pip's dependency resolver does not currently take into account all the packages that are installed. This behaviour is the source of the following dependency conflicts.\n",
            "gcsfs 2024.10.0 requires fsspec==2024.10.0, but you have fsspec 2024.9.0 which is incompatible.\u001b[0m\u001b[31m\n",
            "\u001b[0mSuccessfully installed datasets-3.2.0 dill-0.3.8 fsspec-2024.9.0 multiprocess-0.70.16 xxhash-3.5.0\n"
          ]
        }
      ]
    },
    {
      "cell_type": "markdown",
      "source": [
        "## 0 - Load data"
      ],
      "metadata": {
        "id": "-jB8Sn9m3OZQ"
      }
    },
    {
      "cell_type": "code",
      "execution_count": 2,
      "metadata": {
        "colab": {
          "base_uri": "https://localhost:8080/",
          "height": 441
        },
        "id": "aI7tS-Ns07o8",
        "outputId": "bc52a009-5f72-45ad-a5c9-14e5f78884ce"
      },
      "outputs": [
        {
          "output_type": "stream",
          "name": "stdout",
          "text": [
            "data shape - (18726, 12)\n"
          ]
        },
        {
          "output_type": "execute_result",
          "data": {
            "text/plain": [
              "                                               title  len_title  \\\n",
              "0                      FRAM G6535 InLine Fuel Filter         29   \n",
              "1                    Kryptonite Transit HBar Carrier         31   \n",
              "2  Double Accent 2MM Comfort Fit Stainless Steel ...         89   \n",
              "\n",
              "                                         description  len_description  \\\n",
              "0  Clean fuel is important because there are smal...              389   \n",
              "1  The quick and convenient Transit HBar Carrier ...              291   \n",
              "2  This beautiful 2MM Comfort Fit Stainless Steel...              245   \n",
              "\n",
              "                                            features  len_features  \\\n",
              "0  FRAM is the consumer's 1 choice Changing Fuel ...           343   \n",
              "1  Fits the majority of ulocks on the market Comp...           498   \n",
              "2  316L Stainless Steel Shipping Information: Vie...           939   \n",
              "\n",
              "   num_features           main_cat  price also_buy_categ also_view_categ  \\\n",
              "0             5         Automotive   4.78              0               0   \n",
              "1            10  Sports & Outdoors  11.66          Other           Other   \n",
              "2             8     Amazon Fashion  12.99              1           Other   \n",
              "\n",
              "  num_images_categ  \n",
              "0                0  \n",
              "1                5  \n",
              "2                2  "
            ],
            "text/html": [
              "\n",
              "  <div id=\"df-fbf520b9-bc0b-44f7-ae29-f452c0d1309b\" class=\"colab-df-container\">\n",
              "    <div>\n",
              "<style scoped>\n",
              "    .dataframe tbody tr th:only-of-type {\n",
              "        vertical-align: middle;\n",
              "    }\n",
              "\n",
              "    .dataframe tbody tr th {\n",
              "        vertical-align: top;\n",
              "    }\n",
              "\n",
              "    .dataframe thead th {\n",
              "        text-align: right;\n",
              "    }\n",
              "</style>\n",
              "<table border=\"1\" class=\"dataframe\">\n",
              "  <thead>\n",
              "    <tr style=\"text-align: right;\">\n",
              "      <th></th>\n",
              "      <th>title</th>\n",
              "      <th>len_title</th>\n",
              "      <th>description</th>\n",
              "      <th>len_description</th>\n",
              "      <th>features</th>\n",
              "      <th>len_features</th>\n",
              "      <th>num_features</th>\n",
              "      <th>main_cat</th>\n",
              "      <th>price</th>\n",
              "      <th>also_buy_categ</th>\n",
              "      <th>also_view_categ</th>\n",
              "      <th>num_images_categ</th>\n",
              "    </tr>\n",
              "  </thead>\n",
              "  <tbody>\n",
              "    <tr>\n",
              "      <th>0</th>\n",
              "      <td>FRAM G6535 InLine Fuel Filter</td>\n",
              "      <td>29</td>\n",
              "      <td>Clean fuel is important because there are smal...</td>\n",
              "      <td>389</td>\n",
              "      <td>FRAM is the consumer's 1 choice Changing Fuel ...</td>\n",
              "      <td>343</td>\n",
              "      <td>5</td>\n",
              "      <td>Automotive</td>\n",
              "      <td>4.78</td>\n",
              "      <td>0</td>\n",
              "      <td>0</td>\n",
              "      <td>0</td>\n",
              "    </tr>\n",
              "    <tr>\n",
              "      <th>1</th>\n",
              "      <td>Kryptonite Transit HBar Carrier</td>\n",
              "      <td>31</td>\n",
              "      <td>The quick and convenient Transit HBar Carrier ...</td>\n",
              "      <td>291</td>\n",
              "      <td>Fits the majority of ulocks on the market Comp...</td>\n",
              "      <td>498</td>\n",
              "      <td>10</td>\n",
              "      <td>Sports &amp; Outdoors</td>\n",
              "      <td>11.66</td>\n",
              "      <td>Other</td>\n",
              "      <td>Other</td>\n",
              "      <td>5</td>\n",
              "    </tr>\n",
              "    <tr>\n",
              "      <th>2</th>\n",
              "      <td>Double Accent 2MM Comfort Fit Stainless Steel ...</td>\n",
              "      <td>89</td>\n",
              "      <td>This beautiful 2MM Comfort Fit Stainless Steel...</td>\n",
              "      <td>245</td>\n",
              "      <td>316L Stainless Steel Shipping Information: Vie...</td>\n",
              "      <td>939</td>\n",
              "      <td>8</td>\n",
              "      <td>Amazon Fashion</td>\n",
              "      <td>12.99</td>\n",
              "      <td>1</td>\n",
              "      <td>Other</td>\n",
              "      <td>2</td>\n",
              "    </tr>\n",
              "  </tbody>\n",
              "</table>\n",
              "</div>\n",
              "    <div class=\"colab-df-buttons\">\n",
              "\n",
              "  <div class=\"colab-df-container\">\n",
              "    <button class=\"colab-df-convert\" onclick=\"convertToInteractive('df-fbf520b9-bc0b-44f7-ae29-f452c0d1309b')\"\n",
              "            title=\"Convert this dataframe to an interactive table.\"\n",
              "            style=\"display:none;\">\n",
              "\n",
              "  <svg xmlns=\"http://www.w3.org/2000/svg\" height=\"24px\" viewBox=\"0 -960 960 960\">\n",
              "    <path d=\"M120-120v-720h720v720H120Zm60-500h600v-160H180v160Zm220 220h160v-160H400v160Zm0 220h160v-160H400v160ZM180-400h160v-160H180v160Zm440 0h160v-160H620v160ZM180-180h160v-160H180v160Zm440 0h160v-160H620v160Z\"/>\n",
              "  </svg>\n",
              "    </button>\n",
              "\n",
              "  <style>\n",
              "    .colab-df-container {\n",
              "      display:flex;\n",
              "      gap: 12px;\n",
              "    }\n",
              "\n",
              "    .colab-df-convert {\n",
              "      background-color: #E8F0FE;\n",
              "      border: none;\n",
              "      border-radius: 50%;\n",
              "      cursor: pointer;\n",
              "      display: none;\n",
              "      fill: #1967D2;\n",
              "      height: 32px;\n",
              "      padding: 0 0 0 0;\n",
              "      width: 32px;\n",
              "    }\n",
              "\n",
              "    .colab-df-convert:hover {\n",
              "      background-color: #E2EBFA;\n",
              "      box-shadow: 0px 1px 2px rgba(60, 64, 67, 0.3), 0px 1px 3px 1px rgba(60, 64, 67, 0.15);\n",
              "      fill: #174EA6;\n",
              "    }\n",
              "\n",
              "    .colab-df-buttons div {\n",
              "      margin-bottom: 4px;\n",
              "    }\n",
              "\n",
              "    [theme=dark] .colab-df-convert {\n",
              "      background-color: #3B4455;\n",
              "      fill: #D2E3FC;\n",
              "    }\n",
              "\n",
              "    [theme=dark] .colab-df-convert:hover {\n",
              "      background-color: #434B5C;\n",
              "      box-shadow: 0px 1px 3px 1px rgba(0, 0, 0, 0.15);\n",
              "      filter: drop-shadow(0px 1px 2px rgba(0, 0, 0, 0.3));\n",
              "      fill: #FFFFFF;\n",
              "    }\n",
              "  </style>\n",
              "\n",
              "    <script>\n",
              "      const buttonEl =\n",
              "        document.querySelector('#df-fbf520b9-bc0b-44f7-ae29-f452c0d1309b button.colab-df-convert');\n",
              "      buttonEl.style.display =\n",
              "        google.colab.kernel.accessAllowed ? 'block' : 'none';\n",
              "\n",
              "      async function convertToInteractive(key) {\n",
              "        const element = document.querySelector('#df-fbf520b9-bc0b-44f7-ae29-f452c0d1309b');\n",
              "        const dataTable =\n",
              "          await google.colab.kernel.invokeFunction('convertToInteractive',\n",
              "                                                    [key], {});\n",
              "        if (!dataTable) return;\n",
              "\n",
              "        const docLinkHtml = 'Like what you see? Visit the ' +\n",
              "          '<a target=\"_blank\" href=https://colab.research.google.com/notebooks/data_table.ipynb>data table notebook</a>'\n",
              "          + ' to learn more about interactive tables.';\n",
              "        element.innerHTML = '';\n",
              "        dataTable['output_type'] = 'display_data';\n",
              "        await google.colab.output.renderOutput(dataTable, element);\n",
              "        const docLink = document.createElement('div');\n",
              "        docLink.innerHTML = docLinkHtml;\n",
              "        element.appendChild(docLink);\n",
              "      }\n",
              "    </script>\n",
              "  </div>\n",
              "\n",
              "\n",
              "<div id=\"df-9815bb5a-d5af-4b90-af5d-113350e07634\">\n",
              "  <button class=\"colab-df-quickchart\" onclick=\"quickchart('df-9815bb5a-d5af-4b90-af5d-113350e07634')\"\n",
              "            title=\"Suggest charts\"\n",
              "            style=\"display:none;\">\n",
              "\n",
              "<svg xmlns=\"http://www.w3.org/2000/svg\" height=\"24px\"viewBox=\"0 0 24 24\"\n",
              "     width=\"24px\">\n",
              "    <g>\n",
              "        <path d=\"M19 3H5c-1.1 0-2 .9-2 2v14c0 1.1.9 2 2 2h14c1.1 0 2-.9 2-2V5c0-1.1-.9-2-2-2zM9 17H7v-7h2v7zm4 0h-2V7h2v10zm4 0h-2v-4h2v4z\"/>\n",
              "    </g>\n",
              "</svg>\n",
              "  </button>\n",
              "\n",
              "<style>\n",
              "  .colab-df-quickchart {\n",
              "      --bg-color: #E8F0FE;\n",
              "      --fill-color: #1967D2;\n",
              "      --hover-bg-color: #E2EBFA;\n",
              "      --hover-fill-color: #174EA6;\n",
              "      --disabled-fill-color: #AAA;\n",
              "      --disabled-bg-color: #DDD;\n",
              "  }\n",
              "\n",
              "  [theme=dark] .colab-df-quickchart {\n",
              "      --bg-color: #3B4455;\n",
              "      --fill-color: #D2E3FC;\n",
              "      --hover-bg-color: #434B5C;\n",
              "      --hover-fill-color: #FFFFFF;\n",
              "      --disabled-bg-color: #3B4455;\n",
              "      --disabled-fill-color: #666;\n",
              "  }\n",
              "\n",
              "  .colab-df-quickchart {\n",
              "    background-color: var(--bg-color);\n",
              "    border: none;\n",
              "    border-radius: 50%;\n",
              "    cursor: pointer;\n",
              "    display: none;\n",
              "    fill: var(--fill-color);\n",
              "    height: 32px;\n",
              "    padding: 0;\n",
              "    width: 32px;\n",
              "  }\n",
              "\n",
              "  .colab-df-quickchart:hover {\n",
              "    background-color: var(--hover-bg-color);\n",
              "    box-shadow: 0 1px 2px rgba(60, 64, 67, 0.3), 0 1px 3px 1px rgba(60, 64, 67, 0.15);\n",
              "    fill: var(--button-hover-fill-color);\n",
              "  }\n",
              "\n",
              "  .colab-df-quickchart-complete:disabled,\n",
              "  .colab-df-quickchart-complete:disabled:hover {\n",
              "    background-color: var(--disabled-bg-color);\n",
              "    fill: var(--disabled-fill-color);\n",
              "    box-shadow: none;\n",
              "  }\n",
              "\n",
              "  .colab-df-spinner {\n",
              "    border: 2px solid var(--fill-color);\n",
              "    border-color: transparent;\n",
              "    border-bottom-color: var(--fill-color);\n",
              "    animation:\n",
              "      spin 1s steps(1) infinite;\n",
              "  }\n",
              "\n",
              "  @keyframes spin {\n",
              "    0% {\n",
              "      border-color: transparent;\n",
              "      border-bottom-color: var(--fill-color);\n",
              "      border-left-color: var(--fill-color);\n",
              "    }\n",
              "    20% {\n",
              "      border-color: transparent;\n",
              "      border-left-color: var(--fill-color);\n",
              "      border-top-color: var(--fill-color);\n",
              "    }\n",
              "    30% {\n",
              "      border-color: transparent;\n",
              "      border-left-color: var(--fill-color);\n",
              "      border-top-color: var(--fill-color);\n",
              "      border-right-color: var(--fill-color);\n",
              "    }\n",
              "    40% {\n",
              "      border-color: transparent;\n",
              "      border-right-color: var(--fill-color);\n",
              "      border-top-color: var(--fill-color);\n",
              "    }\n",
              "    60% {\n",
              "      border-color: transparent;\n",
              "      border-right-color: var(--fill-color);\n",
              "    }\n",
              "    80% {\n",
              "      border-color: transparent;\n",
              "      border-right-color: var(--fill-color);\n",
              "      border-bottom-color: var(--fill-color);\n",
              "    }\n",
              "    90% {\n",
              "      border-color: transparent;\n",
              "      border-bottom-color: var(--fill-color);\n",
              "    }\n",
              "  }\n",
              "</style>\n",
              "\n",
              "  <script>\n",
              "    async function quickchart(key) {\n",
              "      const quickchartButtonEl =\n",
              "        document.querySelector('#' + key + ' button');\n",
              "      quickchartButtonEl.disabled = true;  // To prevent multiple clicks.\n",
              "      quickchartButtonEl.classList.add('colab-df-spinner');\n",
              "      try {\n",
              "        const charts = await google.colab.kernel.invokeFunction(\n",
              "            'suggestCharts', [key], {});\n",
              "      } catch (error) {\n",
              "        console.error('Error during call to suggestCharts:', error);\n",
              "      }\n",
              "      quickchartButtonEl.classList.remove('colab-df-spinner');\n",
              "      quickchartButtonEl.classList.add('colab-df-quickchart-complete');\n",
              "    }\n",
              "    (() => {\n",
              "      let quickchartButtonEl =\n",
              "        document.querySelector('#df-9815bb5a-d5af-4b90-af5d-113350e07634 button');\n",
              "      quickchartButtonEl.style.display =\n",
              "        google.colab.kernel.accessAllowed ? 'block' : 'none';\n",
              "    })();\n",
              "  </script>\n",
              "</div>\n",
              "\n",
              "    </div>\n",
              "  </div>\n"
            ],
            "application/vnd.google.colaboratory.intrinsic+json": {
              "type": "dataframe",
              "variable_name": "final_df",
              "summary": "{\n  \"name\": \"final_df\",\n  \"rows\": 18726,\n  \"fields\": [\n    {\n      \"column\": \"title\",\n      \"properties\": {\n        \"dtype\": \"string\",\n        \"num_unique_values\": 18679,\n        \"samples\": [\n          \"Inverted Ceiling Mount\",\n          \"QSC TouchMix16 Compact Digital Mixer amp; LaCie Rugged Triple 500 GB FierWire 7200 RPM\",\n          \"Mouse Head Bubble Blower Gun  Fast Fun Bubble Maker for kids\"\n        ],\n        \"semantic_type\": \"\",\n        \"description\": \"\"\n      }\n    },\n    {\n      \"column\": \"len_title\",\n      \"properties\": {\n        \"dtype\": \"number\",\n        \"std\": 42,\n        \"min\": 1,\n        \"max\": 691,\n        \"num_unique_values\": 298,\n        \"samples\": [\n          167,\n          335,\n          272\n        ],\n        \"semantic_type\": \"\",\n        \"description\": \"\"\n      }\n    },\n    {\n      \"column\": \"description\",\n      \"properties\": {\n        \"dtype\": \"string\",\n        \"num_unique_values\": 18043,\n        \"samples\": [\n          \"Aviditi P4036W White Mailing Tubes with Caps. Attractive White Mailing Tubes are great for storing or shipping posters, blueprints etc. 3ply spiral wound construction for strength. White end caps included snap into place to hold contents secure. 0.080inches thick spiral wound fibreboard. Measures 36inches length by 4inches width.\",\n          \"Caffeinefree mint with Lemon Verbena, a combination of two favorites. Lemon Verbena is a fullbodied herbal, and of course mint is known for its ability to calm a temperamental stomach. An invigorationg new herbal. Statements regarding dietary supplements have not been evaluated by the FDA and are not intended to diagnose, treat, cure, or prevent any disease or health condition.\",\n          \"This item come with our shinefuture brand package and a black USB car charger as gifts Compatible:Sony Xperia Z1 L39h C6902 C6903 Type:LCD DisplayTouch Screen Digitizer Highly recommend professional installation We are not responsibility for any incorrect operation We recommend professional installation as it very hard and fragile to replace. Ask repair shop before buying this screen No installation instruction , you could find many videos at youtube Comes with pretective plastic bag and safe packing Tools not include\"\n        ],\n        \"semantic_type\": \"\",\n        \"description\": \"\"\n      }\n    },\n    {\n      \"column\": \"len_description\",\n      \"properties\": {\n        \"dtype\": \"number\",\n        \"std\": 717,\n        \"min\": 0,\n        \"max\": 23048,\n        \"num_unique_values\": 2318,\n        \"samples\": [\n          1490,\n          1040,\n          285\n        ],\n        \"semantic_type\": \"\",\n        \"description\": \"\"\n      }\n    },\n    {\n      \"column\": \"features\",\n      \"properties\": {\n        \"dtype\": \"string\",\n        \"num_unique_values\": 12925,\n        \"samples\": [\n          \"Original lambskin hide 100 genuine leather. YKK zippers. Zippers and accessories might vary as per market availability. We use satin lining inside Size May Vary,Kindly select your size Efficiently. When selecting a size, please leave at least 34 inches from body measurement to get a slim fit. For example, if the chest circumference is 38 inches, please select a jacket whith chest of 42 inches to get slim fit. E.g  38  4   42 inches. ASIN: B012WWFNBO Item model number: LF185  M Date first listed on Amazon: July 29, 2015 Average Customer Review:   Fix for UDP1061. Average customer reviews has a small extra line on hover  https:omnigrok.amazon.comxrefsrcappgroupwebsiteTemplatesretailSoftlinesDetailPageAssetsudpintllocksrclegacy.css?indexNameWebsiteTemplates40  .noUnderline a:hover  textdecoration: none;  2.0 out of 5 stars 1 customer review P.when'A', 'ready'.executefunctionA  A.declarative'acrLinkclickmetrics', 'click',  \\\"allowLinkDefault\\\" : true , functionevent ifwindow.ue  ue.count\\\"acrLinkClickCount\\\", ue.count\\\"acrLinkClickCount\\\"  0  1;  ; ; P.when'A', 'cf'.executefunctionA  A.declarative'acrStarsLinkclickmetrics', 'click',  \\\"allowLinkDefault\\\" : true , functionevent ifwindow.ue  ue.count\\\"acrStarsLinkWithPopoverClickCount\\\", ue.count\\\"acrStarsLinkWithPopoverClickCount\\\"  0  1;  ; ;\",\n          \"A single individual card from the YuGiOh! trading and collectible card game TCGCCG. This is of Common rarity. From the Duelist Pack Yugi Moto set. You will receive the 1st Edition version of this card.\",\n          \"Tough and Durable Reflective Trim for added safety Comfortable Mesh underside Close with tough Duraflext Buckle Available in 4 sizes\"\n        ],\n        \"semantic_type\": \"\",\n        \"description\": \"\"\n      }\n    },\n    {\n      \"column\": \"len_features\",\n      \"properties\": {\n        \"dtype\": \"number\",\n        \"std\": 350,\n        \"min\": 0,\n        \"max\": 6009,\n        \"num_unique_values\": 1520,\n        \"samples\": [\n          142,\n          995,\n          2494\n        ],\n        \"semantic_type\": \"\",\n        \"description\": \"\"\n      }\n    },\n    {\n      \"column\": \"num_features\",\n      \"properties\": {\n        \"dtype\": \"number\",\n        \"std\": 3,\n        \"min\": 0,\n        \"max\": 66,\n        \"num_unique_values\": 36,\n        \"samples\": [\n          23,\n          16,\n          26\n        ],\n        \"semantic_type\": \"\",\n        \"description\": \"\"\n      }\n    },\n    {\n      \"column\": \"main_cat\",\n      \"properties\": {\n        \"dtype\": \"category\",\n        \"num_unique_values\": 22,\n        \"samples\": [\n          \"Automotive\",\n          \"Office Products\",\n          \"Industrial & Scientific\"\n        ],\n        \"semantic_type\": \"\",\n        \"description\": \"\"\n      }\n    },\n    {\n      \"column\": \"price\",\n      \"properties\": {\n        \"dtype\": \"number\",\n        \"std\": 158.2742230101595,\n        \"min\": 0.01,\n        \"max\": 9999.0,\n        \"num_unique_values\": 3407,\n        \"samples\": [\n          39.99,\n          5.52,\n          12.41\n        ],\n        \"semantic_type\": \"\",\n        \"description\": \"\"\n      }\n    },\n    {\n      \"column\": \"also_buy_categ\",\n      \"properties\": {\n        \"dtype\": \"category\",\n        \"num_unique_values\": 7,\n        \"samples\": [\n          \"0\",\n          \"Other\",\n          \"4\"\n        ],\n        \"semantic_type\": \"\",\n        \"description\": \"\"\n      }\n    },\n    {\n      \"column\": \"also_view_categ\",\n      \"properties\": {\n        \"dtype\": \"category\",\n        \"num_unique_values\": 9,\n        \"samples\": [\n          \"3\",\n          \"Other\",\n          \"4\"\n        ],\n        \"semantic_type\": \"\",\n        \"description\": \"\"\n      }\n    },\n    {\n      \"column\": \"num_images_categ\",\n      \"properties\": {\n        \"dtype\": \"category\",\n        \"num_unique_values\": 8,\n        \"samples\": [\n          \"5\",\n          \"3\",\n          \"0\"\n        ],\n        \"semantic_type\": \"\",\n        \"description\": \"\"\n      }\n    }\n  ]\n}"
            }
          },
          "metadata": {},
          "execution_count": 2
        }
      ],
      "source": [
        "import pandas as pd\n",
        "\n",
        "#Load the data\n",
        "path = \"df_mini.csv\"\n",
        "\n",
        "final_df = pd.read_csv(path)\n",
        "\n",
        "#Replace null values in text fields for an empty string\n",
        "final_df['features'] = final_df['features'].fillna('')\n",
        "final_df['description'] = final_df['description'].fillna('')\n",
        "final_df['title'] = final_df['title'].fillna('')\n",
        "\n",
        "print(f'data shape - {final_df.shape}')\n",
        "\n",
        "final_df.head(3)"
      ]
    },
    {
      "cell_type": "markdown",
      "source": [
        "## 0.1 -TARGET DISTRIBUTION"
      ],
      "metadata": {
        "id": "G9XQux7uMNoY"
      }
    },
    {
      "cell_type": "code",
      "source": [
        "final_df.main_cat.value_counts(normalize=True)"
      ],
      "metadata": {
        "colab": {
          "base_uri": "https://localhost:8080/",
          "height": 805
        },
        "id": "crMvsrAnF2Xw",
        "outputId": "87073676-fe28-4192-cf0b-065748c3b3eb"
      },
      "execution_count": 27,
      "outputs": [
        {
          "output_type": "execute_result",
          "data": {
            "text/plain": [
              "main_cat\n",
              "Tools & Home Improvement     0.059543\n",
              "Automotive                   0.058849\n",
              "Arts, Crafts & Sewing        0.058101\n",
              "Toys & Games                 0.057727\n",
              "Office Products              0.057407\n",
              "Amazon Home                  0.057140\n",
              "Grocery                      0.056232\n",
              "Sports & Outdoors            0.056232\n",
              "Books                        0.055805\n",
              "Computers                    0.053775\n",
              "Movies & TV                  0.048542\n",
              "Amazon Fashion               0.047848\n",
              "Cell Phones & Accessories    0.047634\n",
              "Pet Supplies                 0.046032\n",
              "Industrial & Scientific      0.044484\n",
              "All Electronics              0.042348\n",
              "Digital Music                0.038716\n",
              "Camera & Photo               0.029371\n",
              "Musical Instruments          0.028730\n",
              "Home Audio & Theater         0.026754\n",
              "Video Games                  0.017409\n",
              "Health & Personal Care       0.011321\n",
              "Name: proportion, dtype: float64"
            ],
            "text/html": [
              "<div>\n",
              "<style scoped>\n",
              "    .dataframe tbody tr th:only-of-type {\n",
              "        vertical-align: middle;\n",
              "    }\n",
              "\n",
              "    .dataframe tbody tr th {\n",
              "        vertical-align: top;\n",
              "    }\n",
              "\n",
              "    .dataframe thead th {\n",
              "        text-align: right;\n",
              "    }\n",
              "</style>\n",
              "<table border=\"1\" class=\"dataframe\">\n",
              "  <thead>\n",
              "    <tr style=\"text-align: right;\">\n",
              "      <th></th>\n",
              "      <th>proportion</th>\n",
              "    </tr>\n",
              "    <tr>\n",
              "      <th>main_cat</th>\n",
              "      <th></th>\n",
              "    </tr>\n",
              "  </thead>\n",
              "  <tbody>\n",
              "    <tr>\n",
              "      <th>Tools &amp; Home Improvement</th>\n",
              "      <td>0.059543</td>\n",
              "    </tr>\n",
              "    <tr>\n",
              "      <th>Automotive</th>\n",
              "      <td>0.058849</td>\n",
              "    </tr>\n",
              "    <tr>\n",
              "      <th>Arts, Crafts &amp; Sewing</th>\n",
              "      <td>0.058101</td>\n",
              "    </tr>\n",
              "    <tr>\n",
              "      <th>Toys &amp; Games</th>\n",
              "      <td>0.057727</td>\n",
              "    </tr>\n",
              "    <tr>\n",
              "      <th>Office Products</th>\n",
              "      <td>0.057407</td>\n",
              "    </tr>\n",
              "    <tr>\n",
              "      <th>Amazon Home</th>\n",
              "      <td>0.057140</td>\n",
              "    </tr>\n",
              "    <tr>\n",
              "      <th>Grocery</th>\n",
              "      <td>0.056232</td>\n",
              "    </tr>\n",
              "    <tr>\n",
              "      <th>Sports &amp; Outdoors</th>\n",
              "      <td>0.056232</td>\n",
              "    </tr>\n",
              "    <tr>\n",
              "      <th>Books</th>\n",
              "      <td>0.055805</td>\n",
              "    </tr>\n",
              "    <tr>\n",
              "      <th>Computers</th>\n",
              "      <td>0.053775</td>\n",
              "    </tr>\n",
              "    <tr>\n",
              "      <th>Movies &amp; TV</th>\n",
              "      <td>0.048542</td>\n",
              "    </tr>\n",
              "    <tr>\n",
              "      <th>Amazon Fashion</th>\n",
              "      <td>0.047848</td>\n",
              "    </tr>\n",
              "    <tr>\n",
              "      <th>Cell Phones &amp; Accessories</th>\n",
              "      <td>0.047634</td>\n",
              "    </tr>\n",
              "    <tr>\n",
              "      <th>Pet Supplies</th>\n",
              "      <td>0.046032</td>\n",
              "    </tr>\n",
              "    <tr>\n",
              "      <th>Industrial &amp; Scientific</th>\n",
              "      <td>0.044484</td>\n",
              "    </tr>\n",
              "    <tr>\n",
              "      <th>All Electronics</th>\n",
              "      <td>0.042348</td>\n",
              "    </tr>\n",
              "    <tr>\n",
              "      <th>Digital Music</th>\n",
              "      <td>0.038716</td>\n",
              "    </tr>\n",
              "    <tr>\n",
              "      <th>Camera &amp; Photo</th>\n",
              "      <td>0.029371</td>\n",
              "    </tr>\n",
              "    <tr>\n",
              "      <th>Musical Instruments</th>\n",
              "      <td>0.028730</td>\n",
              "    </tr>\n",
              "    <tr>\n",
              "      <th>Home Audio &amp; Theater</th>\n",
              "      <td>0.026754</td>\n",
              "    </tr>\n",
              "    <tr>\n",
              "      <th>Video Games</th>\n",
              "      <td>0.017409</td>\n",
              "    </tr>\n",
              "    <tr>\n",
              "      <th>Health &amp; Personal Care</th>\n",
              "      <td>0.011321</td>\n",
              "    </tr>\n",
              "  </tbody>\n",
              "</table>\n",
              "</div><br><label><b>dtype:</b> float64</label>"
            ]
          },
          "metadata": {},
          "execution_count": 27
        }
      ]
    },
    {
      "cell_type": "markdown",
      "source": [
        "## 1 - Preprocess non-text features"
      ],
      "metadata": {
        "id": "sDnXvSqo4-ri"
      }
    },
    {
      "cell_type": "markdown",
      "source": [
        "### 1.1 - Log Transform numeric"
      ],
      "metadata": {
        "id": "B9IbK2s-BQXO"
      }
    },
    {
      "cell_type": "markdown",
      "source": [
        "We are going to check, for the numeric variables, if any of them shoulb be log transformed to correct skewness."
      ],
      "metadata": {
        "id": "ssqBXkBqBUMk"
      }
    },
    {
      "cell_type": "code",
      "source": [
        "import matplotlib.pyplot as plt\n",
        "import numpy as np\n",
        "\n",
        "# Loop through variables and create the plots\n",
        "variables = ['num_features', 'len_title', 'len_description']\n",
        "for var in variables:\n",
        "    # Create a figure with two subplots\n",
        "    plt.figure(figsize=(12, 6))\n",
        "\n",
        "    # Original histogram\n",
        "    plt.subplot(1, 2, 1)\n",
        "    plt.hist(final_df[var], bins=30, color='skyblue', edgecolor='black')\n",
        "    plt.title(f'Histogram of {var}')\n",
        "    plt.xlabel(var)\n",
        "    plt.ylabel('Frequency')\n",
        "\n",
        "    # Log-transformed histogram\n",
        "    plt.subplot(1, 2, 2)\n",
        "    plt.hist(np.log1p(final_df[var]), bins=30, color='salmon', edgecolor='black')\n",
        "    plt.title(f'Histogram of np.log1p({var})')\n",
        "    plt.xlabel(f'np.log1p({var})')\n",
        "    plt.ylabel('Frequency')\n",
        "\n",
        "    # Display the plots\n",
        "    plt.tight_layout()\n",
        "    plt.show()"
      ],
      "metadata": {
        "colab": {
          "base_uri": "https://localhost:8080/",
          "height": 1000
        },
        "id": "5doZkh657f2_",
        "outputId": "edf1dada-c4b0-41e6-848e-df8fa34b1a00"
      },
      "execution_count": 4,
      "outputs": [
        {
          "output_type": "display_data",
          "data": {
            "text/plain": [
              "<Figure size 1200x600 with 2 Axes>"
            ],
            "image/png": "[encoded data removed]"
          },
          "metadata": {}
        },
        {
          "output_type": "display_data",
          "data": {
            "text/plain": [
              "<Figure size 1200x600 with 2 Axes>"
            ],
            "image/png": "[encoded data removed]"
          },
          "metadata": {}
        },
        {
          "output_type": "display_data",
          "data": {
            "text/plain": [
              "<Figure size 1200x600 with 2 Axes>"
            ],
            "image/png": "[encoded data removed]"
          },
          "metadata": {}
        }
      ]
    },
    {
      "cell_type": "markdown",
      "source": [
        "By looking at the graphs, we determine to log transform the three of them."
      ],
      "metadata": {
        "id": "_FJD9jgXBfe8"
      }
    },
    {
      "cell_type": "markdown",
      "source": [
        "### 1.2 - Process features"
      ],
      "metadata": {
        "id": "_CHtRnEtBqfD"
      }
    },
    {
      "cell_type": "markdown",
      "source": [
        "- Encode target\n",
        "- Log transform and standarize numeric\n",
        "- One-Hot encode categorical"
      ],
      "metadata": {
        "id": "a5iqeaumButF"
      }
    },
    {
      "cell_type": "code",
      "source": [
        "from sklearn.preprocessing import OneHotEncoder, StandardScaler, LabelEncoder, StandardScaler\n",
        "from sklearn.model_selection import train_test_split\n",
        "\n",
        "categ = ['also_buy_categ', 'also_view_categ', 'num_images_categ']\n",
        "numeric = ['num_features', 'len_title', 'len_description']\n",
        "log_numeric = ['num_features', 'len_title', 'len_description']\n",
        "\n",
        "target = 'main_cat'\n",
        "\n",
        "X = final_df[categ + numeric]\n",
        "y = final_df[target]\n",
        "\n",
        "\n",
        "# X_train.shape, X_test.shape, y_train.shape, y_test.shape\n",
        "# Initialize and fit LabelEncoder\n",
        "label_encoder = LabelEncoder()\n",
        "y_encoded = label_encoder.fit_transform(y)\n",
        "\n",
        "# Map classes to integers\n",
        "class_mapping = dict(zip(label_encoder.classes_, range(len(label_encoder.classes_))))\n",
        "\n",
        "# Reverse mapping if needed later\n",
        "inverse_class_mapping = {v: k for k, v in class_mapping.items()}\n",
        "\n",
        "seed = 12345\n",
        "X_train, X_test, y_train, y_test = train_test_split(\n",
        "    X, y_encoded, test_size=0.3, random_state=seed, stratify=y  # Increased test size to 30%\n",
        ")"
      ],
      "metadata": {
        "id": "ZkibHV8S4Qi3"
      },
      "execution_count": 6,
      "outputs": []
    },
    {
      "cell_type": "code",
      "source": [
        "def preprocess_data_consistent(train_df, test_df, categorical_vars, numeric_vars, log_numeric = []):\n",
        "    \"\"\"\n",
        "    Preprocess train and test datasets consistently by fitting encoders on the train data\n",
        "    and applying the same transformations to the test data.\n",
        "\n",
        "    Parameters:\n",
        "        train_df (pd.DataFrame): Training DataFrame.\n",
        "        test_df (pd.DataFrame): Testing DataFrame.\n",
        "        categorical_vars (list): List of categorical variable names.\n",
        "        numeric_vars (list): List of numeric variable names.\n",
        "\n",
        "    Returns:\n",
        "        pd.DataFrame, pd.DataFrame: Transformed train and test DataFrames.\n",
        "    \"\"\"\n",
        "    #Check log numeric is included in numeric vars\n",
        "    # One-Hot Encode Categorical Variables\n",
        "    ohe = OneHotEncoder(sparse_output=False, handle_unknown='ignore', drop='first')\n",
        "    ohe.fit(train_df[categorical_vars])\n",
        "\n",
        "    train_categorical = ohe.transform(train_df[categorical_vars])\n",
        "    test_categorical = ohe.transform(test_df[categorical_vars])\n",
        "\n",
        "    train_categorical_df = pd.DataFrame(\n",
        "        train_categorical,\n",
        "        columns=ohe.get_feature_names_out(categorical_vars),\n",
        "        index=train_df.index\n",
        "    )\n",
        "    test_categorical_df = pd.DataFrame(\n",
        "        test_categorical,\n",
        "        columns=ohe.get_feature_names_out(categorical_vars),\n",
        "        index=test_df.index\n",
        "    )\n",
        "\n",
        "    # Apply log1p to numeric values that requires it\n",
        "    for col in log_numeric:\n",
        "        X_train[col] = np.log1p(X_train[col])\n",
        "        X_test[col] = np.log1p(X_test[col])\n",
        "\n",
        "    # Standard Scale Numeric Variables\n",
        "    scaler = StandardScaler()\n",
        "    scaler.fit(train_df[numeric_vars])\n",
        "\n",
        "    train_numeric = scaler.transform(train_df[numeric_vars])\n",
        "    test_numeric = scaler.transform(test_df[numeric_vars])\n",
        "\n",
        "    train_numeric_df = pd.DataFrame(\n",
        "        train_numeric,\n",
        "        columns=numeric_vars,\n",
        "        index=train_df.index\n",
        "    )\n",
        "    test_numeric_df = pd.DataFrame(\n",
        "        test_numeric,\n",
        "        columns=numeric_vars,\n",
        "        index=test_df.index\n",
        "    )\n",
        "\n",
        "    # Combine Encoded Categorical and Scaled Numeric Variables\n",
        "    train_transformed = pd.concat([train_categorical_df, train_numeric_df], axis=1)\n",
        "    test_transformed = pd.concat([test_categorical_df, test_numeric_df], axis=1)\n",
        "\n",
        "    return train_transformed, test_transformed"
      ],
      "metadata": {
        "id": "PPppFBsn8x9F"
      },
      "execution_count": 7,
      "outputs": []
    },
    {
      "cell_type": "code",
      "source": [
        "# Preprocess the data\n",
        "X_train_preprocessed, X_test_preprocessed = preprocess_data_consistent(\n",
        "    X_train, X_test, categ, numeric, log_numeric\n",
        ")"
      ],
      "metadata": {
        "id": "rDHQDRYO-EPu"
      },
      "execution_count": 8,
      "outputs": []
    },
    {
      "cell_type": "markdown",
      "source": [
        "## 2 - Train Logistic Reg"
      ],
      "metadata": {
        "id": "oHLsDe9j-X08"
      }
    },
    {
      "cell_type": "markdown",
      "source": [
        "First, train a very simple Logistic Regression only using the created features"
      ],
      "metadata": {
        "id": "IO7trZYHB7Ue"
      }
    },
    {
      "cell_type": "code",
      "source": [
        "from sklearn.linear_model import LogisticRegression\n",
        "from sklearn.metrics import classification_report, accuracy_score\n",
        "\n",
        "def train_logistic_regression(X_train, X_test, y_train, y_test):\n",
        "    \"\"\"\n",
        "    Train a logistic regression model on the preprocessed data and evaluate it.\n",
        "\n",
        "    Parameters:\n",
        "        X_train (pd.DataFrame): Training features.\n",
        "        X_test (pd.DataFrame): Testing features.\n",
        "        y_train (pd.Series): Training target.\n",
        "        y_test (pd.Series): Testing target.\n",
        "\n",
        "    Returns:\n",
        "        LogisticRegression: Trained logistic regression model.\n",
        "    \"\"\"\n",
        "    # Initialize the logistic regression model\n",
        "    model = LogisticRegression(max_iter=1000, random_state=42, multi_class='ovr')\n",
        "\n",
        "    # Train the model\n",
        "    model.fit(X_train, y_train)\n",
        "\n",
        "    # Predict on the test set\n",
        "    y_pred = model.predict(X_test)\n",
        "\n",
        "    # Evaluate the model\n",
        "    print(\"Accuracy:\", accuracy_score(y_test, y_pred))\n",
        "    print(\"\\nClassification Report:\\n\", classification_report(y_test, y_pred))\n",
        "\n",
        "    return model"
      ],
      "metadata": {
        "id": "vFmLgITf-N62"
      },
      "execution_count": 9,
      "outputs": []
    },
    {
      "cell_type": "code",
      "source": [
        "logistic_model = train_logistic_regression(X_train_preprocessed, X_test_preprocessed, y_train, y_test)"
      ],
      "metadata": {
        "colab": {
          "base_uri": "https://localhost:8080/"
        },
        "id": "lN0mdL4q-Fmn",
        "outputId": "1a9dd045-c0d6-4d0d-8733-66c3f564f453"
      },
      "execution_count": 10,
      "outputs": [
        {
          "output_type": "stream",
          "name": "stderr",
          "text": [
            "/usr/local/lib/python3.10/dist-packages/sklearn/linear_model/_logistic.py:1256: FutureWarning: 'multi_class' was deprecated in version 1.5 and will be removed in 1.7. Use OneVsRestClassifier(LogisticRegression(..)) instead. Leave it to its default value to avoid this warning.\n",
            "  warnings.warn(\n"
          ]
        },
        {
          "output_type": "stream",
          "name": "stdout",
          "text": [
            "Accuracy: 0.26183695265218937\n",
            "\n",
            "Classification Report:\n",
            "               precision    recall  f1-score   support\n",
            "\n",
            "           0       0.00      0.00      0.00       238\n",
            "           1       0.69      0.93      0.79       269\n",
            "           2       0.10      0.12      0.11       321\n",
            "           3       0.19      0.10      0.13       326\n",
            "           4       0.13      0.26      0.18       331\n",
            "           5       0.35      0.55      0.43       313\n",
            "           6       0.17      0.01      0.01       165\n",
            "           7       0.22      0.41      0.29       268\n",
            "           8       0.15      0.24      0.18       302\n",
            "           9       0.50      0.48      0.49       217\n",
            "          10       0.42      0.66      0.52       316\n",
            "          11       0.33      0.02      0.03        64\n",
            "          12       0.00      0.00      0.00       150\n",
            "          13       0.38      0.27      0.32       250\n",
            "          14       0.34      0.38      0.36       273\n",
            "          15       0.00      0.00      0.00       161\n",
            "          16       0.13      0.10      0.11       322\n",
            "          17       0.14      0.08      0.10       259\n",
            "          18       0.18      0.15      0.17       316\n",
            "          19       0.15      0.19      0.17       335\n",
            "          20       0.17      0.13      0.15       324\n",
            "          21       0.28      0.17      0.22        98\n",
            "\n",
            "    accuracy                           0.26      5618\n",
            "   macro avg       0.23      0.24      0.22      5618\n",
            "weighted avg       0.23      0.26      0.23      5618\n",
            "\n"
          ]
        },
        {
          "output_type": "stream",
          "name": "stderr",
          "text": [
            "/usr/local/lib/python3.10/dist-packages/sklearn/metrics/_classification.py:1565: UndefinedMetricWarning: Precision is ill-defined and being set to 0.0 in labels with no predicted samples. Use `zero_division` parameter to control this behavior.\n",
            "  _warn_prf(average, modifier, f\"{metric.capitalize()} is\", len(result))\n",
            "/usr/local/lib/python3.10/dist-packages/sklearn/metrics/_classification.py:1565: UndefinedMetricWarning: Precision is ill-defined and being set to 0.0 in labels with no predicted samples. Use `zero_division` parameter to control this behavior.\n",
            "  _warn_prf(average, modifier, f\"{metric.capitalize()} is\", len(result))\n",
            "/usr/local/lib/python3.10/dist-packages/sklearn/metrics/_classification.py:1565: UndefinedMetricWarning: Precision is ill-defined and being set to 0.0 in labels with no predicted samples. Use `zero_division` parameter to control this behavior.\n",
            "  _warn_prf(average, modifier, f\"{metric.capitalize()} is\", len(result))\n"
          ]
        }
      ]
    },
    {
      "cell_type": "markdown",
      "source": [
        "## 3 - Create text embeddings"
      ],
      "metadata": {
        "id": "UeRhIxJw-Vqy"
      }
    },
    {
      "cell_type": "markdown",
      "source": [
        "To create more meaningfull variables, we will use text data to create features to be used in the model.\n",
        "\n",
        "For that, we will use a Deep Learning pretrained model to generate embeddings out of the text features.\n",
        "\n",
        "I have chosen a distil-bert model to generate them, as it is lighter and faster than a normal BERT, while still generating meaningful embeddings."
      ],
      "metadata": {
        "id": "z_YdFz5bCIYs"
      }
    },
    {
      "cell_type": "code",
      "source": [
        "import torch\n",
        "from transformers import DistilBertTokenizer, DistilBertModel\n",
        "\n",
        "# Load DistilBERT tokenizer and model\n",
        "tokenizer = DistilBertTokenizer.from_pretrained('distilbert-base-uncased')\n",
        "distilbert = DistilBertModel.from_pretrained('distilbert-base-uncased')"
      ],
      "metadata": {
        "colab": {
          "base_uri": "https://localhost:8080/",
          "height": 301,
          "referenced_widgets": [
            "16a7c15fe34e4e4081cc96fc25d064e9",
            "a96af2d269384d7ea6af2b2710b36f98",
            "9f93dcf0e6834cfbac34a09064b1ae68",
            "c67d8da09f6c4bbe8d1648d0d919ae09",
            "05833d112d904409b21c7f37214357fc",
            "ee9db374bf4e40589aaddfdf2f931de4",
            "c9af7918b0234600a83dfc2685b40b91",
            "c3c66523715f422fa6fefdc870c3fdc1",
            "cdb33b8708ca442a8a2651ca92736dfe",
            "0680bd6e5278448d85ec31414c82bb8d",
            "2daefab0ce274a37bf9607ea9b43bbc1",
            "2d5691d6d8864618926f144b06c40617",
            "933248e8cb2b4662beb2c79e57f83e99",
            "1d598d38c84649218831f4dcbb48f134",
            "f5952883b526474c86689b13e21bba8e",
            "1f0dc07fb0b1496d837c196f56dbe950",
            "8911f6de40544f3b9ad450e7bbb2461f",
            "2efb0203a7af4492837b4bd24686dd39",
            "537d81a3eea54cf09b0ee51abaab5b63",
            "32da18ef17b04108a37c68ac5e4c9528",
            "c7d03e7f96e64adfa776c78211ac0a90",
            "f339082dc32c406ba0bb535e051310a8",
            "481f827b95924a44b09c55fd1316ddae",
            "cb013b71a38e479a84f089cf6794fb03",
            "e3d232f01f854466b3c46dd3db25a39c",
            "49e336a4740a4bcdb19f86f6edac0722",
            "9dad054c3b5c4d2e8565607719019028",
            "1827505af61649ceba27a6491ebc3af1",
            "98cc47a7e73b48b9b3238431c86168b4",
            "be5b681182d14af6895cfaddf111d486",
            "47e91bbb8dd64797a6552c239a28ead7",
            "8c8e4de0beae4d70a8c17b3c0b2b73bc",
            "5cbc6cd826164016bd6e5e7232203118",
            "6f9a7f77bfd84ef288b619bdec1c7316",
            "2b87cec06b42462f9302476142a49c15",
            "654a6063b9374ea6ad54c282cc1ea27d",
            "8fc891f78f60495985e443112ff06246",
            "9f40d146db904fcf9c49332b9f4f6273",
            "deffb7903fe94aac960ebcc294e425ce",
            "44000233ad8a4659aa190e6f03f4b7d4",
            "9e44d541a9ea48d69fa01f63fbe37285",
            "61f9be10618b4328af2086974f796d11",
            "76e3631693b645a181edf2d32dbd4927",
            "11f037823b1648e0b8b3f003f5ed8ec0",
            "dd35846136b84ba3bd196c952a07780d",
            "b24d281501ba422490647eff76f3d8bb",
            "3a8ad62a1bc0422496e0d4c2d34c4eba",
            "ad21f7ff79114d99819b152c1d837a68",
            "6e9492f8cf704e34916869d16890eb1e",
            "b99de984bfa54caa8504874575df9851",
            "ca652bdd2669494c827aa143ba1dd3f1",
            "b1c0cdd8280c4867a46a1f463e000f08",
            "fceb9b598ca54430a900d3ccdb94aa64",
            "976208269a3748c9bd541a59722e68f7",
            "3c62526b3020401e92ad2c7ad70cd8cc"
          ]
        },
        "id": "U1ju0EoY-HlO",
        "outputId": "033606d7-705e-468b-f64f-9b518551bdd0"
      },
      "execution_count": 11,
      "outputs": [
        {
          "output_type": "stream",
          "name": "stderr",
          "text": [
            "/usr/local/lib/python3.10/dist-packages/huggingface_hub/utils/_auth.py:94: UserWarning: \n",
            "The secret `HF_TOKEN` does not exist in your Colab secrets.\n",
            "To authenticate with the Hugging Face Hub, create a token in your settings tab (https://huggingface.co/settings/tokens), set it as secret in your Google Colab and restart your session.\n",
            "You will be able to reuse this secret in all of your notebooks.\n",
            "Please note that authentication is recommended but still optional to access public models or datasets.\n",
            "  warnings.warn(\n"
          ]
        },
        {
          "output_type": "display_data",
          "data": {
            "text/plain": [
              "tokenizer_config.json:   0%|          | 0.00/48.0 [00:00<?, ?B/s]"
            ],
            "application/vnd.jupyter.widget-view+json": {
              "version_major": 2,
              "version_minor": 0,
              "model_id": "16a7c15fe34e4e4081cc96fc25d064e9"
            }
          },
          "metadata": {}
        },
        {
          "output_type": "display_data",
          "data": {
            "text/plain": [
              "vocab.txt:   0%|          | 0.00/232k [00:00<?, ?B/s]"
            ],
            "application/vnd.jupyter.widget-view+json": {
              "version_major": 2,
              "version_minor": 0,
              "model_id": "2d5691d6d8864618926f144b06c40617"
            }
          },
          "metadata": {}
        },
        {
          "output_type": "display_data",
          "data": {
            "text/plain": [
              "tokenizer.json:   0%|          | 0.00/466k [00:00<?, ?B/s]"
            ],
            "application/vnd.jupyter.widget-view+json": {
              "version_major": 2,
              "version_minor": 0,
              "model_id": "481f827b95924a44b09c55fd1316ddae"
            }
          },
          "metadata": {}
        },
        {
          "output_type": "display_data",
          "data": {
            "text/plain": [
              "config.json:   0%|          | 0.00/483 [00:00<?, ?B/s]"
            ],
            "application/vnd.jupyter.widget-view+json": {
              "version_major": 2,
              "version_minor": 0,
              "model_id": "6f9a7f77bfd84ef288b619bdec1c7316"
            }
          },
          "metadata": {}
        },
        {
          "output_type": "display_data",
          "data": {
            "text/plain": [
              "model.safetensors:   0%|          | 0.00/268M [00:00<?, ?B/s]"
            ],
            "application/vnd.jupyter.widget-view+json": {
              "version_major": 2,
              "version_minor": 0,
              "model_id": "dd35846136b84ba3bd196c952a07780d"
            }
          },
          "metadata": {}
        }
      ]
    },
    {
      "cell_type": "markdown",
      "source": [
        "For each record, generate an embedding vector for each of the text columns:\n",
        "\n",
        "- title\n",
        "- description\n",
        "- features"
      ],
      "metadata": {
        "id": "pxFkyrPoCr9a"
      }
    },
    {
      "cell_type": "code",
      "source": [
        "import numpy as np\n",
        "from tqdm import tqdm\n",
        "from datasets import Dataset\n",
        "\n",
        "\n",
        "def get_bert_embeddings_hf(df, text_column, tokenizer, model, batch_size=32, max_length=128, device='cpu'):\n",
        "    \"\"\"\n",
        "    Generate BERT embeddings for a text column using Hugging Face datasets and parallel processing.\n",
        "\n",
        "    Parameters:\n",
        "        df (pd.DataFrame): Input DataFrame.\n",
        "        text_column (str): Name of the text column to process.\n",
        "        tokenizer (Tokenizer): Pretrained tokenizer.\n",
        "        model (Model): Pretrained BERT or DistilBERT model.\n",
        "        batch_size (int): Batch size for tokenization and embedding generation.\n",
        "        max_length (int): Maximum token length.\n",
        "        device (str): Device to run the model on ('cpu' or 'cuda').\n",
        "\n",
        "    Returns:\n",
        "        list: List of embeddings for the text column.\n",
        "    \"\"\"\n",
        "    # Convert DataFrame to Hugging Face Dataset\n",
        "    dataset = Dataset.from_pandas(df[[text_column]])\n",
        "\n",
        "    # Tokenize the text in batches\n",
        "    def tokenize_batch(batch):\n",
        "        return tokenizer(\n",
        "            batch[text_column],\n",
        "            padding=True,\n",
        "            truncation=True,\n",
        "            max_length=max_length,\n",
        "            return_tensors=\"pt\"\n",
        "        )\n",
        "\n",
        "    dataset = dataset.map(tokenize_batch, batched=True, batch_size=batch_size)\n",
        "\n",
        "    # Move model to the appropriate device\n",
        "    model.to(device)\n",
        "\n",
        "    # Generate embeddings in batches\n",
        "    embeddings = []\n",
        "    input_id_list = []\n",
        "    attention_mask_list = []\n",
        "    for i in tqdm(range(0, len(dataset), batch_size), desc=f\"Processing {text_column}\"):\n",
        "        batch = dataset[i:i + batch_size]\n",
        "        input_ids = torch.tensor(batch['input_ids']).to(device)\n",
        "        attention_mask = torch.tensor(batch['attention_mask']).to(device)\n",
        "\n",
        "        with torch.no_grad():\n",
        "            outputs = model(input_ids=input_ids, attention_mask=attention_mask)\n",
        "            cls_embeddings = outputs.last_hidden_state[:, 0, :].cpu().numpy()  # CLS token\n",
        "\n",
        "        embeddings.extend(cls_embeddings)\n",
        "\n",
        "    return embeddings"
      ],
      "metadata": {
        "id": "tqJKHh3N-oFm"
      },
      "execution_count": 12,
      "outputs": []
    },
    {
      "cell_type": "code",
      "source": [
        "# Define device\n",
        "device = 'cuda' if torch.cuda.is_available() else 'cpu'\n",
        "\n",
        "#Max length for texts\n",
        "max_length = 256\n",
        "\n",
        "# Generate embeddings for each text column\n",
        "# Process each text column\n",
        "for column in ['title', 'description', 'features']:\n",
        "    final_df[f'{column}_emb'] = get_bert_embeddings_hf(\n",
        "        final_df,\n",
        "        text_column=column,\n",
        "        tokenizer=tokenizer,\n",
        "        model=distilbert,\n",
        "        batch_size=256,\n",
        "        max_length=max_length,\n",
        "        device=device\n",
        "    )"
      ],
      "metadata": {
        "colab": {
          "base_uri": "https://localhost:8080/",
          "height": 165,
          "referenced_widgets": [
            "2b5925611574432d99049dce803d2129",
            "73a610f394d44773b02c8bad85e07b6d",
            "e829d3250ef5483bac56985195f312be",
            "26538dab22314c90b641c7d64c8b6813",
            "64bb54efb0da4db19c3d11d795c2eb00",
            "9d6714f0633448948b33cb8e70c6a734",
            "2c94f589f65e4a03b8eab0fbf27059ce",
            "13708bd7c6504c808bf51393ce3dae32",
            "180ed578a524450eb00aa3948ac236a5",
            "fc95fb3b8a324cd9af8641b8eaf0ed69",
            "3567b9a900024b22ab9baa340f0b6d9c",
            "e9e9676a30904b779b7b2ffe4e83a6ef",
            "ac1fa494859e4bb78b5c1f46cc1b9e3f",
            "fea9af74c1f1427cb7e0ce136f10d1d6",
            "a6f52c546d184453a594521f2683684f",
            "758f539a347d45bbabfd5ba4d0d40edb",
            "0d1ad8d562e9499783e01591174a9e05",
            "ba5382fd5f1f477d8d3f854e6979e660",
            "5a5df88adf0f40e393df32042fcaffa1",
            "569d321b93a145c299fda7253a307bae",
            "b5327b5fa6774f4b9292126af38c4b92",
            "fb9c3b6fb176455198768e5857c7650c",
            "8425773c73a746979e1b618dc7e3f679",
            "f3ec0b358b9149eaa120c8b977c111ab",
            "f24c03c7f9f2457ca6834189cd883d44",
            "8ac3b5a8314c481db2281b3bbf6cd947",
            "f1d7c17113b64bd8a3eb2b58911f0beb",
            "8ba9e0472d4049f1b515344f36697b07",
            "a1d3ae3a3a2a48ed8ee2963feaf6778e",
            "ac1386a3d9594929ad83869ce606dc57",
            "aa7cdaac21974d239732f5e995bc80c8",
            "61dbff4f1b4c496cb6030688978b271c",
            "5198b258346c4c1e94748094379120d0"
          ]
        },
        "id": "J7YQVJyn-xSf",
        "outputId": "0a005063-ee31-4466-df77-8886cb09c660"
      },
      "execution_count": 13,
      "outputs": [
        {
          "output_type": "display_data",
          "data": {
            "text/plain": [
              "Map:   0%|          | 0/18726 [00:00<?, ? examples/s]"
            ],
            "application/vnd.jupyter.widget-view+json": {
              "version_major": 2,
              "version_minor": 0,
              "model_id": "2b5925611574432d99049dce803d2129"
            }
          },
          "metadata": {}
        },
        {
          "output_type": "stream",
          "name": "stderr",
          "text": [
            "Processing title: 100%|██████████| 74/74 [00:49<00:00,  1.48it/s]\n"
          ]
        },
        {
          "output_type": "display_data",
          "data": {
            "text/plain": [
              "Map:   0%|          | 0/18726 [00:00<?, ? examples/s]"
            ],
            "application/vnd.jupyter.widget-view+json": {
              "version_major": 2,
              "version_minor": 0,
              "model_id": "e9e9676a30904b779b7b2ffe4e83a6ef"
            }
          },
          "metadata": {}
        },
        {
          "output_type": "stream",
          "name": "stderr",
          "text": [
            "Processing description: 100%|██████████| 74/74 [02:15<00:00,  1.83s/it]\n"
          ]
        },
        {
          "output_type": "display_data",
          "data": {
            "text/plain": [
              "Map:   0%|          | 0/18726 [00:00<?, ? examples/s]"
            ],
            "application/vnd.jupyter.widget-view+json": {
              "version_major": 2,
              "version_minor": 0,
              "model_id": "8425773c73a746979e1b618dc7e3f679"
            }
          },
          "metadata": {}
        },
        {
          "output_type": "stream",
          "name": "stderr",
          "text": [
            "Processing features: 100%|██████████| 74/74 [02:15<00:00,  1.83s/it]\n"
          ]
        }
      ]
    },
    {
      "cell_type": "code",
      "source": [
        "# Display the updated DataFrame\n",
        "final_df[[f'{column}_emb' for column in ['title', 'description', 'features']]].head()"
      ],
      "metadata": {
        "colab": {
          "base_uri": "https://localhost:8080/",
          "height": 206
        },
        "id": "FXubxctn-0C1",
        "outputId": "d3ea342d-d470-4726-ed88-82009c385201"
      },
      "execution_count": 14,
      "outputs": [
        {
          "output_type": "execute_result",
          "data": {
            "text/plain": [
              "                                           title_emb  \\\n",
              "0  [-0.33970937, -0.14052069, 0.058355477, -0.125...   \n",
              "1  [-0.36181694, -0.09453951, -0.40946513, -0.101...   \n",
              "2  [-0.19045362, -0.35250556, 0.2207744, -0.14431...   \n",
              "3  [-0.3877841, -0.12987053, 0.10380132, -0.09797...   \n",
              "4  [-0.20085979, -0.1443409, 0.08972699, -0.10345...   \n",
              "\n",
              "                                     description_emb  \\\n",
              "0  [-0.2173604, -0.040767107, 0.03600766, 0.13853...   \n",
              "1  [-0.31227216, -0.23831831, 0.19799465, 0.21152...   \n",
              "2  [-0.25852072, -0.27653632, 0.18439013, -0.0004...   \n",
              "3  [-0.4799227, -0.3261352, 0.3394701, -0.0467377...   \n",
              "4  [-0.2877157, -0.22141042, 0.25516853, 0.018671...   \n",
              "\n",
              "                                        features_emb  \n",
              "0  [-0.18456016, -0.1472086, 0.4525508, 0.0443072...  \n",
              "1  [-0.4002151, -0.10326757, 0.161922, -0.0062077...  \n",
              "2  [-0.36996695, -0.15155633, 0.079592094, 0.0362...  \n",
              "3  [-0.54794323, -0.32096547, 0.2709508, -0.02574...  \n",
              "4  [-0.1890923, -0.059448488, 0.036933996, -0.163...  "
            ],
            "text/html": [
              "\n",
              "  <div id=\"df-212355f3-6ef0-4e71-be27-feb0d6f71965\" class=\"colab-df-container\">\n",
              "    <div>\n",
              "<style scoped>\n",
              "    .dataframe tbody tr th:only-of-type {\n",
              "        vertical-align: middle;\n",
              "    }\n",
              "\n",
              "    .dataframe tbody tr th {\n",
              "        vertical-align: top;\n",
              "    }\n",
              "\n",
              "    .dataframe thead th {\n",
              "        text-align: right;\n",
              "    }\n",
              "</style>\n",
              "<table border=\"1\" class=\"dataframe\">\n",
              "  <thead>\n",
              "    <tr style=\"text-align: right;\">\n",
              "      <th></th>\n",
              "      <th>title_emb</th>\n",
              "      <th>description_emb</th>\n",
              "      <th>features_emb</th>\n",
              "    </tr>\n",
              "  </thead>\n",
              "  <tbody>\n",
              "    <tr>\n",
              "      <th>0</th>\n",
              "      <td>[-0.33970937, -0.14052069, 0.058355477, -0.125...</td>\n",
              "      <td>[-0.2173604, -0.040767107, 0.03600766, 0.13853...</td>\n",
              "      <td>[-0.18456016, -0.1472086, 0.4525508, 0.0443072...</td>\n",
              "    </tr>\n",
              "    <tr>\n",
              "      <th>1</th>\n",
              "      <td>[-0.36181694, -0.09453951, -0.40946513, -0.101...</td>\n",
              "      <td>[-0.31227216, -0.23831831, 0.19799465, 0.21152...</td>\n",
              "      <td>[-0.4002151, -0.10326757, 0.161922, -0.0062077...</td>\n",
              "    </tr>\n",
              "    <tr>\n",
              "      <th>2</th>\n",
              "      <td>[-0.19045362, -0.35250556, 0.2207744, -0.14431...</td>\n",
              "      <td>[-0.25852072, -0.27653632, 0.18439013, -0.0004...</td>\n",
              "      <td>[-0.36996695, -0.15155633, 0.079592094, 0.0362...</td>\n",
              "    </tr>\n",
              "    <tr>\n",
              "      <th>3</th>\n",
              "      <td>[-0.3877841, -0.12987053, 0.10380132, -0.09797...</td>\n",
              "      <td>[-0.4799227, -0.3261352, 0.3394701, -0.0467377...</td>\n",
              "      <td>[-0.54794323, -0.32096547, 0.2709508, -0.02574...</td>\n",
              "    </tr>\n",
              "    <tr>\n",
              "      <th>4</th>\n",
              "      <td>[-0.20085979, -0.1443409, 0.08972699, -0.10345...</td>\n",
              "      <td>[-0.2877157, -0.22141042, 0.25516853, 0.018671...</td>\n",
              "      <td>[-0.1890923, -0.059448488, 0.036933996, -0.163...</td>\n",
              "    </tr>\n",
              "  </tbody>\n",
              "</table>\n",
              "</div>\n",
              "    <div class=\"colab-df-buttons\">\n",
              "\n",
              "  <div class=\"colab-df-container\">\n",
              "    <button class=\"colab-df-convert\" onclick=\"convertToInteractive('df-212355f3-6ef0-4e71-be27-feb0d6f71965')\"\n",
              "            title=\"Convert this dataframe to an interactive table.\"\n",
              "            style=\"display:none;\">\n",
              "\n",
              "  <svg xmlns=\"http://www.w3.org/2000/svg\" height=\"24px\" viewBox=\"0 -960 960 960\">\n",
              "    <path d=\"M120-120v-720h720v720H120Zm60-500h600v-160H180v160Zm220 220h160v-160H400v160Zm0 220h160v-160H400v160ZM180-400h160v-160H180v160Zm440 0h160v-160H620v160ZM180-180h160v-160H180v160Zm440 0h160v-160H620v160Z\"/>\n",
              "  </svg>\n",
              "    </button>\n",
              "\n",
              "  <style>\n",
              "    .colab-df-container {\n",
              "      display:flex;\n",
              "      gap: 12px;\n",
              "    }\n",
              "\n",
              "    .colab-df-convert {\n",
              "      background-color: #E8F0FE;\n",
              "      border: none;\n",
              "      border-radius: 50%;\n",
              "      cursor: pointer;\n",
              "      display: none;\n",
              "      fill: #1967D2;\n",
              "      height: 32px;\n",
              "      padding: 0 0 0 0;\n",
              "      width: 32px;\n",
              "    }\n",
              "\n",
              "    .colab-df-convert:hover {\n",
              "      background-color: #E2EBFA;\n",
              "      box-shadow: 0px 1px 2px rgba(60, 64, 67, 0.3), 0px 1px 3px 1px rgba(60, 64, 67, 0.15);\n",
              "      fill: #174EA6;\n",
              "    }\n",
              "\n",
              "    .colab-df-buttons div {\n",
              "      margin-bottom: 4px;\n",
              "    }\n",
              "\n",
              "    [theme=dark] .colab-df-convert {\n",
              "      background-color: #3B4455;\n",
              "      fill: #D2E3FC;\n",
              "    }\n",
              "\n",
              "    [theme=dark] .colab-df-convert:hover {\n",
              "      background-color: #434B5C;\n",
              "      box-shadow: 0px 1px 3px 1px rgba(0, 0, 0, 0.15);\n",
              "      filter: drop-shadow(0px 1px 2px rgba(0, 0, 0, 0.3));\n",
              "      fill: #FFFFFF;\n",
              "    }\n",
              "  </style>\n",
              "\n",
              "    <script>\n",
              "      const buttonEl =\n",
              "        document.querySelector('#df-212355f3-6ef0-4e71-be27-feb0d6f71965 button.colab-df-convert');\n",
              "      buttonEl.style.display =\n",
              "        google.colab.kernel.accessAllowed ? 'block' : 'none';\n",
              "\n",
              "      async function convertToInteractive(key) {\n",
              "        const element = document.querySelector('#df-212355f3-6ef0-4e71-be27-feb0d6f71965');\n",
              "        const dataTable =\n",
              "          await google.colab.kernel.invokeFunction('convertToInteractive',\n",
              "                                                    [key], {});\n",
              "        if (!dataTable) return;\n",
              "\n",
              "        const docLinkHtml = 'Like what you see? Visit the ' +\n",
              "          '<a target=\"_blank\" href=https://colab.research.google.com/notebooks/data_table.ipynb>data table notebook</a>'\n",
              "          + ' to learn more about interactive tables.';\n",
              "        element.innerHTML = '';\n",
              "        dataTable['output_type'] = 'display_data';\n",
              "        await google.colab.output.renderOutput(dataTable, element);\n",
              "        const docLink = document.createElement('div');\n",
              "        docLink.innerHTML = docLinkHtml;\n",
              "        element.appendChild(docLink);\n",
              "      }\n",
              "    </script>\n",
              "  </div>\n",
              "\n",
              "\n",
              "<div id=\"df-ca4480b0-7bc5-4619-8767-7a7026cda09d\">\n",
              "  <button class=\"colab-df-quickchart\" onclick=\"quickchart('df-ca4480b0-7bc5-4619-8767-7a7026cda09d')\"\n",
              "            title=\"Suggest charts\"\n",
              "            style=\"display:none;\">\n",
              "\n",
              "<svg xmlns=\"http://www.w3.org/2000/svg\" height=\"24px\"viewBox=\"0 0 24 24\"\n",
              "     width=\"24px\">\n",
              "    <g>\n",
              "        <path d=\"M19 3H5c-1.1 0-2 .9-2 2v14c0 1.1.9 2 2 2h14c1.1 0 2-.9 2-2V5c0-1.1-.9-2-2-2zM9 17H7v-7h2v7zm4 0h-2V7h2v10zm4 0h-2v-4h2v4z\"/>\n",
              "    </g>\n",
              "</svg>\n",
              "  </button>\n",
              "\n",
              "<style>\n",
              "  .colab-df-quickchart {\n",
              "      --bg-color: #E8F0FE;\n",
              "      --fill-color: #1967D2;\n",
              "      --hover-bg-color: #E2EBFA;\n",
              "      --hover-fill-color: #174EA6;\n",
              "      --disabled-fill-color: #AAA;\n",
              "      --disabled-bg-color: #DDD;\n",
              "  }\n",
              "\n",
              "  [theme=dark] .colab-df-quickchart {\n",
              "      --bg-color: #3B4455;\n",
              "      --fill-color: #D2E3FC;\n",
              "      --hover-bg-color: #434B5C;\n",
              "      --hover-fill-color: #FFFFFF;\n",
              "      --disabled-bg-color: #3B4455;\n",
              "      --disabled-fill-color: #666;\n",
              "  }\n",
              "\n",
              "  .colab-df-quickchart {\n",
              "    background-color: var(--bg-color);\n",
              "    border: none;\n",
              "    border-radius: 50%;\n",
              "    cursor: pointer;\n",
              "    display: none;\n",
              "    fill: var(--fill-color);\n",
              "    height: 32px;\n",
              "    padding: 0;\n",
              "    width: 32px;\n",
              "  }\n",
              "\n",
              "  .colab-df-quickchart:hover {\n",
              "    background-color: var(--hover-bg-color);\n",
              "    box-shadow: 0 1px 2px rgba(60, 64, 67, 0.3), 0 1px 3px 1px rgba(60, 64, 67, 0.15);\n",
              "    fill: var(--button-hover-fill-color);\n",
              "  }\n",
              "\n",
              "  .colab-df-quickchart-complete:disabled,\n",
              "  .colab-df-quickchart-complete:disabled:hover {\n",
              "    background-color: var(--disabled-bg-color);\n",
              "    fill: var(--disabled-fill-color);\n",
              "    box-shadow: none;\n",
              "  }\n",
              "\n",
              "  .colab-df-spinner {\n",
              "    border: 2px solid var(--fill-color);\n",
              "    border-color: transparent;\n",
              "    border-bottom-color: var(--fill-color);\n",
              "    animation:\n",
              "      spin 1s steps(1) infinite;\n",
              "  }\n",
              "\n",
              "  @keyframes spin {\n",
              "    0% {\n",
              "      border-color: transparent;\n",
              "      border-bottom-color: var(--fill-color);\n",
              "      border-left-color: var(--fill-color);\n",
              "    }\n",
              "    20% {\n",
              "      border-color: transparent;\n",
              "      border-left-color: var(--fill-color);\n",
              "      border-top-color: var(--fill-color);\n",
              "    }\n",
              "    30% {\n",
              "      border-color: transparent;\n",
              "      border-left-color: var(--fill-color);\n",
              "      border-top-color: var(--fill-color);\n",
              "      border-right-color: var(--fill-color);\n",
              "    }\n",
              "    40% {\n",
              "      border-color: transparent;\n",
              "      border-right-color: var(--fill-color);\n",
              "      border-top-color: var(--fill-color);\n",
              "    }\n",
              "    60% {\n",
              "      border-color: transparent;\n",
              "      border-right-color: var(--fill-color);\n",
              "    }\n",
              "    80% {\n",
              "      border-color: transparent;\n",
              "      border-right-color: var(--fill-color);\n",
              "      border-bottom-color: var(--fill-color);\n",
              "    }\n",
              "    90% {\n",
              "      border-color: transparent;\n",
              "      border-bottom-color: var(--fill-color);\n",
              "    }\n",
              "  }\n",
              "</style>\n",
              "\n",
              "  <script>\n",
              "    async function quickchart(key) {\n",
              "      const quickchartButtonEl =\n",
              "        document.querySelector('#' + key + ' button');\n",
              "      quickchartButtonEl.disabled = true;  // To prevent multiple clicks.\n",
              "      quickchartButtonEl.classList.add('colab-df-spinner');\n",
              "      try {\n",
              "        const charts = await google.colab.kernel.invokeFunction(\n",
              "            'suggestCharts', [key], {});\n",
              "      } catch (error) {\n",
              "        console.error('Error during call to suggestCharts:', error);\n",
              "      }\n",
              "      quickchartButtonEl.classList.remove('colab-df-spinner');\n",
              "      quickchartButtonEl.classList.add('colab-df-quickchart-complete');\n",
              "    }\n",
              "    (() => {\n",
              "      let quickchartButtonEl =\n",
              "        document.querySelector('#df-ca4480b0-7bc5-4619-8767-7a7026cda09d button');\n",
              "      quickchartButtonEl.style.display =\n",
              "        google.colab.kernel.accessAllowed ? 'block' : 'none';\n",
              "    })();\n",
              "  </script>\n",
              "</div>\n",
              "\n",
              "    </div>\n",
              "  </div>\n"
            ],
            "application/vnd.google.colaboratory.intrinsic+json": {
              "type": "dataframe",
              "summary": "{\n  \"name\": \"final_df[[f'{column}_emb' for column in ['title', 'description', 'features']]]\",\n  \"rows\": 5,\n  \"fields\": [\n    {\n      \"column\": \"title_emb\",\n      \"properties\": {\n        \"dtype\": \"object\",\n        \"semantic_type\": \"\",\n        \"description\": \"\"\n      }\n    },\n    {\n      \"column\": \"description_emb\",\n      \"properties\": {\n        \"dtype\": \"object\",\n        \"semantic_type\": \"\",\n        \"description\": \"\"\n      }\n    },\n    {\n      \"column\": \"features_emb\",\n      \"properties\": {\n        \"dtype\": \"object\",\n        \"semantic_type\": \"\",\n        \"description\": \"\"\n      }\n    }\n  ]\n}"
            }
          },
          "metadata": {},
          "execution_count": 14
        }
      ]
    },
    {
      "cell_type": "markdown",
      "source": [
        "## 4 - Train features + embeddings model"
      ],
      "metadata": {
        "id": "JtUXruCNAJxb"
      }
    },
    {
      "cell_type": "markdown",
      "source": [
        "Now, using the generated embeddings, we will use them along with the previous features as input for the model."
      ],
      "metadata": {
        "id": "B17RjQGrFufT"
      }
    },
    {
      "cell_type": "code",
      "source": [
        "from sklearn.preprocessing import OneHotEncoder, StandardScaler, LabelEncoder, StandardScaler\n",
        "from sklearn.model_selection import train_test_split\n",
        "\n",
        "categ = ['also_buy_categ', 'also_view_categ', 'num_images_categ']\n",
        "numeric = ['num_features', 'len_title', 'len_description']\n",
        "log_numeric = ['num_features', 'len_title', 'len_description']\n",
        "embed = ['description_emb', 'title_emb', 'features_emb']\n",
        "\n",
        "target = 'main_cat'\n",
        "\n",
        "X = final_df[categ + numeric + embed]\n",
        "y = final_df[target]\n",
        "\n",
        "\n",
        "# X_train.shape, X_test.shape, y_train.shape, y_test.shape\n",
        "# Initialize and fit LabelEncoder\n",
        "label_encoder = LabelEncoder()\n",
        "y_encoded = label_encoder.fit_transform(y)\n",
        "\n",
        "# Map classes to integers\n",
        "class_mapping = dict(zip(label_encoder.classes_, range(len(label_encoder.classes_))))\n",
        "\n",
        "# Reverse mapping if needed later\n",
        "inverse_class_mapping = {v: k for k, v in class_mapping.items()}\n",
        "\n",
        "seed = 12345\n",
        "X_train, X_test, y_train, y_test = train_test_split(\n",
        "    X, y_encoded, test_size=0.3, random_state=seed, stratify=y  # Increased test size to 30%\n",
        ")"
      ],
      "metadata": {
        "id": "8oLcVsyPACLZ"
      },
      "execution_count": 15,
      "outputs": []
    },
    {
      "cell_type": "markdown",
      "source": [
        "Now, the data preprocessing part of the numeric and categorical featues is exactly the same.\n",
        "\n",
        "The embeddings features could be implemented in two ways:\n",
        "- Concatenating the three embeddings: This would ensure each text column gets its full and isolated representation as feature. But it will imply adding 768 (Bert embed dimension) * 3 (number of text columns) new features\n",
        "\n",
        "- Adding the embeddings: As the 3 embedding vectors have the same dimension, they could be added, to form an unique 792 length vector, containing the combined information of the embeddings of the three columns.\n",
        "\n",
        "We saw that, for some records, either description, title or features could be an empty string, but never the three of them. This mean that, by adding them, we are not only reducing the number of features and speeding up training, but also ensuring that each vector has meaningful information about the row.\n",
        "\n",
        "For that reason, we will add the embeddings up instead of concatenate them."
      ],
      "metadata": {
        "id": "Z_HB9KpbAXMW"
      }
    },
    {
      "cell_type": "code",
      "source": [
        "# Preprocess the data\n",
        "X_train_preprocessed, X_test_preprocessed = preprocess_data_consistent(\n",
        "    X_train[categ + numeric], X_test[categ + numeric], categ, numeric, log_numeric\n",
        ")\n",
        "\n",
        "# Define embedding columns\n",
        "embedding_columns = ['description_emb', 'title_emb', 'features_emb']\n",
        "\n",
        "# Sum all embeddings for train and test sets\n",
        "X_train_embeddings = np.sum([np.vstack(X_train[col].values) for col in embedding_columns], axis=0)\n",
        "X_test_embeddings = np.sum([np.vstack(X_test[col].values) for col in embedding_columns], axis=0)\n",
        "\n",
        "# Combine preprocessed structured features with summed embeddings\n",
        "X_train_final = np.hstack([X_train_preprocessed.values, X_train_embeddings])\n",
        "X_test_final = np.hstack([X_test_preprocessed.values, X_test_embeddings])"
      ],
      "metadata": {
        "id": "anq-j2GMAQQn"
      },
      "execution_count": 16,
      "outputs": []
    },
    {
      "cell_type": "markdown",
      "source": [
        "Now, with all the features prepared, train the model."
      ],
      "metadata": {
        "id": "WZwAXwf4Ajzb"
      }
    },
    {
      "cell_type": "code",
      "source": [
        "# Train the logistic regression\n",
        "logistic_model = LogisticRegression(max_iter=1000, random_state=42, multi_class='ovr')\n",
        "logistic_model.fit(X_train_final, y_train)\n",
        "\n",
        "# Predict and evaluate\n",
        "y_pred = logistic_model.predict(X_test_final)\n",
        "y_probs = logistic_model.predict_proba(X_test_final)\n",
        "print(\"Accuracy:\", accuracy_score(y_test, y_pred))\n",
        "print(\"\\nClassification Report:\\n\", classification_report(y_test, y_pred, target_names=label_encoder.classes_))"
      ],
      "metadata": {
        "colab": {
          "base_uri": "https://localhost:8080/"
        },
        "id": "zt4Y_2kcAkf-",
        "outputId": "5a2560e5-2f92-439e-dea8-2b0dee3fd89e"
      },
      "execution_count": 18,
      "outputs": [
        {
          "output_type": "stream",
          "name": "stderr",
          "text": [
            "/usr/local/lib/python3.10/dist-packages/sklearn/linear_model/_logistic.py:1256: FutureWarning: 'multi_class' was deprecated in version 1.5 and will be removed in 1.7. Use OneVsRestClassifier(LogisticRegression(..)) instead. Leave it to its default value to avoid this warning.\n",
            "  warnings.warn(\n"
          ]
        },
        {
          "output_type": "stream",
          "name": "stdout",
          "text": [
            "Accuracy: 0.7443930224279103\n",
            "\n",
            "Classification Report:\n",
            "                            precision    recall  f1-score   support\n",
            "\n",
            "          All Electronics       0.39      0.27      0.32       238\n",
            "           Amazon Fashion       0.93      0.96      0.94       269\n",
            "              Amazon Home       0.60      0.55      0.57       321\n",
            "    Arts, Crafts & Sewing       0.70      0.71      0.71       326\n",
            "               Automotive       0.76      0.85      0.81       331\n",
            "                    Books       0.91      0.95      0.93       313\n",
            "           Camera & Photo       0.72      0.69      0.71       165\n",
            "Cell Phones & Accessories       0.72      0.80      0.76       268\n",
            "                Computers       0.66      0.69      0.67       302\n",
            "            Digital Music       0.87      0.89      0.88       217\n",
            "                  Grocery       0.96      0.98      0.97       316\n",
            "   Health & Personal Care       0.52      0.47      0.49        64\n",
            "     Home Audio & Theater       0.51      0.45      0.48       150\n",
            "  Industrial & Scientific       0.71      0.78      0.74       250\n",
            "              Movies & TV       0.86      0.85      0.86       273\n",
            "      Musical Instruments       0.77      0.76      0.77       161\n",
            "          Office Products       0.71      0.72      0.71       322\n",
            "             Pet Supplies       0.86      0.85      0.85       259\n",
            "        Sports & Outdoors       0.69      0.66      0.68       316\n",
            " Tools & Home Improvement       0.65      0.64      0.64       335\n",
            "             Toys & Games       0.70      0.73      0.72       324\n",
            "              Video Games       0.87      0.74      0.80        98\n",
            "\n",
            "                 accuracy                           0.74      5618\n",
            "                macro avg       0.73      0.73      0.73      5618\n",
            "             weighted avg       0.74      0.74      0.74      5618\n",
            "\n"
          ]
        }
      ]
    },
    {
      "cell_type": "markdown",
      "source": [
        "## 5 - XGBoost"
      ],
      "metadata": {
        "id": "2JURdo-fYXc1"
      }
    },
    {
      "cell_type": "markdown",
      "source": [
        "Having already the data prepared, we will try more models. Next is XGBoost"
      ],
      "metadata": {
        "id": "Ca2UA_u_IpWm"
      }
    },
    {
      "cell_type": "code",
      "source": [
        "import xgboost as xgb\n",
        "from sklearn.metrics import classification_report, accuracy_score\n",
        "\n",
        "# Convert data into DMatrix for XGBoost\n",
        "dtrain = xgb.DMatrix(X_train_final, label=y_train)\n",
        "dtest = xgb.DMatrix(X_test_final, label=y_test)\n",
        "\n",
        "# Define XGBoost parameters\n",
        "params = {\n",
        "    \"objective\": \"multi:softmax\",  # For multi-class classification\n",
        "    \"num_class\": len(set(y_train)),  # Number of unique classes\n",
        "    \"max_depth\": 6,                 # Maximum tree depth\n",
        "    \"eta\": 0.3,                     # Learning rate\n",
        "    \"eval_metric\": \"merror\",        # Evaluation metric for multi-class\n",
        "    \"seed\": 42                      # Random seed for reproducibility\n",
        "}\n",
        "\n",
        "# Train the model\n",
        "num_round = 100  # Number of boosting rounds"
      ],
      "metadata": {
        "id": "vsHFOTgGYaaN"
      },
      "execution_count": 19,
      "outputs": []
    },
    {
      "cell_type": "code",
      "source": [
        "bst = xgb.train(\n",
        "    params,\n",
        "    dtrain,\n",
        "    num_round,\n",
        "    evals=[(dtest, \"Test\")],\n",
        "    early_stopping_rounds=10,\n",
        "    verbose_eval=True\n",
        ")"
      ],
      "metadata": {
        "colab": {
          "base_uri": "https://localhost:8080/"
        },
        "id": "x-GjR4GoZRYB",
        "outputId": "a1fe9236-60f3-459a-d205-d7ca9b307691"
      },
      "execution_count": 20,
      "outputs": [
        {
          "output_type": "stream",
          "name": "stdout",
          "text": [
            "[0]\tTest-merror:0.45603\n",
            "[1]\tTest-merror:0.42221\n",
            "[2]\tTest-merror:0.40263\n",
            "[3]\tTest-merror:0.39106\n",
            "[4]\tTest-merror:0.37789\n",
            "[5]\tTest-merror:0.37255\n",
            "[6]\tTest-merror:0.36276\n",
            "[7]\tTest-merror:0.35760\n",
            "[8]\tTest-merror:0.35190\n",
            "[9]\tTest-merror:0.34906\n",
            "[10]\tTest-merror:0.34478\n",
            "[11]\tTest-merror:0.33944\n",
            "[12]\tTest-merror:0.33588\n",
            "[13]\tTest-merror:0.33606\n",
            "[14]\tTest-merror:0.32859\n",
            "[15]\tTest-merror:0.32770\n",
            "[16]\tTest-merror:0.32467\n",
            "[17]\tTest-merror:0.32378\n",
            "[18]\tTest-merror:0.32147\n",
            "[19]\tTest-merror:0.31986\n",
            "[20]\tTest-merror:0.31595\n",
            "[21]\tTest-merror:0.31328\n",
            "[22]\tTest-merror:0.30954\n",
            "[23]\tTest-merror:0.30972\n",
            "[24]\tTest-merror:0.30883\n",
            "[25]\tTest-merror:0.30865\n",
            "[26]\tTest-merror:0.30847\n",
            "[27]\tTest-merror:0.30740\n",
            "[28]\tTest-merror:0.30598\n",
            "[29]\tTest-merror:0.30402\n",
            "[30]\tTest-merror:0.30509\n",
            "[31]\tTest-merror:0.30367\n",
            "[32]\tTest-merror:0.30331\n",
            "[33]\tTest-merror:0.30064\n",
            "[34]\tTest-merror:0.30117\n",
            "[35]\tTest-merror:0.30100\n",
            "[36]\tTest-merror:0.29993\n",
            "[37]\tTest-merror:0.29975\n",
            "[38]\tTest-merror:0.29957\n",
            "[39]\tTest-merror:0.29868\n",
            "[40]\tTest-merror:0.29744\n",
            "[41]\tTest-merror:0.29672\n",
            "[42]\tTest-merror:0.29477\n",
            "[43]\tTest-merror:0.29352\n",
            "[44]\tTest-merror:0.29423\n",
            "[45]\tTest-merror:0.29512\n",
            "[46]\tTest-merror:0.29316\n",
            "[47]\tTest-merror:0.29263\n",
            "[48]\tTest-merror:0.29192\n",
            "[49]\tTest-merror:0.29121\n",
            "[50]\tTest-merror:0.28943\n",
            "[51]\tTest-merror:0.28854\n",
            "[52]\tTest-merror:0.28782\n",
            "[53]\tTest-merror:0.28658\n",
            "[54]\tTest-merror:0.28658\n",
            "[55]\tTest-merror:0.28711\n",
            "[56]\tTest-merror:0.28765\n",
            "[57]\tTest-merror:0.28693\n",
            "[58]\tTest-merror:0.28676\n",
            "[59]\tTest-merror:0.28693\n",
            "[60]\tTest-merror:0.28693\n",
            "[61]\tTest-merror:0.28747\n",
            "[62]\tTest-merror:0.28622\n",
            "[63]\tTest-merror:0.28426\n",
            "[64]\tTest-merror:0.28444\n",
            "[65]\tTest-merror:0.28391\n",
            "[66]\tTest-merror:0.28337\n",
            "[67]\tTest-merror:0.28320\n",
            "[68]\tTest-merror:0.28302\n",
            "[69]\tTest-merror:0.28053\n",
            "[70]\tTest-merror:0.28070\n",
            "[71]\tTest-merror:0.28035\n",
            "[72]\tTest-merror:0.28035\n",
            "[73]\tTest-merror:0.28035\n",
            "[74]\tTest-merror:0.28035\n",
            "[75]\tTest-merror:0.28035\n",
            "[76]\tTest-merror:0.27999\n",
            "[77]\tTest-merror:0.28106\n",
            "[78]\tTest-merror:0.28035\n",
            "[79]\tTest-merror:0.28017\n",
            "[80]\tTest-merror:0.27981\n",
            "[81]\tTest-merror:0.27821\n",
            "[82]\tTest-merror:0.27857\n",
            "[83]\tTest-merror:0.27821\n",
            "[84]\tTest-merror:0.27839\n",
            "[85]\tTest-merror:0.27892\n",
            "[86]\tTest-merror:0.27875\n",
            "[87]\tTest-merror:0.27839\n",
            "[88]\tTest-merror:0.27964\n",
            "[89]\tTest-merror:0.27892\n",
            "[90]\tTest-merror:0.27857\n",
            "[91]\tTest-merror:0.27714\n",
            "[92]\tTest-merror:0.27750\n",
            "[93]\tTest-merror:0.27732\n",
            "[94]\tTest-merror:0.27697\n",
            "[95]\tTest-merror:0.27608\n",
            "[96]\tTest-merror:0.27554\n",
            "[97]\tTest-merror:0.27608\n",
            "[98]\tTest-merror:0.27536\n",
            "[99]\tTest-merror:0.27501\n"
          ]
        }
      ]
    },
    {
      "cell_type": "markdown",
      "source": [
        "Test it"
      ],
      "metadata": {
        "id": "4qTBK8D1ZwsQ"
      }
    },
    {
      "cell_type": "code",
      "source": [
        "# Predict on the test set\n",
        "y_pred = bst.predict(dtest)\n",
        "\n",
        "# Evaluate the model\n",
        "print(\"Accuracy:\", accuracy_score(y_test, y_pred))\n",
        "print(\"\\nClassification Report:\\n\", classification_report(y_test, y_pred, target_names=label_encoder.classes_))"
      ],
      "metadata": {
        "colab": {
          "base_uri": "https://localhost:8080/"
        },
        "id": "4uMVPi7XZT3U",
        "outputId": "a9b71369-f14f-45ba-a753-b97a6bc6214c"
      },
      "execution_count": 21,
      "outputs": [
        {
          "output_type": "stream",
          "name": "stdout",
          "text": [
            "Accuracy: 0.7249911000355999\n",
            "\n",
            "Classification Report:\n",
            "                            precision    recall  f1-score   support\n",
            "\n",
            "          All Electronics       0.35      0.31      0.33       238\n",
            "           Amazon Fashion       0.94      0.97      0.96       269\n",
            "              Amazon Home       0.57      0.56      0.56       321\n",
            "    Arts, Crafts & Sewing       0.66      0.70      0.68       326\n",
            "               Automotive       0.75      0.81      0.78       331\n",
            "                    Books       0.90      0.91      0.91       313\n",
            "           Camera & Photo       0.75      0.67      0.71       165\n",
            "Cell Phones & Accessories       0.70      0.79      0.74       268\n",
            "                Computers       0.64      0.63      0.64       302\n",
            "            Digital Music       0.83      0.86      0.85       217\n",
            "                  Grocery       0.94      0.98      0.96       316\n",
            "   Health & Personal Care       0.50      0.31      0.38        64\n",
            "     Home Audio & Theater       0.46      0.38      0.41       150\n",
            "  Industrial & Scientific       0.71      0.77      0.74       250\n",
            "              Movies & TV       0.81      0.84      0.82       273\n",
            "      Musical Instruments       0.84      0.76      0.79       161\n",
            "          Office Products       0.69      0.66      0.68       322\n",
            "             Pet Supplies       0.84      0.77      0.80       259\n",
            "        Sports & Outdoors       0.72      0.65      0.69       316\n",
            " Tools & Home Improvement       0.59      0.65      0.62       335\n",
            "             Toys & Games       0.71      0.74      0.72       324\n",
            "              Video Games       0.82      0.70      0.76        98\n",
            "\n",
            "                 accuracy                           0.72      5618\n",
            "                macro avg       0.71      0.70      0.71      5618\n",
            "             weighted avg       0.72      0.72      0.72      5618\n",
            "\n"
          ]
        }
      ]
    },
    {
      "cell_type": "markdown",
      "source": [
        "## 6 - Neural Network"
      ],
      "metadata": {
        "id": "T2-kblTjb9A1"
      }
    },
    {
      "cell_type": "markdown",
      "source": [
        "Neural network"
      ],
      "metadata": {
        "id": "Hob5nf_iJHFT"
      }
    },
    {
      "cell_type": "code",
      "source": [
        "import torch\n",
        "import torch.nn as nn\n",
        "import torch.optim as optim\n",
        "from torch.utils.data import DataLoader, TensorDataset\n",
        "from tqdm import tqdm\n",
        "from sklearn.metrics import accuracy_score, classification_report\n",
        "\n",
        "# Convert data to PyTorch tensors\n",
        "X_train_tensor = torch.tensor(X_train_final, dtype=torch.float32)\n",
        "y_train_tensor = torch.tensor(y_train, dtype=torch.long)\n",
        "X_test_tensor = torch.tensor(X_test_final, dtype=torch.float32)\n",
        "y_test_tensor = torch.tensor(y_test, dtype=torch.long)\n",
        "\n",
        "# Create DataLoader for batching\n",
        "batch_size = 1024\n",
        "train_dataset = TensorDataset(X_train_tensor, y_train_tensor)\n",
        "test_dataset = TensorDataset(X_test_tensor, y_test_tensor)\n",
        "train_loader = DataLoader(train_dataset, batch_size=batch_size, shuffle=True)\n",
        "test_loader = DataLoader(test_dataset, batch_size=batch_size, shuffle=False)"
      ],
      "metadata": {
        "id": "vXsdHERBb-82"
      },
      "execution_count": 22,
      "outputs": []
    },
    {
      "cell_type": "code",
      "source": [
        "# Define a simple neural network\n",
        "class SimpleNN(nn.Module):\n",
        "    def __init__(self, input_size, num_classes):\n",
        "        super(SimpleNN, self).__init__()\n",
        "        self.fc1 = nn.Linear(input_size, 128)  # Fully connected layer 1\n",
        "        self.relu1 = nn.ReLU()\n",
        "        self.fc2 = nn.Linear(128, 64)         # Fully connected layer 2\n",
        "        self.relu2 = nn.ReLU()\n",
        "        self.fc3 = nn.Linear(64, num_classes) # Output layer\n",
        "        self.dropout = nn.Dropout(0.3)        # Dropout for regularization\n",
        "\n",
        "    def forward(self, x):\n",
        "        x = self.relu1(self.fc1(x))\n",
        "        x = self.dropout(x)\n",
        "        x = self.relu2(self.fc2(x))\n",
        "        x = self.fc3(x)\n",
        "        return x"
      ],
      "metadata": {
        "id": "sZ6kDv7uc_1L"
      },
      "execution_count": 23,
      "outputs": []
    },
    {
      "cell_type": "code",
      "source": [
        "# Initialize the model\n",
        "input_size = X_train_final.shape[1]\n",
        "num_classes = len(set(y_train))\n",
        "model = SimpleNN(input_size, num_classes)\n",
        "\n",
        "# Define loss and optimizer\n",
        "criterion = nn.CrossEntropyLoss()  # For multi-class classification\n",
        "optimizer = optim.Adam(model.parameters(), lr=0.001)\n",
        "\n",
        "# Move model to GPU if available\n",
        "device = torch.device(\"cuda\" if torch.cuda.is_available() else \"cpu\")\n",
        "model.to(device)"
      ],
      "metadata": {
        "colab": {
          "base_uri": "https://localhost:8080/"
        },
        "id": "2vgy-QLBdCrE",
        "outputId": "7c71b60d-84c6-4932-e3fb-969d9f7c50d6"
      },
      "execution_count": 24,
      "outputs": [
        {
          "output_type": "execute_result",
          "data": {
            "text/plain": [
              "SimpleNN(\n",
              "  (fc1): Linear(in_features=792, out_features=128, bias=True)\n",
              "  (relu1): ReLU()\n",
              "  (fc2): Linear(in_features=128, out_features=64, bias=True)\n",
              "  (relu2): ReLU()\n",
              "  (fc3): Linear(in_features=64, out_features=22, bias=True)\n",
              "  (dropout): Dropout(p=0.3, inplace=False)\n",
              ")"
            ]
          },
          "metadata": {},
          "execution_count": 24
        }
      ]
    },
    {
      "cell_type": "code",
      "source": [
        "# Training loop with test loss and tqdm\n",
        "num_epochs = 150\n",
        "for epoch in range(num_epochs):\n",
        "    model.train()\n",
        "    train_loss = 0\n",
        "    for X_batch, y_batch in tqdm(train_loader, desc=f\"Epoch {epoch+1}/{num_epochs} - Training\"):\n",
        "        X_batch, y_batch = X_batch.to(device), y_batch.to(device)\n",
        "\n",
        "        # Forward pass\n",
        "        outputs = model(X_batch)\n",
        "        loss = criterion(outputs, y_batch)\n",
        "\n",
        "        # Backward pass and optimization\n",
        "        optimizer.zero_grad()\n",
        "        loss.backward()\n",
        "        optimizer.step()\n",
        "\n",
        "        train_loss += loss.item()\n",
        "\n",
        "    train_loss /= len(train_loader)\n",
        "\n",
        "    # Evaluate on test data\n",
        "    model.eval()\n",
        "    test_loss = 0\n",
        "    with torch.no_grad():\n",
        "        for X_batch, y_batch in test_loader:\n",
        "            X_batch, y_batch = X_batch.to(device), y_batch.to(device)\n",
        "\n",
        "            outputs = model(X_batch)\n",
        "            loss = criterion(outputs, y_batch)\n",
        "            test_loss += loss.item()\n",
        "\n",
        "    test_loss /= len(test_loader)\n",
        "\n",
        "    print(f\"Epoch {epoch+1}/{num_epochs}, Train Loss: {train_loss:.4f}, Test Loss: {test_loss:.4f}\")\n"
      ],
      "metadata": {
        "colab": {
          "base_uri": "https://localhost:8080/"
        },
        "id": "OYCphzPadEzt",
        "outputId": "0f9fa1f2-9542-4167-c1ae-f56107529c1d"
      },
      "execution_count": 25,
      "outputs": [
        {
          "output_type": "stream",
          "name": "stderr",
          "text": [
            "Epoch 1/150 - Training: 100%|██████████| 13/13 [00:00<00:00, 24.08it/s]\n"
          ]
        },
        {
          "output_type": "stream",
          "name": "stdout",
          "text": [
            "Epoch 1/150, Train Loss: 2.8674, Test Loss: 2.4775\n"
          ]
        },
        {
          "output_type": "stream",
          "name": "stderr",
          "text": [
            "Epoch 2/150 - Training: 100%|██████████| 13/13 [00:00<00:00, 95.61it/s]\n"
          ]
        },
        {
          "output_type": "stream",
          "name": "stdout",
          "text": [
            "Epoch 2/150, Train Loss: 2.2932, Test Loss: 1.9204\n"
          ]
        },
        {
          "output_type": "stream",
          "name": "stderr",
          "text": [
            "Epoch 3/150 - Training: 100%|██████████| 13/13 [00:00<00:00, 99.78it/s]\n"
          ]
        },
        {
          "output_type": "stream",
          "name": "stdout",
          "text": [
            "Epoch 3/150, Train Loss: 1.8804, Test Loss: 1.5919\n"
          ]
        },
        {
          "output_type": "stream",
          "name": "stderr",
          "text": [
            "Epoch 4/150 - Training: 100%|██████████| 13/13 [00:00<00:00, 27.73it/s]\n"
          ]
        },
        {
          "output_type": "stream",
          "name": "stdout",
          "text": [
            "Epoch 4/150, Train Loss: 1.6184, Test Loss: 1.3942\n"
          ]
        },
        {
          "output_type": "stream",
          "name": "stderr",
          "text": [
            "Epoch 5/150 - Training: 100%|██████████| 13/13 [00:00<00:00, 106.54it/s]\n"
          ]
        },
        {
          "output_type": "stream",
          "name": "stdout",
          "text": [
            "Epoch 5/150, Train Loss: 1.4390, Test Loss: 1.2497\n"
          ]
        },
        {
          "output_type": "stream",
          "name": "stderr",
          "text": [
            "Epoch 6/150 - Training: 100%|██████████| 13/13 [00:00<00:00, 105.96it/s]\n"
          ]
        },
        {
          "output_type": "stream",
          "name": "stdout",
          "text": [
            "Epoch 6/150, Train Loss: 1.3227, Test Loss: 1.1507\n"
          ]
        },
        {
          "output_type": "stream",
          "name": "stderr",
          "text": [
            "Epoch 7/150 - Training: 100%|██████████| 13/13 [00:00<00:00, 107.72it/s]\n"
          ]
        },
        {
          "output_type": "stream",
          "name": "stdout",
          "text": [
            "Epoch 7/150, Train Loss: 1.2378, Test Loss: 1.0933\n"
          ]
        },
        {
          "output_type": "stream",
          "name": "stderr",
          "text": [
            "Epoch 8/150 - Training: 100%|██████████| 13/13 [00:00<00:00, 106.84it/s]\n"
          ]
        },
        {
          "output_type": "stream",
          "name": "stdout",
          "text": [
            "Epoch 8/150, Train Loss: 1.1777, Test Loss: 1.0539\n"
          ]
        },
        {
          "output_type": "stream",
          "name": "stderr",
          "text": [
            "Epoch 9/150 - Training: 100%|██████████| 13/13 [00:00<00:00, 106.04it/s]\n"
          ]
        },
        {
          "output_type": "stream",
          "name": "stdout",
          "text": [
            "Epoch 9/150, Train Loss: 1.1389, Test Loss: 1.0159\n"
          ]
        },
        {
          "output_type": "stream",
          "name": "stderr",
          "text": [
            "Epoch 10/150 - Training: 100%|██████████| 13/13 [00:00<00:00, 107.29it/s]\n"
          ]
        },
        {
          "output_type": "stream",
          "name": "stdout",
          "text": [
            "Epoch 10/150, Train Loss: 1.1005, Test Loss: 0.9884\n"
          ]
        },
        {
          "output_type": "stream",
          "name": "stderr",
          "text": [
            "Epoch 11/150 - Training: 100%|██████████| 13/13 [00:00<00:00, 96.87it/s]\n"
          ]
        },
        {
          "output_type": "stream",
          "name": "stdout",
          "text": [
            "Epoch 11/150, Train Loss: 1.0661, Test Loss: 0.9668\n"
          ]
        },
        {
          "output_type": "stream",
          "name": "stderr",
          "text": [
            "Epoch 12/150 - Training: 100%|██████████| 13/13 [00:00<00:00, 101.44it/s]\n"
          ]
        },
        {
          "output_type": "stream",
          "name": "stdout",
          "text": [
            "Epoch 12/150, Train Loss: 1.0431, Test Loss: 0.9472\n"
          ]
        },
        {
          "output_type": "stream",
          "name": "stderr",
          "text": [
            "Epoch 13/150 - Training: 100%|██████████| 13/13 [00:00<00:00, 103.82it/s]\n"
          ]
        },
        {
          "output_type": "stream",
          "name": "stdout",
          "text": [
            "Epoch 13/150, Train Loss: 1.0221, Test Loss: 0.9349\n"
          ]
        },
        {
          "output_type": "stream",
          "name": "stderr",
          "text": [
            "Epoch 14/150 - Training: 100%|██████████| 13/13 [00:00<00:00, 104.81it/s]\n"
          ]
        },
        {
          "output_type": "stream",
          "name": "stdout",
          "text": [
            "Epoch 14/150, Train Loss: 1.0031, Test Loss: 0.9191\n"
          ]
        },
        {
          "output_type": "stream",
          "name": "stderr",
          "text": [
            "Epoch 15/150 - Training: 100%|██████████| 13/13 [00:00<00:00, 104.46it/s]\n"
          ]
        },
        {
          "output_type": "stream",
          "name": "stdout",
          "text": [
            "Epoch 15/150, Train Loss: 0.9784, Test Loss: 0.9062\n"
          ]
        },
        {
          "output_type": "stream",
          "name": "stderr",
          "text": [
            "Epoch 16/150 - Training: 100%|██████████| 13/13 [00:00<00:00, 102.64it/s]\n"
          ]
        },
        {
          "output_type": "stream",
          "name": "stdout",
          "text": [
            "Epoch 16/150, Train Loss: 0.9713, Test Loss: 0.8995\n"
          ]
        },
        {
          "output_type": "stream",
          "name": "stderr",
          "text": [
            "Epoch 17/150 - Training: 100%|██████████| 13/13 [00:00<00:00, 27.68it/s] \n"
          ]
        },
        {
          "output_type": "stream",
          "name": "stdout",
          "text": [
            "Epoch 17/150, Train Loss: 0.9565, Test Loss: 0.8906\n"
          ]
        },
        {
          "output_type": "stream",
          "name": "stderr",
          "text": [
            "Epoch 18/150 - Training: 100%|██████████| 13/13 [00:00<00:00, 102.80it/s]\n"
          ]
        },
        {
          "output_type": "stream",
          "name": "stdout",
          "text": [
            "Epoch 18/150, Train Loss: 0.9431, Test Loss: 0.8790\n"
          ]
        },
        {
          "output_type": "stream",
          "name": "stderr",
          "text": [
            "Epoch 19/150 - Training: 100%|██████████| 13/13 [00:00<00:00, 107.47it/s]\n"
          ]
        },
        {
          "output_type": "stream",
          "name": "stdout",
          "text": [
            "Epoch 19/150, Train Loss: 0.9276, Test Loss: 0.8869\n"
          ]
        },
        {
          "output_type": "stream",
          "name": "stderr",
          "text": [
            "Epoch 20/150 - Training: 100%|██████████| 13/13 [00:00<00:00, 104.88it/s]\n"
          ]
        },
        {
          "output_type": "stream",
          "name": "stdout",
          "text": [
            "Epoch 20/150, Train Loss: 0.9217, Test Loss: 0.8674\n"
          ]
        },
        {
          "output_type": "stream",
          "name": "stderr",
          "text": [
            "Epoch 21/150 - Training: 100%|██████████| 13/13 [00:00<00:00, 102.73it/s]\n"
          ]
        },
        {
          "output_type": "stream",
          "name": "stdout",
          "text": [
            "Epoch 21/150, Train Loss: 0.9093, Test Loss: 0.8621\n"
          ]
        },
        {
          "output_type": "stream",
          "name": "stderr",
          "text": [
            "Epoch 22/150 - Training: 100%|██████████| 13/13 [00:00<00:00, 100.86it/s]\n"
          ]
        },
        {
          "output_type": "stream",
          "name": "stdout",
          "text": [
            "Epoch 22/150, Train Loss: 0.8940, Test Loss: 0.8568\n"
          ]
        },
        {
          "output_type": "stream",
          "name": "stderr",
          "text": [
            "Epoch 23/150 - Training: 100%|██████████| 13/13 [00:00<00:00, 106.06it/s]\n"
          ]
        },
        {
          "output_type": "stream",
          "name": "stdout",
          "text": [
            "Epoch 23/150, Train Loss: 0.8908, Test Loss: 0.8559\n"
          ]
        },
        {
          "output_type": "stream",
          "name": "stderr",
          "text": [
            "Epoch 24/150 - Training: 100%|██████████| 13/13 [00:00<00:00, 108.38it/s]\n"
          ]
        },
        {
          "output_type": "stream",
          "name": "stdout",
          "text": [
            "Epoch 24/150, Train Loss: 0.8823, Test Loss: 0.8547\n"
          ]
        },
        {
          "output_type": "stream",
          "name": "stderr",
          "text": [
            "Epoch 25/150 - Training: 100%|██████████| 13/13 [00:00<00:00, 105.60it/s]\n"
          ]
        },
        {
          "output_type": "stream",
          "name": "stdout",
          "text": [
            "Epoch 25/150, Train Loss: 0.8766, Test Loss: 0.8406\n"
          ]
        },
        {
          "output_type": "stream",
          "name": "stderr",
          "text": [
            "Epoch 26/150 - Training: 100%|██████████| 13/13 [00:00<00:00, 107.44it/s]\n"
          ]
        },
        {
          "output_type": "stream",
          "name": "stdout",
          "text": [
            "Epoch 26/150, Train Loss: 0.8610, Test Loss: 0.8364\n"
          ]
        },
        {
          "output_type": "stream",
          "name": "stderr",
          "text": [
            "Epoch 27/150 - Training: 100%|██████████| 13/13 [00:00<00:00, 104.22it/s]\n"
          ]
        },
        {
          "output_type": "stream",
          "name": "stdout",
          "text": [
            "Epoch 27/150, Train Loss: 0.8508, Test Loss: 0.8439\n"
          ]
        },
        {
          "output_type": "stream",
          "name": "stderr",
          "text": [
            "Epoch 28/150 - Training: 100%|██████████| 13/13 [00:00<00:00, 99.72it/s] \n"
          ]
        },
        {
          "output_type": "stream",
          "name": "stdout",
          "text": [
            "Epoch 28/150, Train Loss: 0.8441, Test Loss: 0.8315\n"
          ]
        },
        {
          "output_type": "stream",
          "name": "stderr",
          "text": [
            "Epoch 29/150 - Training: 100%|██████████| 13/13 [00:00<00:00, 106.43it/s]\n"
          ]
        },
        {
          "output_type": "stream",
          "name": "stdout",
          "text": [
            "Epoch 29/150, Train Loss: 0.8375, Test Loss: 0.8295\n"
          ]
        },
        {
          "output_type": "stream",
          "name": "stderr",
          "text": [
            "Epoch 30/150 - Training: 100%|██████████| 13/13 [00:00<00:00, 104.83it/s]\n"
          ]
        },
        {
          "output_type": "stream",
          "name": "stdout",
          "text": [
            "Epoch 30/150, Train Loss: 0.8322, Test Loss: 0.8272\n"
          ]
        },
        {
          "output_type": "stream",
          "name": "stderr",
          "text": [
            "Epoch 31/150 - Training: 100%|██████████| 13/13 [00:00<00:00, 28.86it/s]\n"
          ]
        },
        {
          "output_type": "stream",
          "name": "stdout",
          "text": [
            "Epoch 31/150, Train Loss: 0.8339, Test Loss: 0.8253\n"
          ]
        },
        {
          "output_type": "stream",
          "name": "stderr",
          "text": [
            "Epoch 32/150 - Training: 100%|██████████| 13/13 [00:00<00:00, 100.19it/s]\n"
          ]
        },
        {
          "output_type": "stream",
          "name": "stdout",
          "text": [
            "Epoch 32/150, Train Loss: 0.8196, Test Loss: 0.8252\n"
          ]
        },
        {
          "output_type": "stream",
          "name": "stderr",
          "text": [
            "Epoch 33/150 - Training: 100%|██████████| 13/13 [00:00<00:00, 106.19it/s]\n"
          ]
        },
        {
          "output_type": "stream",
          "name": "stdout",
          "text": [
            "Epoch 33/150, Train Loss: 0.8128, Test Loss: 0.8296\n"
          ]
        },
        {
          "output_type": "stream",
          "name": "stderr",
          "text": [
            "Epoch 34/150 - Training: 100%|██████████| 13/13 [00:00<00:00, 105.65it/s]\n"
          ]
        },
        {
          "output_type": "stream",
          "name": "stdout",
          "text": [
            "Epoch 34/150, Train Loss: 0.8147, Test Loss: 0.8232\n"
          ]
        },
        {
          "output_type": "stream",
          "name": "stderr",
          "text": [
            "Epoch 35/150 - Training: 100%|██████████| 13/13 [00:00<00:00, 106.82it/s]\n"
          ]
        },
        {
          "output_type": "stream",
          "name": "stdout",
          "text": [
            "Epoch 35/150, Train Loss: 0.8049, Test Loss: 0.8178\n"
          ]
        },
        {
          "output_type": "stream",
          "name": "stderr",
          "text": [
            "Epoch 36/150 - Training: 100%|██████████| 13/13 [00:00<00:00, 107.95it/s]\n"
          ]
        },
        {
          "output_type": "stream",
          "name": "stdout",
          "text": [
            "Epoch 36/150, Train Loss: 0.7970, Test Loss: 0.8260\n"
          ]
        },
        {
          "output_type": "stream",
          "name": "stderr",
          "text": [
            "Epoch 37/150 - Training: 100%|██████████| 13/13 [00:00<00:00, 106.27it/s]\n"
          ]
        },
        {
          "output_type": "stream",
          "name": "stdout",
          "text": [
            "Epoch 37/150, Train Loss: 0.8001, Test Loss: 0.8230\n"
          ]
        },
        {
          "output_type": "stream",
          "name": "stderr",
          "text": [
            "Epoch 38/150 - Training: 100%|██████████| 13/13 [00:00<00:00, 97.97it/s]\n"
          ]
        },
        {
          "output_type": "stream",
          "name": "stdout",
          "text": [
            "Epoch 38/150, Train Loss: 0.7850, Test Loss: 0.8194\n"
          ]
        },
        {
          "output_type": "stream",
          "name": "stderr",
          "text": [
            "Epoch 39/150 - Training: 100%|██████████| 13/13 [00:00<00:00, 107.92it/s]\n"
          ]
        },
        {
          "output_type": "stream",
          "name": "stdout",
          "text": [
            "Epoch 39/150, Train Loss: 0.7838, Test Loss: 0.8097\n"
          ]
        },
        {
          "output_type": "stream",
          "name": "stderr",
          "text": [
            "Epoch 40/150 - Training: 100%|██████████| 13/13 [00:00<00:00, 100.41it/s]\n"
          ]
        },
        {
          "output_type": "stream",
          "name": "stdout",
          "text": [
            "Epoch 40/150, Train Loss: 0.7728, Test Loss: 0.8134\n"
          ]
        },
        {
          "output_type": "stream",
          "name": "stderr",
          "text": [
            "Epoch 41/150 - Training: 100%|██████████| 13/13 [00:00<00:00, 104.69it/s]\n"
          ]
        },
        {
          "output_type": "stream",
          "name": "stdout",
          "text": [
            "Epoch 41/150, Train Loss: 0.7732, Test Loss: 0.8078\n"
          ]
        },
        {
          "output_type": "stream",
          "name": "stderr",
          "text": [
            "Epoch 42/150 - Training: 100%|██████████| 13/13 [00:00<00:00, 107.35it/s]\n"
          ]
        },
        {
          "output_type": "stream",
          "name": "stdout",
          "text": [
            "Epoch 42/150, Train Loss: 0.7635, Test Loss: 0.8067\n"
          ]
        },
        {
          "output_type": "stream",
          "name": "stderr",
          "text": [
            "Epoch 43/150 - Training: 100%|██████████| 13/13 [00:00<00:00, 107.25it/s]\n"
          ]
        },
        {
          "output_type": "stream",
          "name": "stdout",
          "text": [
            "Epoch 43/150, Train Loss: 0.7618, Test Loss: 0.7999\n"
          ]
        },
        {
          "output_type": "stream",
          "name": "stderr",
          "text": [
            "Epoch 44/150 - Training: 100%|██████████| 13/13 [00:00<00:00, 28.69it/s] \n"
          ]
        },
        {
          "output_type": "stream",
          "name": "stdout",
          "text": [
            "Epoch 44/150, Train Loss: 0.7507, Test Loss: 0.8023\n"
          ]
        },
        {
          "output_type": "stream",
          "name": "stderr",
          "text": [
            "Epoch 45/150 - Training: 100%|██████████| 13/13 [00:00<00:00, 105.02it/s]\n"
          ]
        },
        {
          "output_type": "stream",
          "name": "stdout",
          "text": [
            "Epoch 45/150, Train Loss: 0.7448, Test Loss: 0.8078\n"
          ]
        },
        {
          "output_type": "stream",
          "name": "stderr",
          "text": [
            "Epoch 46/150 - Training: 100%|██████████| 13/13 [00:00<00:00, 107.32it/s]\n"
          ]
        },
        {
          "output_type": "stream",
          "name": "stdout",
          "text": [
            "Epoch 46/150, Train Loss: 0.7554, Test Loss: 0.8009\n"
          ]
        },
        {
          "output_type": "stream",
          "name": "stderr",
          "text": [
            "Epoch 47/150 - Training: 100%|██████████| 13/13 [00:00<00:00, 107.30it/s]\n"
          ]
        },
        {
          "output_type": "stream",
          "name": "stdout",
          "text": [
            "Epoch 47/150, Train Loss: 0.7460, Test Loss: 0.8021\n"
          ]
        },
        {
          "output_type": "stream",
          "name": "stderr",
          "text": [
            "Epoch 48/150 - Training: 100%|██████████| 13/13 [00:00<00:00, 102.19it/s]\n"
          ]
        },
        {
          "output_type": "stream",
          "name": "stdout",
          "text": [
            "Epoch 48/150, Train Loss: 0.7429, Test Loss: 0.7998\n"
          ]
        },
        {
          "output_type": "stream",
          "name": "stderr",
          "text": [
            "Epoch 49/150 - Training: 100%|██████████| 13/13 [00:00<00:00, 108.79it/s]\n"
          ]
        },
        {
          "output_type": "stream",
          "name": "stdout",
          "text": [
            "Epoch 49/150, Train Loss: 0.7339, Test Loss: 0.8038\n"
          ]
        },
        {
          "output_type": "stream",
          "name": "stderr",
          "text": [
            "Epoch 50/150 - Training: 100%|██████████| 13/13 [00:00<00:00, 109.00it/s]\n"
          ]
        },
        {
          "output_type": "stream",
          "name": "stdout",
          "text": [
            "Epoch 50/150, Train Loss: 0.7310, Test Loss: 0.7985\n"
          ]
        },
        {
          "output_type": "stream",
          "name": "stderr",
          "text": [
            "Epoch 51/150 - Training: 100%|██████████| 13/13 [00:00<00:00, 107.96it/s]\n"
          ]
        },
        {
          "output_type": "stream",
          "name": "stdout",
          "text": [
            "Epoch 51/150, Train Loss: 0.7228, Test Loss: 0.7987\n"
          ]
        },
        {
          "output_type": "stream",
          "name": "stderr",
          "text": [
            "Epoch 52/150 - Training: 100%|██████████| 13/13 [00:00<00:00, 105.28it/s]\n"
          ]
        },
        {
          "output_type": "stream",
          "name": "stdout",
          "text": [
            "Epoch 52/150, Train Loss: 0.7202, Test Loss: 0.7991\n"
          ]
        },
        {
          "output_type": "stream",
          "name": "stderr",
          "text": [
            "Epoch 53/150 - Training: 100%|██████████| 13/13 [00:00<00:00, 104.91it/s]\n"
          ]
        },
        {
          "output_type": "stream",
          "name": "stdout",
          "text": [
            "Epoch 53/150, Train Loss: 0.7167, Test Loss: 0.8012\n"
          ]
        },
        {
          "output_type": "stream",
          "name": "stderr",
          "text": [
            "Epoch 54/150 - Training: 100%|██████████| 13/13 [00:00<00:00, 103.60it/s]\n"
          ]
        },
        {
          "output_type": "stream",
          "name": "stdout",
          "text": [
            "Epoch 54/150, Train Loss: 0.7172, Test Loss: 0.8034\n"
          ]
        },
        {
          "output_type": "stream",
          "name": "stderr",
          "text": [
            "Epoch 55/150 - Training: 100%|██████████| 13/13 [00:00<00:00, 106.32it/s]\n"
          ]
        },
        {
          "output_type": "stream",
          "name": "stdout",
          "text": [
            "Epoch 55/150, Train Loss: 0.7101, Test Loss: 0.7941\n"
          ]
        },
        {
          "output_type": "stream",
          "name": "stderr",
          "text": [
            "Epoch 56/150 - Training: 100%|██████████| 13/13 [00:00<00:00, 102.85it/s]\n"
          ]
        },
        {
          "output_type": "stream",
          "name": "stdout",
          "text": [
            "Epoch 56/150, Train Loss: 0.7014, Test Loss: 0.7933\n"
          ]
        },
        {
          "output_type": "stream",
          "name": "stderr",
          "text": [
            "Epoch 57/150 - Training: 100%|██████████| 13/13 [00:00<00:00, 105.54it/s]\n"
          ]
        },
        {
          "output_type": "stream",
          "name": "stdout",
          "text": [
            "Epoch 57/150, Train Loss: 0.6994, Test Loss: 0.7981\n"
          ]
        },
        {
          "output_type": "stream",
          "name": "stderr",
          "text": [
            "Epoch 58/150 - Training: 100%|██████████| 13/13 [00:00<00:00, 28.87it/s]\n"
          ]
        },
        {
          "output_type": "stream",
          "name": "stdout",
          "text": [
            "Epoch 58/150, Train Loss: 0.6970, Test Loss: 0.7997\n"
          ]
        },
        {
          "output_type": "stream",
          "name": "stderr",
          "text": [
            "Epoch 59/150 - Training: 100%|██████████| 13/13 [00:00<00:00, 106.91it/s]\n"
          ]
        },
        {
          "output_type": "stream",
          "name": "stdout",
          "text": [
            "Epoch 59/150, Train Loss: 0.6959, Test Loss: 0.7982\n"
          ]
        },
        {
          "output_type": "stream",
          "name": "stderr",
          "text": [
            "Epoch 60/150 - Training: 100%|██████████| 13/13 [00:00<00:00, 103.79it/s]\n"
          ]
        },
        {
          "output_type": "stream",
          "name": "stdout",
          "text": [
            "Epoch 60/150, Train Loss: 0.6917, Test Loss: 0.7901\n"
          ]
        },
        {
          "output_type": "stream",
          "name": "stderr",
          "text": [
            "Epoch 61/150 - Training: 100%|██████████| 13/13 [00:00<00:00, 106.04it/s]\n"
          ]
        },
        {
          "output_type": "stream",
          "name": "stdout",
          "text": [
            "Epoch 61/150, Train Loss: 0.6760, Test Loss: 0.7963\n"
          ]
        },
        {
          "output_type": "stream",
          "name": "stderr",
          "text": [
            "Epoch 62/150 - Training: 100%|██████████| 13/13 [00:00<00:00, 94.05it/s]\n"
          ]
        },
        {
          "output_type": "stream",
          "name": "stdout",
          "text": [
            "Epoch 62/150, Train Loss: 0.6778, Test Loss: 0.7945\n"
          ]
        },
        {
          "output_type": "stream",
          "name": "stderr",
          "text": [
            "Epoch 63/150 - Training: 100%|██████████| 13/13 [00:00<00:00, 95.87it/s]\n"
          ]
        },
        {
          "output_type": "stream",
          "name": "stdout",
          "text": [
            "Epoch 63/150, Train Loss: 0.6815, Test Loss: 0.8051\n"
          ]
        },
        {
          "output_type": "stream",
          "name": "stderr",
          "text": [
            "Epoch 64/150 - Training: 100%|██████████| 13/13 [00:00<00:00, 103.61it/s]\n"
          ]
        },
        {
          "output_type": "stream",
          "name": "stdout",
          "text": [
            "Epoch 64/150, Train Loss: 0.6728, Test Loss: 0.7987\n"
          ]
        },
        {
          "output_type": "stream",
          "name": "stderr",
          "text": [
            "Epoch 65/150 - Training: 100%|██████████| 13/13 [00:00<00:00, 105.96it/s]\n"
          ]
        },
        {
          "output_type": "stream",
          "name": "stdout",
          "text": [
            "Epoch 65/150, Train Loss: 0.6620, Test Loss: 0.7851\n"
          ]
        },
        {
          "output_type": "stream",
          "name": "stderr",
          "text": [
            "Epoch 66/150 - Training: 100%|██████████| 13/13 [00:00<00:00, 108.51it/s]\n"
          ]
        },
        {
          "output_type": "stream",
          "name": "stdout",
          "text": [
            "Epoch 66/150, Train Loss: 0.6561, Test Loss: 0.7916\n"
          ]
        },
        {
          "output_type": "stream",
          "name": "stderr",
          "text": [
            "Epoch 67/150 - Training: 100%|██████████| 13/13 [00:00<00:00, 107.83it/s]\n"
          ]
        },
        {
          "output_type": "stream",
          "name": "stdout",
          "text": [
            "Epoch 67/150, Train Loss: 0.6641, Test Loss: 0.7984\n"
          ]
        },
        {
          "output_type": "stream",
          "name": "stderr",
          "text": [
            "Epoch 68/150 - Training: 100%|██████████| 13/13 [00:00<00:00, 106.53it/s]\n"
          ]
        },
        {
          "output_type": "stream",
          "name": "stdout",
          "text": [
            "Epoch 68/150, Train Loss: 0.6577, Test Loss: 0.7940\n"
          ]
        },
        {
          "output_type": "stream",
          "name": "stderr",
          "text": [
            "Epoch 69/150 - Training: 100%|██████████| 13/13 [00:00<00:00, 103.99it/s]\n"
          ]
        },
        {
          "output_type": "stream",
          "name": "stdout",
          "text": [
            "Epoch 69/150, Train Loss: 0.6508, Test Loss: 0.7931\n"
          ]
        },
        {
          "output_type": "stream",
          "name": "stderr",
          "text": [
            "Epoch 70/150 - Training: 100%|██████████| 13/13 [00:00<00:00, 106.28it/s]\n"
          ]
        },
        {
          "output_type": "stream",
          "name": "stdout",
          "text": [
            "Epoch 70/150, Train Loss: 0.6556, Test Loss: 0.7928\n"
          ]
        },
        {
          "output_type": "stream",
          "name": "stderr",
          "text": [
            "Epoch 71/150 - Training: 100%|██████████| 13/13 [00:00<00:00, 98.55it/s]\n"
          ]
        },
        {
          "output_type": "stream",
          "name": "stdout",
          "text": [
            "Epoch 71/150, Train Loss: 0.6392, Test Loss: 0.7899\n"
          ]
        },
        {
          "output_type": "stream",
          "name": "stderr",
          "text": [
            "Epoch 72/150 - Training: 100%|██████████| 13/13 [00:00<00:00, 106.79it/s]\n"
          ]
        },
        {
          "output_type": "stream",
          "name": "stdout",
          "text": [
            "Epoch 72/150, Train Loss: 0.6421, Test Loss: 0.7931\n"
          ]
        },
        {
          "output_type": "stream",
          "name": "stderr",
          "text": [
            "Epoch 73/150 - Training: 100%|██████████| 13/13 [00:00<00:00, 102.04it/s]\n"
          ]
        },
        {
          "output_type": "stream",
          "name": "stdout",
          "text": [
            "Epoch 73/150, Train Loss: 0.6361, Test Loss: 0.8005\n"
          ]
        },
        {
          "output_type": "stream",
          "name": "stderr",
          "text": [
            "Epoch 74/150 - Training: 100%|██████████| 13/13 [00:00<00:00, 102.15it/s]\n"
          ]
        },
        {
          "output_type": "stream",
          "name": "stdout",
          "text": [
            "Epoch 74/150, Train Loss: 0.6378, Test Loss: 0.7993\n"
          ]
        },
        {
          "output_type": "stream",
          "name": "stderr",
          "text": [
            "Epoch 75/150 - Training: 100%|██████████| 13/13 [00:00<00:00, 103.83it/s]\n"
          ]
        },
        {
          "output_type": "stream",
          "name": "stdout",
          "text": [
            "Epoch 75/150, Train Loss: 0.6333, Test Loss: 0.7936\n"
          ]
        },
        {
          "output_type": "stream",
          "name": "stderr",
          "text": [
            "Epoch 76/150 - Training: 100%|██████████| 13/13 [00:00<00:00, 99.77it/s]\n"
          ]
        },
        {
          "output_type": "stream",
          "name": "stdout",
          "text": [
            "Epoch 76/150, Train Loss: 0.6238, Test Loss: 0.7941\n"
          ]
        },
        {
          "output_type": "stream",
          "name": "stderr",
          "text": [
            "Epoch 77/150 - Training: 100%|██████████| 13/13 [00:00<00:00, 97.98it/s]\n"
          ]
        },
        {
          "output_type": "stream",
          "name": "stdout",
          "text": [
            "Epoch 77/150, Train Loss: 0.6222, Test Loss: 0.8013\n"
          ]
        },
        {
          "output_type": "stream",
          "name": "stderr",
          "text": [
            "Epoch 78/150 - Training: 100%|██████████| 13/13 [00:00<00:00, 97.94it/s]\n"
          ]
        },
        {
          "output_type": "stream",
          "name": "stdout",
          "text": [
            "Epoch 78/150, Train Loss: 0.6228, Test Loss: 0.7905\n"
          ]
        },
        {
          "output_type": "stream",
          "name": "stderr",
          "text": [
            "Epoch 79/150 - Training: 100%|██████████| 13/13 [00:00<00:00, 103.03it/s]\n"
          ]
        },
        {
          "output_type": "stream",
          "name": "stdout",
          "text": [
            "Epoch 79/150, Train Loss: 0.6137, Test Loss: 0.8010\n"
          ]
        },
        {
          "output_type": "stream",
          "name": "stderr",
          "text": [
            "Epoch 80/150 - Training: 100%|██████████| 13/13 [00:00<00:00, 101.98it/s]\n"
          ]
        },
        {
          "output_type": "stream",
          "name": "stdout",
          "text": [
            "Epoch 80/150, Train Loss: 0.6135, Test Loss: 0.7969\n"
          ]
        },
        {
          "output_type": "stream",
          "name": "stderr",
          "text": [
            "Epoch 81/150 - Training: 100%|██████████| 13/13 [00:00<00:00, 102.50it/s]\n"
          ]
        },
        {
          "output_type": "stream",
          "name": "stdout",
          "text": [
            "Epoch 81/150, Train Loss: 0.6116, Test Loss: 0.8065\n"
          ]
        },
        {
          "output_type": "stream",
          "name": "stderr",
          "text": [
            "Epoch 82/150 - Training: 100%|██████████| 13/13 [00:00<00:00, 106.22it/s]\n"
          ]
        },
        {
          "output_type": "stream",
          "name": "stdout",
          "text": [
            "Epoch 82/150, Train Loss: 0.6124, Test Loss: 0.7951\n"
          ]
        },
        {
          "output_type": "stream",
          "name": "stderr",
          "text": [
            "Epoch 83/150 - Training: 100%|██████████| 13/13 [00:00<00:00, 101.22it/s]\n"
          ]
        },
        {
          "output_type": "stream",
          "name": "stdout",
          "text": [
            "Epoch 83/150, Train Loss: 0.6038, Test Loss: 0.7972\n"
          ]
        },
        {
          "output_type": "stream",
          "name": "stderr",
          "text": [
            "Epoch 84/150 - Training: 100%|██████████| 13/13 [00:00<00:00, 104.84it/s]\n"
          ]
        },
        {
          "output_type": "stream",
          "name": "stdout",
          "text": [
            "Epoch 84/150, Train Loss: 0.6048, Test Loss: 0.8030\n"
          ]
        },
        {
          "output_type": "stream",
          "name": "stderr",
          "text": [
            "Epoch 85/150 - Training: 100%|██████████| 13/13 [00:00<00:00, 27.56it/s]\n"
          ]
        },
        {
          "output_type": "stream",
          "name": "stdout",
          "text": [
            "Epoch 85/150, Train Loss: 0.6040, Test Loss: 0.7974\n"
          ]
        },
        {
          "output_type": "stream",
          "name": "stderr",
          "text": [
            "Epoch 86/150 - Training: 100%|██████████| 13/13 [00:00<00:00, 103.96it/s]\n"
          ]
        },
        {
          "output_type": "stream",
          "name": "stdout",
          "text": [
            "Epoch 86/150, Train Loss: 0.5997, Test Loss: 0.7958\n"
          ]
        },
        {
          "output_type": "stream",
          "name": "stderr",
          "text": [
            "Epoch 87/150 - Training: 100%|██████████| 13/13 [00:00<00:00, 105.59it/s]\n"
          ]
        },
        {
          "output_type": "stream",
          "name": "stdout",
          "text": [
            "Epoch 87/150, Train Loss: 0.5943, Test Loss: 0.7990\n"
          ]
        },
        {
          "output_type": "stream",
          "name": "stderr",
          "text": [
            "Epoch 88/150 - Training: 100%|██████████| 13/13 [00:00<00:00, 106.43it/s]\n"
          ]
        },
        {
          "output_type": "stream",
          "name": "stdout",
          "text": [
            "Epoch 88/150, Train Loss: 0.5930, Test Loss: 0.8041\n"
          ]
        },
        {
          "output_type": "stream",
          "name": "stderr",
          "text": [
            "Epoch 89/150 - Training: 100%|██████████| 13/13 [00:00<00:00, 96.06it/s]\n"
          ]
        },
        {
          "output_type": "stream",
          "name": "stdout",
          "text": [
            "Epoch 89/150, Train Loss: 0.5874, Test Loss: 0.7917\n"
          ]
        },
        {
          "output_type": "stream",
          "name": "stderr",
          "text": [
            "Epoch 90/150 - Training: 100%|██████████| 13/13 [00:00<00:00, 106.48it/s]\n"
          ]
        },
        {
          "output_type": "stream",
          "name": "stdout",
          "text": [
            "Epoch 90/150, Train Loss: 0.5817, Test Loss: 0.8073\n"
          ]
        },
        {
          "output_type": "stream",
          "name": "stderr",
          "text": [
            "Epoch 91/150 - Training: 100%|██████████| 13/13 [00:00<00:00, 107.40it/s]\n"
          ]
        },
        {
          "output_type": "stream",
          "name": "stdout",
          "text": [
            "Epoch 91/150, Train Loss: 0.5804, Test Loss: 0.8114\n"
          ]
        },
        {
          "output_type": "stream",
          "name": "stderr",
          "text": [
            "Epoch 92/150 - Training: 100%|██████████| 13/13 [00:00<00:00, 105.55it/s]\n"
          ]
        },
        {
          "output_type": "stream",
          "name": "stdout",
          "text": [
            "Epoch 92/150, Train Loss: 0.5653, Test Loss: 0.8047\n"
          ]
        },
        {
          "output_type": "stream",
          "name": "stderr",
          "text": [
            "Epoch 93/150 - Training: 100%|██████████| 13/13 [00:00<00:00, 106.30it/s]\n"
          ]
        },
        {
          "output_type": "stream",
          "name": "stdout",
          "text": [
            "Epoch 93/150, Train Loss: 0.5738, Test Loss: 0.8075\n"
          ]
        },
        {
          "output_type": "stream",
          "name": "stderr",
          "text": [
            "Epoch 94/150 - Training: 100%|██████████| 13/13 [00:00<00:00, 106.25it/s]\n"
          ]
        },
        {
          "output_type": "stream",
          "name": "stdout",
          "text": [
            "Epoch 94/150, Train Loss: 0.5705, Test Loss: 0.8067\n"
          ]
        },
        {
          "output_type": "stream",
          "name": "stderr",
          "text": [
            "Epoch 95/150 - Training: 100%|██████████| 13/13 [00:00<00:00, 106.42it/s]\n"
          ]
        },
        {
          "output_type": "stream",
          "name": "stdout",
          "text": [
            "Epoch 95/150, Train Loss: 0.5590, Test Loss: 0.8122\n"
          ]
        },
        {
          "output_type": "stream",
          "name": "stderr",
          "text": [
            "Epoch 96/150 - Training: 100%|██████████| 13/13 [00:00<00:00, 102.07it/s]\n"
          ]
        },
        {
          "output_type": "stream",
          "name": "stdout",
          "text": [
            "Epoch 96/150, Train Loss: 0.5625, Test Loss: 0.8098\n"
          ]
        },
        {
          "output_type": "stream",
          "name": "stderr",
          "text": [
            "Epoch 97/150 - Training: 100%|██████████| 13/13 [00:00<00:00, 103.90it/s]\n"
          ]
        },
        {
          "output_type": "stream",
          "name": "stdout",
          "text": [
            "Epoch 97/150, Train Loss: 0.5539, Test Loss: 0.8038\n"
          ]
        },
        {
          "output_type": "stream",
          "name": "stderr",
          "text": [
            "Epoch 98/150 - Training: 100%|██████████| 13/13 [00:00<00:00, 28.81it/s] \n"
          ]
        },
        {
          "output_type": "stream",
          "name": "stdout",
          "text": [
            "Epoch 98/150, Train Loss: 0.5536, Test Loss: 0.8039\n"
          ]
        },
        {
          "output_type": "stream",
          "name": "stderr",
          "text": [
            "Epoch 99/150 - Training: 100%|██████████| 13/13 [00:00<00:00, 106.09it/s]\n"
          ]
        },
        {
          "output_type": "stream",
          "name": "stdout",
          "text": [
            "Epoch 99/150, Train Loss: 0.5506, Test Loss: 0.8101\n"
          ]
        },
        {
          "output_type": "stream",
          "name": "stderr",
          "text": [
            "Epoch 100/150 - Training: 100%|██████████| 13/13 [00:00<00:00, 104.90it/s]\n"
          ]
        },
        {
          "output_type": "stream",
          "name": "stdout",
          "text": [
            "Epoch 100/150, Train Loss: 0.5461, Test Loss: 0.8160\n"
          ]
        },
        {
          "output_type": "stream",
          "name": "stderr",
          "text": [
            "Epoch 101/150 - Training: 100%|██████████| 13/13 [00:00<00:00, 105.78it/s]\n"
          ]
        },
        {
          "output_type": "stream",
          "name": "stdout",
          "text": [
            "Epoch 101/150, Train Loss: 0.5465, Test Loss: 0.8055\n"
          ]
        },
        {
          "output_type": "stream",
          "name": "stderr",
          "text": [
            "Epoch 102/150 - Training: 100%|██████████| 13/13 [00:00<00:00, 108.71it/s]\n"
          ]
        },
        {
          "output_type": "stream",
          "name": "stdout",
          "text": [
            "Epoch 102/150, Train Loss: 0.5403, Test Loss: 0.8038\n"
          ]
        },
        {
          "output_type": "stream",
          "name": "stderr",
          "text": [
            "Epoch 103/150 - Training: 100%|██████████| 13/13 [00:00<00:00, 107.74it/s]\n"
          ]
        },
        {
          "output_type": "stream",
          "name": "stdout",
          "text": [
            "Epoch 103/150, Train Loss: 0.5416, Test Loss: 0.8182\n"
          ]
        },
        {
          "output_type": "stream",
          "name": "stderr",
          "text": [
            "Epoch 104/150 - Training: 100%|██████████| 13/13 [00:00<00:00, 107.52it/s]\n"
          ]
        },
        {
          "output_type": "stream",
          "name": "stdout",
          "text": [
            "Epoch 104/150, Train Loss: 0.5505, Test Loss: 0.8156\n"
          ]
        },
        {
          "output_type": "stream",
          "name": "stderr",
          "text": [
            "Epoch 105/150 - Training: 100%|██████████| 13/13 [00:00<00:00, 107.24it/s]\n"
          ]
        },
        {
          "output_type": "stream",
          "name": "stdout",
          "text": [
            "Epoch 105/150, Train Loss: 0.5372, Test Loss: 0.8071\n"
          ]
        },
        {
          "output_type": "stream",
          "name": "stderr",
          "text": [
            "Epoch 106/150 - Training: 100%|██████████| 13/13 [00:00<00:00, 108.24it/s]\n"
          ]
        },
        {
          "output_type": "stream",
          "name": "stdout",
          "text": [
            "Epoch 106/150, Train Loss: 0.5406, Test Loss: 0.8184\n"
          ]
        },
        {
          "output_type": "stream",
          "name": "stderr",
          "text": [
            "Epoch 107/150 - Training: 100%|██████████| 13/13 [00:00<00:00, 105.87it/s]\n"
          ]
        },
        {
          "output_type": "stream",
          "name": "stdout",
          "text": [
            "Epoch 107/150, Train Loss: 0.5312, Test Loss: 0.8184\n"
          ]
        },
        {
          "output_type": "stream",
          "name": "stderr",
          "text": [
            "Epoch 108/150 - Training: 100%|██████████| 13/13 [00:00<00:00, 108.17it/s]\n"
          ]
        },
        {
          "output_type": "stream",
          "name": "stdout",
          "text": [
            "Epoch 108/150, Train Loss: 0.5294, Test Loss: 0.8094\n"
          ]
        },
        {
          "output_type": "stream",
          "name": "stderr",
          "text": [
            "Epoch 109/150 - Training: 100%|██████████| 13/13 [00:00<00:00, 100.11it/s]\n"
          ]
        },
        {
          "output_type": "stream",
          "name": "stdout",
          "text": [
            "Epoch 109/150, Train Loss: 0.5215, Test Loss: 0.8178\n"
          ]
        },
        {
          "output_type": "stream",
          "name": "stderr",
          "text": [
            "Epoch 110/150 - Training: 100%|██████████| 13/13 [00:00<00:00, 107.66it/s]\n"
          ]
        },
        {
          "output_type": "stream",
          "name": "stdout",
          "text": [
            "Epoch 110/150, Train Loss: 0.5153, Test Loss: 0.8135\n"
          ]
        },
        {
          "output_type": "stream",
          "name": "stderr",
          "text": [
            "Epoch 111/150 - Training: 100%|██████████| 13/13 [00:00<00:00, 106.60it/s]\n"
          ]
        },
        {
          "output_type": "stream",
          "name": "stdout",
          "text": [
            "Epoch 111/150, Train Loss: 0.5257, Test Loss: 0.8182\n"
          ]
        },
        {
          "output_type": "stream",
          "name": "stderr",
          "text": [
            "Epoch 112/150 - Training: 100%|██████████| 13/13 [00:00<00:00, 29.09it/s]\n"
          ]
        },
        {
          "output_type": "stream",
          "name": "stdout",
          "text": [
            "Epoch 112/150, Train Loss: 0.5077, Test Loss: 0.8281\n"
          ]
        },
        {
          "output_type": "stream",
          "name": "stderr",
          "text": [
            "Epoch 113/150 - Training: 100%|██████████| 13/13 [00:00<00:00, 103.80it/s]\n"
          ]
        },
        {
          "output_type": "stream",
          "name": "stdout",
          "text": [
            "Epoch 113/150, Train Loss: 0.5151, Test Loss: 0.8302\n"
          ]
        },
        {
          "output_type": "stream",
          "name": "stderr",
          "text": [
            "Epoch 114/150 - Training: 100%|██████████| 13/13 [00:00<00:00, 106.90it/s]\n"
          ]
        },
        {
          "output_type": "stream",
          "name": "stdout",
          "text": [
            "Epoch 114/150, Train Loss: 0.5044, Test Loss: 0.8219\n"
          ]
        },
        {
          "output_type": "stream",
          "name": "stderr",
          "text": [
            "Epoch 115/150 - Training: 100%|██████████| 13/13 [00:00<00:00, 105.86it/s]\n"
          ]
        },
        {
          "output_type": "stream",
          "name": "stdout",
          "text": [
            "Epoch 115/150, Train Loss: 0.5101, Test Loss: 0.8171\n"
          ]
        },
        {
          "output_type": "stream",
          "name": "stderr",
          "text": [
            "Epoch 116/150 - Training: 100%|██████████| 13/13 [00:00<00:00, 106.50it/s]\n"
          ]
        },
        {
          "output_type": "stream",
          "name": "stdout",
          "text": [
            "Epoch 116/150, Train Loss: 0.5037, Test Loss: 0.8365\n"
          ]
        },
        {
          "output_type": "stream",
          "name": "stderr",
          "text": [
            "Epoch 117/150 - Training: 100%|██████████| 13/13 [00:00<00:00, 106.48it/s]\n"
          ]
        },
        {
          "output_type": "stream",
          "name": "stdout",
          "text": [
            "Epoch 117/150, Train Loss: 0.5003, Test Loss: 0.8202\n"
          ]
        },
        {
          "output_type": "stream",
          "name": "stderr",
          "text": [
            "Epoch 118/150 - Training: 100%|██████████| 13/13 [00:00<00:00, 106.71it/s]\n"
          ]
        },
        {
          "output_type": "stream",
          "name": "stdout",
          "text": [
            "Epoch 118/150, Train Loss: 0.4955, Test Loss: 0.8224\n"
          ]
        },
        {
          "output_type": "stream",
          "name": "stderr",
          "text": [
            "Epoch 119/150 - Training: 100%|██████████| 13/13 [00:00<00:00, 101.11it/s]\n"
          ]
        },
        {
          "output_type": "stream",
          "name": "stdout",
          "text": [
            "Epoch 119/150, Train Loss: 0.5022, Test Loss: 0.8290\n"
          ]
        },
        {
          "output_type": "stream",
          "name": "stderr",
          "text": [
            "Epoch 120/150 - Training: 100%|██████████| 13/13 [00:00<00:00, 106.92it/s]\n"
          ]
        },
        {
          "output_type": "stream",
          "name": "stdout",
          "text": [
            "Epoch 120/150, Train Loss: 0.4953, Test Loss: 0.8226\n"
          ]
        },
        {
          "output_type": "stream",
          "name": "stderr",
          "text": [
            "Epoch 121/150 - Training: 100%|██████████| 13/13 [00:00<00:00, 106.04it/s]\n"
          ]
        },
        {
          "output_type": "stream",
          "name": "stdout",
          "text": [
            "Epoch 121/150, Train Loss: 0.4874, Test Loss: 0.8243\n"
          ]
        },
        {
          "output_type": "stream",
          "name": "stderr",
          "text": [
            "Epoch 122/150 - Training: 100%|██████████| 13/13 [00:00<00:00, 107.90it/s]\n"
          ]
        },
        {
          "output_type": "stream",
          "name": "stdout",
          "text": [
            "Epoch 122/150, Train Loss: 0.4828, Test Loss: 0.8318\n"
          ]
        },
        {
          "output_type": "stream",
          "name": "stderr",
          "text": [
            "Epoch 123/150 - Training: 100%|██████████| 13/13 [00:00<00:00, 106.70it/s]\n"
          ]
        },
        {
          "output_type": "stream",
          "name": "stdout",
          "text": [
            "Epoch 123/150, Train Loss: 0.4934, Test Loss: 0.8377\n"
          ]
        },
        {
          "output_type": "stream",
          "name": "stderr",
          "text": [
            "Epoch 124/150 - Training: 100%|██████████| 13/13 [00:00<00:00, 105.25it/s]\n"
          ]
        },
        {
          "output_type": "stream",
          "name": "stdout",
          "text": [
            "Epoch 124/150, Train Loss: 0.4903, Test Loss: 0.8390\n"
          ]
        },
        {
          "output_type": "stream",
          "name": "stderr",
          "text": [
            "Epoch 125/150 - Training: 100%|██████████| 13/13 [00:00<00:00, 29.23it/s]\n"
          ]
        },
        {
          "output_type": "stream",
          "name": "stdout",
          "text": [
            "Epoch 125/150, Train Loss: 0.4885, Test Loss: 0.8348\n"
          ]
        },
        {
          "output_type": "stream",
          "name": "stderr",
          "text": [
            "Epoch 126/150 - Training: 100%|██████████| 13/13 [00:00<00:00, 106.80it/s]\n"
          ]
        },
        {
          "output_type": "stream",
          "name": "stdout",
          "text": [
            "Epoch 126/150, Train Loss: 0.4756, Test Loss: 0.8370\n"
          ]
        },
        {
          "output_type": "stream",
          "name": "stderr",
          "text": [
            "Epoch 127/150 - Training: 100%|██████████| 13/13 [00:00<00:00, 108.36it/s]\n"
          ]
        },
        {
          "output_type": "stream",
          "name": "stdout",
          "text": [
            "Epoch 127/150, Train Loss: 0.4738, Test Loss: 0.8415\n"
          ]
        },
        {
          "output_type": "stream",
          "name": "stderr",
          "text": [
            "Epoch 128/150 - Training: 100%|██████████| 13/13 [00:00<00:00, 107.55it/s]\n"
          ]
        },
        {
          "output_type": "stream",
          "name": "stdout",
          "text": [
            "Epoch 128/150, Train Loss: 0.4640, Test Loss: 0.8373\n"
          ]
        },
        {
          "output_type": "stream",
          "name": "stderr",
          "text": [
            "Epoch 129/150 - Training: 100%|██████████| 13/13 [00:00<00:00, 95.85it/s]\n"
          ]
        },
        {
          "output_type": "stream",
          "name": "stdout",
          "text": [
            "Epoch 129/150, Train Loss: 0.4640, Test Loss: 0.8492\n"
          ]
        },
        {
          "output_type": "stream",
          "name": "stderr",
          "text": [
            "Epoch 130/150 - Training: 100%|██████████| 13/13 [00:00<00:00, 102.90it/s]\n"
          ]
        },
        {
          "output_type": "stream",
          "name": "stdout",
          "text": [
            "Epoch 130/150, Train Loss: 0.4639, Test Loss: 0.8297\n"
          ]
        },
        {
          "output_type": "stream",
          "name": "stderr",
          "text": [
            "Epoch 131/150 - Training: 100%|██████████| 13/13 [00:00<00:00, 104.42it/s]\n"
          ]
        },
        {
          "output_type": "stream",
          "name": "stdout",
          "text": [
            "Epoch 131/150, Train Loss: 0.4638, Test Loss: 0.8403\n"
          ]
        },
        {
          "output_type": "stream",
          "name": "stderr",
          "text": [
            "Epoch 132/150 - Training: 100%|██████████| 13/13 [00:00<00:00, 102.62it/s]\n"
          ]
        },
        {
          "output_type": "stream",
          "name": "stdout",
          "text": [
            "Epoch 132/150, Train Loss: 0.4630, Test Loss: 0.8503\n"
          ]
        },
        {
          "output_type": "stream",
          "name": "stderr",
          "text": [
            "Epoch 133/150 - Training: 100%|██████████| 13/13 [00:00<00:00, 109.48it/s]\n"
          ]
        },
        {
          "output_type": "stream",
          "name": "stdout",
          "text": [
            "Epoch 133/150, Train Loss: 0.4607, Test Loss: 0.8501\n"
          ]
        },
        {
          "output_type": "stream",
          "name": "stderr",
          "text": [
            "Epoch 134/150 - Training: 100%|██████████| 13/13 [00:00<00:00, 100.74it/s]\n"
          ]
        },
        {
          "output_type": "stream",
          "name": "stdout",
          "text": [
            "Epoch 134/150, Train Loss: 0.4511, Test Loss: 0.8367\n"
          ]
        },
        {
          "output_type": "stream",
          "name": "stderr",
          "text": [
            "Epoch 135/150 - Training: 100%|██████████| 13/13 [00:00<00:00, 99.51it/s]\n"
          ]
        },
        {
          "output_type": "stream",
          "name": "stdout",
          "text": [
            "Epoch 135/150, Train Loss: 0.4495, Test Loss: 0.8309\n"
          ]
        },
        {
          "output_type": "stream",
          "name": "stderr",
          "text": [
            "Epoch 136/150 - Training: 100%|██████████| 13/13 [00:00<00:00, 105.22it/s]\n"
          ]
        },
        {
          "output_type": "stream",
          "name": "stdout",
          "text": [
            "Epoch 136/150, Train Loss: 0.4534, Test Loss: 0.8471\n"
          ]
        },
        {
          "output_type": "stream",
          "name": "stderr",
          "text": [
            "Epoch 137/150 - Training: 100%|██████████| 13/13 [00:00<00:00, 106.20it/s]\n"
          ]
        },
        {
          "output_type": "stream",
          "name": "stdout",
          "text": [
            "Epoch 137/150, Train Loss: 0.4447, Test Loss: 0.8482\n"
          ]
        },
        {
          "output_type": "stream",
          "name": "stderr",
          "text": [
            "Epoch 138/150 - Training: 100%|██████████| 13/13 [00:00<00:00, 102.42it/s]\n"
          ]
        },
        {
          "output_type": "stream",
          "name": "stdout",
          "text": [
            "Epoch 138/150, Train Loss: 0.4480, Test Loss: 0.8492\n"
          ]
        },
        {
          "output_type": "stream",
          "name": "stderr",
          "text": [
            "Epoch 139/150 - Training: 100%|██████████| 13/13 [00:00<00:00, 28.25it/s]\n"
          ]
        },
        {
          "output_type": "stream",
          "name": "stdout",
          "text": [
            "Epoch 139/150, Train Loss: 0.4493, Test Loss: 0.8528\n"
          ]
        },
        {
          "output_type": "stream",
          "name": "stderr",
          "text": [
            "Epoch 140/150 - Training: 100%|██████████| 13/13 [00:00<00:00, 105.54it/s]\n"
          ]
        },
        {
          "output_type": "stream",
          "name": "stdout",
          "text": [
            "Epoch 140/150, Train Loss: 0.4351, Test Loss: 0.8553\n"
          ]
        },
        {
          "output_type": "stream",
          "name": "stderr",
          "text": [
            "Epoch 141/150 - Training: 100%|██████████| 13/13 [00:00<00:00, 105.96it/s]\n"
          ]
        },
        {
          "output_type": "stream",
          "name": "stdout",
          "text": [
            "Epoch 141/150, Train Loss: 0.4452, Test Loss: 0.8664\n"
          ]
        },
        {
          "output_type": "stream",
          "name": "stderr",
          "text": [
            "Epoch 142/150 - Training: 100%|██████████| 13/13 [00:00<00:00, 104.61it/s]\n"
          ]
        },
        {
          "output_type": "stream",
          "name": "stdout",
          "text": [
            "Epoch 142/150, Train Loss: 0.4432, Test Loss: 0.8564\n"
          ]
        },
        {
          "output_type": "stream",
          "name": "stderr",
          "text": [
            "Epoch 143/150 - Training: 100%|██████████| 13/13 [00:00<00:00, 104.97it/s]\n"
          ]
        },
        {
          "output_type": "stream",
          "name": "stdout",
          "text": [
            "Epoch 143/150, Train Loss: 0.4300, Test Loss: 0.8549\n"
          ]
        },
        {
          "output_type": "stream",
          "name": "stderr",
          "text": [
            "Epoch 144/150 - Training: 100%|██████████| 13/13 [00:00<00:00, 103.59it/s]\n"
          ]
        },
        {
          "output_type": "stream",
          "name": "stdout",
          "text": [
            "Epoch 144/150, Train Loss: 0.4307, Test Loss: 0.8530\n"
          ]
        },
        {
          "output_type": "stream",
          "name": "stderr",
          "text": [
            "Epoch 145/150 - Training: 100%|██████████| 13/13 [00:00<00:00, 107.06it/s]\n"
          ]
        },
        {
          "output_type": "stream",
          "name": "stdout",
          "text": [
            "Epoch 145/150, Train Loss: 0.4285, Test Loss: 0.8654\n"
          ]
        },
        {
          "output_type": "stream",
          "name": "stderr",
          "text": [
            "Epoch 146/150 - Training: 100%|██████████| 13/13 [00:00<00:00, 107.39it/s]\n"
          ]
        },
        {
          "output_type": "stream",
          "name": "stdout",
          "text": [
            "Epoch 146/150, Train Loss: 0.4308, Test Loss: 0.8654\n"
          ]
        },
        {
          "output_type": "stream",
          "name": "stderr",
          "text": [
            "Epoch 147/150 - Training: 100%|██████████| 13/13 [00:00<00:00, 106.38it/s]\n"
          ]
        },
        {
          "output_type": "stream",
          "name": "stdout",
          "text": [
            "Epoch 147/150, Train Loss: 0.4285, Test Loss: 0.8656\n"
          ]
        },
        {
          "output_type": "stream",
          "name": "stderr",
          "text": [
            "Epoch 148/150 - Training: 100%|██████████| 13/13 [00:00<00:00, 107.55it/s]\n"
          ]
        },
        {
          "output_type": "stream",
          "name": "stdout",
          "text": [
            "Epoch 148/150, Train Loss: 0.4313, Test Loss: 0.8736\n"
          ]
        },
        {
          "output_type": "stream",
          "name": "stderr",
          "text": [
            "Epoch 149/150 - Training: 100%|██████████| 13/13 [00:00<00:00, 108.23it/s]\n"
          ]
        },
        {
          "output_type": "stream",
          "name": "stdout",
          "text": [
            "Epoch 149/150, Train Loss: 0.4237, Test Loss: 0.8767\n"
          ]
        },
        {
          "output_type": "stream",
          "name": "stderr",
          "text": [
            "Epoch 150/150 - Training: 100%|██████████| 13/13 [00:00<00:00, 89.62it/s]\n"
          ]
        },
        {
          "output_type": "stream",
          "name": "stdout",
          "text": [
            "Epoch 150/150, Train Loss: 0.4250, Test Loss: 0.8945\n"
          ]
        }
      ]
    },
    {
      "cell_type": "code",
      "source": [
        "# Final evaluation\n",
        "model.eval()\n",
        "all_preds = []\n",
        "all_labels = []\n",
        "with torch.no_grad():\n",
        "    for X_batch, y_batch in test_loader:\n",
        "        X_batch, y_batch = X_batch.to(device), y_batch.to(device)\n",
        "        outputs = model(X_batch)\n",
        "        _, preds = torch.max(outputs, 1)\n",
        "        all_preds.extend(preds.cpu().numpy())\n",
        "        all_labels.extend(y_batch.cpu().numpy())\n",
        "\n",
        "# Compute metrics\n",
        "print(\"Accuracy:\", accuracy_score(all_labels, all_preds))\n",
        "print(\"\\nClassification Report:\\n\", classification_report(all_labels, all_preds, target_names=label_encoder.classes_))"
      ],
      "metadata": {
        "colab": {
          "base_uri": "https://localhost:8080/"
        },
        "id": "-HFwNc76dLi4",
        "outputId": "7e4aae0e-d431-4b0a-9e7b-b208d35dde03"
      },
      "execution_count": 26,
      "outputs": [
        {
          "output_type": "stream",
          "name": "stdout",
          "text": [
            "Accuracy: 0.7490210039159844\n",
            "\n",
            "Classification Report:\n",
            "                            precision    recall  f1-score   support\n",
            "\n",
            "          All Electronics       0.42      0.29      0.34       238\n",
            "           Amazon Fashion       0.94      0.96      0.95       269\n",
            "              Amazon Home       0.61      0.56      0.58       321\n",
            "    Arts, Crafts & Sewing       0.70      0.73      0.71       326\n",
            "               Automotive       0.79      0.82      0.80       331\n",
            "                    Books       0.90      0.95      0.92       313\n",
            "           Camera & Photo       0.73      0.72      0.73       165\n",
            "Cell Phones & Accessories       0.74      0.81      0.78       268\n",
            "                Computers       0.68      0.67      0.68       302\n",
            "            Digital Music       0.87      0.89      0.88       217\n",
            "                  Grocery       0.96      0.98      0.97       316\n",
            "   Health & Personal Care       0.51      0.38      0.43        64\n",
            "     Home Audio & Theater       0.45      0.59      0.51       150\n",
            "  Industrial & Scientific       0.69      0.81      0.74       250\n",
            "              Movies & TV       0.88      0.82      0.85       273\n",
            "      Musical Instruments       0.82      0.78      0.80       161\n",
            "          Office Products       0.65      0.73      0.69       322\n",
            "             Pet Supplies       0.89      0.80      0.84       259\n",
            "        Sports & Outdoors       0.77      0.66      0.71       316\n",
            " Tools & Home Improvement       0.67      0.62      0.64       335\n",
            "             Toys & Games       0.71      0.79      0.75       324\n",
            "              Video Games       0.86      0.77      0.81        98\n",
            "\n",
            "                 accuracy                           0.75      5618\n",
            "                macro avg       0.74      0.73      0.73      5618\n",
            "             weighted avg       0.75      0.75      0.75      5618\n",
            "\n"
          ]
        }
      ]
    },
    {
      "cell_type": "markdown",
      "source": [
        "## 7 - Conclusion"
      ],
      "metadata": {
        "id": "Iu7cHCuLI_UN"
      }
    },
    {
      "cell_type": "markdown",
      "source": [
        "Looking at the result of the models, we can see a similar performance of the three of them, Having a lot of target classes (22), still they reach around 74% accuracy.\n",
        "\n",
        "I have decided to use a **Logistic Regression**, for the following reasons:\n",
        "- Resources: A logistic regression takes very little resources to train and deploy, and do not need a GPU for faster training/inference, like a NN would.\n",
        "- Simplicity: Is a very simple model, if needed, we could interpret the coefficients of each variable to understand how they relate to the target (this would be more difficult with the embeddings, but can be done with the rest of variables).\n",
        "- Handle imbalances: As we saw, the dataset is imbalanced, which depending on the case can be a problem or not. If we decide to act on it, a logistic regression offers a simple way to manage it with the `class_weight` parameter."
      ],
      "metadata": {
        "id": "2US5ZiZXJXmG"
      }
    }
  ]
}