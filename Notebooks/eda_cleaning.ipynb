{
  "cells": [
    {
      "cell_type": "markdown",
      "metadata": {
        "id": "tvOvRXQzof61"
      },
      "source": [
        "## 0 - Load the data"
      ]
    },
    {
      "cell_type": "markdown",
      "metadata": {},
      "source": [
        "First, we will download the data, and parse the data according to the dataset description and some added features (like lengths and price format)"
      ]
    },
    {
      "cell_type": "code",
      "execution_count": 24,
      "metadata": {
        "id": "DKgv_3PRbq4B"
      },
      "outputs": [],
      "source": [
        "import gzip\n",
        "import json\n",
        "import re\n",
        "import pandas as pd\n",
        "\n",
        "def parse_jsonl_to_df(path_to_gzip):\n",
        "    \n",
        "    # Regex pattern that matches either an empty string OR something like \"$19.95\" (with 2 decimal places optional).\n",
        "    price_pattern = re.compile(r'^\\$?\\d{1,3}(,\\d{3})*(\\.\\d{2})?\\$?$')\n",
        "\n",
        "    records = []\n",
        "\n",
        "    with gzip.open(path_to_gzip, 'rb') as f:\n",
        "        for line in f:\n",
        "            product = json.loads(line)\n",
        "\n",
        "            # Prepare a dictionary that will become one row in our DataFrame\n",
        "            row = {}\n",
        "\n",
        "            # Direct fields (as is):\n",
        "            row['also_buy']   = product.get('also_buy', [])\n",
        "            row['also_view']  = product.get('also_view', [])\n",
        "            row['asin']       = product.get('asin', '')\n",
        "            row['brand']      = product.get('brand', '')\n",
        "            row['description_list'] = product.get('description', [])\n",
        "            row['feature_list']    = product.get('feature', [])\n",
        "            row['price']      = product.get('price', '')\n",
        "            row['title']      = product.get('title', '')\n",
        "            row['main_cat']   = product.get('main_cat', '')\n",
        "\n",
        "\n",
        "            ### Derived fields - NON TEXT\n",
        "            # Number of also buy and also view products lists.\n",
        "            row['num_also_buy'] = len(row['also_buy'])\n",
        "            row['num_also_view'] = len(row['also_view'])\n",
        "\n",
        "            # Number of images in the image list\n",
        "            row['num_images'] = len(product.get('image', []))  # we do NOT keep 'image' itself, just the length\n",
        "\n",
        "            # price_format -> check if matches a price format, like \"$19.95\" (valid format)\n",
        "            row['price_format'] = bool(price_pattern.match(row['price'].strip()))\n",
        "\n",
        "\n",
        "            ### Derived fields - TEXT\n",
        "            # Number of elements in the features list\n",
        "            row['num_features'] = len(row['feature_list'])\n",
        "\n",
        "            # Description\n",
        "            row['description'] = ('\\n'.join(row['description_list'])).strip()\n",
        "\n",
        "            # Features\n",
        "            row['features'] = ('\\n'.join(row['feature_list'])).strip()\n",
        "\n",
        "            # We skip 'category' since it’s not used as a feature\n",
        "            records.append(row)\n",
        "\n",
        "    df = pd.DataFrame(records)\n",
        "    return df"
      ]
    },
    {
      "cell_type": "code",
      "execution_count": 64,
      "metadata": {
        "id": "kK_HK6fSbs8-"
      },
      "outputs": [],
      "source": [
        "path = 'amz_products_small.jsonl.gz'\n",
        "\n",
        "df = parse_jsonl_to_df(path)\n",
        "\n",
        "# WE WILL ALSO ENSURE THERE ARE NO DUPLICATED PRODUCTS\n",
        "df.drop_duplicates(subset=\"asin\", inplace=True)"
      ]
    },
    {
      "cell_type": "code",
      "execution_count": 66,
      "metadata": {
        "colab": {
          "base_uri": "https://localhost:8080/",
          "height": 542
        },
        "id": "maQaY62_uTtW",
        "outputId": "f5a5c913-47ec-4773-f757-b6e46ea1e566"
      },
      "outputs": [
        {
          "data": {
            "application/vnd.google.colaboratory.intrinsic+json": {
              "type": "dataframe",
              "variable_name": "df"
            },
            "text/html": [
              "\n",
              "  <div id=\"df-275ffeff-7534-4509-bf92-650eaead54fb\" class=\"colab-df-container\">\n",
              "    <div>\n",
              "<style scoped>\n",
              "    .dataframe tbody tr th:only-of-type {\n",
              "        vertical-align: middle;\n",
              "    }\n",
              "\n",
              "    .dataframe tbody tr th {\n",
              "        vertical-align: top;\n",
              "    }\n",
              "\n",
              "    .dataframe thead th {\n",
              "        text-align: right;\n",
              "    }\n",
              "</style>\n",
              "<table border=\"1\" class=\"dataframe\">\n",
              "  <thead>\n",
              "    <tr style=\"text-align: right;\">\n",
              "      <th></th>\n",
              "      <th>also_buy</th>\n",
              "      <th>also_view</th>\n",
              "      <th>asin</th>\n",
              "      <th>brand</th>\n",
              "      <th>description_list</th>\n",
              "      <th>feature_list</th>\n",
              "      <th>price</th>\n",
              "      <th>title</th>\n",
              "      <th>main_cat</th>\n",
              "      <th>num_also_buy</th>\n",
              "      <th>num_also_view</th>\n",
              "      <th>num_images</th>\n",
              "      <th>price_format</th>\n",
              "      <th>num_description</th>\n",
              "      <th>num_features</th>\n",
              "      <th>description</th>\n",
              "      <th>len_description</th>\n",
              "      <th>features</th>\n",
              "      <th>len_features</th>\n",
              "    </tr>\n",
              "  </thead>\n",
              "  <tbody>\n",
              "    <tr>\n",
              "      <th>0</th>\n",
              "      <td>[]</td>\n",
              "      <td>[]</td>\n",
              "      <td>B00ADZ3WUM</td>\n",
              "      <td>NSI</td>\n",
              "      <td>[Bumpersticker: A day without sunshine is like...</td>\n",
              "      <td>[Official Licensed Die-Cut Sticker Designed by...</td>\n",
              "      <td>$4.68</td>\n",
              "      <td>NSI - A Day Without Sunshine is Like, Well, Ni...</td>\n",
              "      <td>Automotive</td>\n",
              "      <td>0</td>\n",
              "      <td>0</td>\n",
              "      <td>0</td>\n",
              "      <td>True</td>\n",
              "      <td>1</td>\n",
              "      <td>5</td>\n",
              "      <td>Bumpersticker: A day without sunshine is like,...</td>\n",
              "      <td>88</td>\n",
              "      <td>Official Licensed Die-Cut Sticker Designed by ...</td>\n",
              "      <td>450</td>\n",
              "    </tr>\n",
              "    <tr>\n",
              "      <th>1</th>\n",
              "      <td>[]</td>\n",
              "      <td>[]</td>\n",
              "      <td>B005VII5IU</td>\n",
              "      <td>General Motors</td>\n",
              "      <td>[This is the official Genuine General Motors P...</td>\n",
              "      <td>[This is the official Genuine General Motors P...</td>\n",
              "      <td>$213.16</td>\n",
              "      <td>Genuine GM Parts 10341533 Rear Bumper Valance ...</td>\n",
              "      <td>Automotive</td>\n",
              "      <td>0</td>\n",
              "      <td>0</td>\n",
              "      <td>0</td>\n",
              "      <td>True</td>\n",
              "      <td>1</td>\n",
              "      <td>1</td>\n",
              "      <td>This is the official Genuine General Motors Pa...</td>\n",
              "      <td>84</td>\n",
              "      <td>This is the official Genuine General Motors Pa...</td>\n",
              "      <td>84</td>\n",
              "    </tr>\n",
              "    <tr>\n",
              "      <th>2</th>\n",
              "      <td>[]</td>\n",
              "      <td>[]</td>\n",
              "      <td>B001QTEKVO</td>\n",
              "      <td>JLM</td>\n",
              "      <td>[HID Xenon lights are designed to be at least ...</td>\n",
              "      <td>[Will run for approx 2500 hours, Produces 2 to...</td>\n",
              "      <td></td>\n",
              "      <td>JLM HID Conversion Kit H13 (9008) Dual Tube B...</td>\n",
              "      <td>Automotive</td>\n",
              "      <td>0</td>\n",
              "      <td>0</td>\n",
              "      <td>1</td>\n",
              "      <td>False</td>\n",
              "      <td>1</td>\n",
              "      <td>3</td>\n",
              "      <td>HID Xenon lights are designed to be at least 3...</td>\n",
              "      <td>693</td>\n",
              "      <td>Will run for approx 2500 hours\\nProduces 2 to ...</td>\n",
              "      <td>111</td>\n",
              "    </tr>\n",
              "    <tr>\n",
              "      <th>3</th>\n",
              "      <td>[]</td>\n",
              "      <td>[B007KLMLRM, B007KLMNNE, B0085FOJ90, B0085FOAW...</td>\n",
              "      <td>B00HWI43Q0</td>\n",
              "      <td>Spec-D Tuning</td>\n",
              "      <td>[Brand new in original packaging. Exactly the ...</td>\n",
              "      <td>[Features 1 pair of Red &amp; Smoked lens Tail Lig...</td>\n",
              "      <td>$8.63</td>\n",
              "      <td>Spec-D Tuning LT-E362RG-F2-APC New 3D Light Ba...</td>\n",
              "      <td>Automotive</td>\n",
              "      <td>0</td>\n",
              "      <td>18</td>\n",
              "      <td>1</td>\n",
              "      <td>True</td>\n",
              "      <td>1</td>\n",
              "      <td>4</td>\n",
              "      <td>Brand new in original packaging. Exactly the s...</td>\n",
              "      <td>464</td>\n",
              "      <td>Features 1 pair of Red &amp; Smoked lens Tail Ligh...</td>\n",
              "      <td>249</td>\n",
              "    </tr>\n",
              "  </tbody>\n",
              "</table>\n",
              "</div>\n",
              "    <div class=\"colab-df-buttons\">\n",
              "\n",
              "  <div class=\"colab-df-container\">\n",
              "    <button class=\"colab-df-convert\" onclick=\"convertToInteractive('df-275ffeff-7534-4509-bf92-650eaead54fb')\"\n",
              "            title=\"Convert this dataframe to an interactive table.\"\n",
              "            style=\"display:none;\">\n",
              "\n",
              "  <svg xmlns=\"http://www.w3.org/2000/svg\" height=\"24px\" viewBox=\"0 -960 960 960\">\n",
              "    <path d=\"M120-120v-720h720v720H120Zm60-500h600v-160H180v160Zm220 220h160v-160H400v160Zm0 220h160v-160H400v160ZM180-400h160v-160H180v160Zm440 0h160v-160H620v160ZM180-180h160v-160H180v160Zm440 0h160v-160H620v160Z\"/>\n",
              "  </svg>\n",
              "    </button>\n",
              "\n",
              "  <style>\n",
              "    .colab-df-container {\n",
              "      display:flex;\n",
              "      gap: 12px;\n",
              "    }\n",
              "\n",
              "    .colab-df-convert {\n",
              "      background-color: #E8F0FE;\n",
              "      border: none;\n",
              "      border-radius: 50%;\n",
              "      cursor: pointer;\n",
              "      display: none;\n",
              "      fill: #1967D2;\n",
              "      height: 32px;\n",
              "      padding: 0 0 0 0;\n",
              "      width: 32px;\n",
              "    }\n",
              "\n",
              "    .colab-df-convert:hover {\n",
              "      background-color: #E2EBFA;\n",
              "      box-shadow: 0px 1px 2px rgba(60, 64, 67, 0.3), 0px 1px 3px 1px rgba(60, 64, 67, 0.15);\n",
              "      fill: #174EA6;\n",
              "    }\n",
              "\n",
              "    .colab-df-buttons div {\n",
              "      margin-bottom: 4px;\n",
              "    }\n",
              "\n",
              "    [theme=dark] .colab-df-convert {\n",
              "      background-color: #3B4455;\n",
              "      fill: #D2E3FC;\n",
              "    }\n",
              "\n",
              "    [theme=dark] .colab-df-convert:hover {\n",
              "      background-color: #434B5C;\n",
              "      box-shadow: 0px 1px 3px 1px rgba(0, 0, 0, 0.15);\n",
              "      filter: drop-shadow(0px 1px 2px rgba(0, 0, 0, 0.3));\n",
              "      fill: #FFFFFF;\n",
              "    }\n",
              "  </style>\n",
              "\n",
              "    <script>\n",
              "      const buttonEl =\n",
              "        document.querySelector('#df-275ffeff-7534-4509-bf92-650eaead54fb button.colab-df-convert');\n",
              "      buttonEl.style.display =\n",
              "        google.colab.kernel.accessAllowed ? 'block' : 'none';\n",
              "\n",
              "      async function convertToInteractive(key) {\n",
              "        const element = document.querySelector('#df-275ffeff-7534-4509-bf92-650eaead54fb');\n",
              "        const dataTable =\n",
              "          await google.colab.kernel.invokeFunction('convertToInteractive',\n",
              "                                                    [key], {});\n",
              "        if (!dataTable) return;\n",
              "\n",
              "        const docLinkHtml = 'Like what you see? Visit the ' +\n",
              "          '<a target=\"_blank\" href=https://colab.research.google.com/notebooks/data_table.ipynb>data table notebook</a>'\n",
              "          + ' to learn more about interactive tables.';\n",
              "        element.innerHTML = '';\n",
              "        dataTable['output_type'] = 'display_data';\n",
              "        await google.colab.output.renderOutput(dataTable, element);\n",
              "        const docLink = document.createElement('div');\n",
              "        docLink.innerHTML = docLinkHtml;\n",
              "        element.appendChild(docLink);\n",
              "      }\n",
              "    </script>\n",
              "  </div>\n",
              "\n",
              "\n",
              "<div id=\"df-9f5cedfa-9d6d-4a03-b025-f4fd5c14d8bb\">\n",
              "  <button class=\"colab-df-quickchart\" onclick=\"quickchart('df-9f5cedfa-9d6d-4a03-b025-f4fd5c14d8bb')\"\n",
              "            title=\"Suggest charts\"\n",
              "            style=\"display:none;\">\n",
              "\n",
              "<svg xmlns=\"http://www.w3.org/2000/svg\" height=\"24px\"viewBox=\"0 0 24 24\"\n",
              "     width=\"24px\">\n",
              "    <g>\n",
              "        <path d=\"M19 3H5c-1.1 0-2 .9-2 2v14c0 1.1.9 2 2 2h14c1.1 0 2-.9 2-2V5c0-1.1-.9-2-2-2zM9 17H7v-7h2v7zm4 0h-2V7h2v10zm4 0h-2v-4h2v4z\"/>\n",
              "    </g>\n",
              "</svg>\n",
              "  </button>\n",
              "\n",
              "<style>\n",
              "  .colab-df-quickchart {\n",
              "      --bg-color: #E8F0FE;\n",
              "      --fill-color: #1967D2;\n",
              "      --hover-bg-color: #E2EBFA;\n",
              "      --hover-fill-color: #174EA6;\n",
              "      --disabled-fill-color: #AAA;\n",
              "      --disabled-bg-color: #DDD;\n",
              "  }\n",
              "\n",
              "  [theme=dark] .colab-df-quickchart {\n",
              "      --bg-color: #3B4455;\n",
              "      --fill-color: #D2E3FC;\n",
              "      --hover-bg-color: #434B5C;\n",
              "      --hover-fill-color: #FFFFFF;\n",
              "      --disabled-bg-color: #3B4455;\n",
              "      --disabled-fill-color: #666;\n",
              "  }\n",
              "\n",
              "  .colab-df-quickchart {\n",
              "    background-color: var(--bg-color);\n",
              "    border: none;\n",
              "    border-radius: 50%;\n",
              "    cursor: pointer;\n",
              "    display: none;\n",
              "    fill: var(--fill-color);\n",
              "    height: 32px;\n",
              "    padding: 0;\n",
              "    width: 32px;\n",
              "  }\n",
              "\n",
              "  .colab-df-quickchart:hover {\n",
              "    background-color: var(--hover-bg-color);\n",
              "    box-shadow: 0 1px 2px rgba(60, 64, 67, 0.3), 0 1px 3px 1px rgba(60, 64, 67, 0.15);\n",
              "    fill: var(--button-hover-fill-color);\n",
              "  }\n",
              "\n",
              "  .colab-df-quickchart-complete:disabled,\n",
              "  .colab-df-quickchart-complete:disabled:hover {\n",
              "    background-color: var(--disabled-bg-color);\n",
              "    fill: var(--disabled-fill-color);\n",
              "    box-shadow: none;\n",
              "  }\n",
              "\n",
              "  .colab-df-spinner {\n",
              "    border: 2px solid var(--fill-color);\n",
              "    border-color: transparent;\n",
              "    border-bottom-color: var(--fill-color);\n",
              "    animation:\n",
              "      spin 1s steps(1) infinite;\n",
              "  }\n",
              "\n",
              "  @keyframes spin {\n",
              "    0% {\n",
              "      border-color: transparent;\n",
              "      border-bottom-color: var(--fill-color);\n",
              "      border-left-color: var(--fill-color);\n",
              "    }\n",
              "    20% {\n",
              "      border-color: transparent;\n",
              "      border-left-color: var(--fill-color);\n",
              "      border-top-color: var(--fill-color);\n",
              "    }\n",
              "    30% {\n",
              "      border-color: transparent;\n",
              "      border-left-color: var(--fill-color);\n",
              "      border-top-color: var(--fill-color);\n",
              "      border-right-color: var(--fill-color);\n",
              "    }\n",
              "    40% {\n",
              "      border-color: transparent;\n",
              "      border-right-color: var(--fill-color);\n",
              "      border-top-color: var(--fill-color);\n",
              "    }\n",
              "    60% {\n",
              "      border-color: transparent;\n",
              "      border-right-color: var(--fill-color);\n",
              "    }\n",
              "    80% {\n",
              "      border-color: transparent;\n",
              "      border-right-color: var(--fill-color);\n",
              "      border-bottom-color: var(--fill-color);\n",
              "    }\n",
              "    90% {\n",
              "      border-color: transparent;\n",
              "      border-bottom-color: var(--fill-color);\n",
              "    }\n",
              "  }\n",
              "</style>\n",
              "\n",
              "  <script>\n",
              "    async function quickchart(key) {\n",
              "      const quickchartButtonEl =\n",
              "        document.querySelector('#' + key + ' button');\n",
              "      quickchartButtonEl.disabled = true;  // To prevent multiple clicks.\n",
              "      quickchartButtonEl.classList.add('colab-df-spinner');\n",
              "      try {\n",
              "        const charts = await google.colab.kernel.invokeFunction(\n",
              "            'suggestCharts', [key], {});\n",
              "      } catch (error) {\n",
              "        console.error('Error during call to suggestCharts:', error);\n",
              "      }\n",
              "      quickchartButtonEl.classList.remove('colab-df-spinner');\n",
              "      quickchartButtonEl.classList.add('colab-df-quickchart-complete');\n",
              "    }\n",
              "    (() => {\n",
              "      let quickchartButtonEl =\n",
              "        document.querySelector('#df-9f5cedfa-9d6d-4a03-b025-f4fd5c14d8bb button');\n",
              "      quickchartButtonEl.style.display =\n",
              "        google.colab.kernel.accessAllowed ? 'block' : 'none';\n",
              "    })();\n",
              "  </script>\n",
              "</div>\n",
              "\n",
              "    </div>\n",
              "  </div>\n"
            ],
            "text/plain": [
              "  also_buy                                          also_view        asin  \\\n",
              "0       []                                                 []  B00ADZ3WUM   \n",
              "1       []                                                 []  B005VII5IU   \n",
              "2       []                                                 []  B001QTEKVO   \n",
              "3       []  [B007KLMLRM, B007KLMNNE, B0085FOJ90, B0085FOAW...  B00HWI43Q0   \n",
              "\n",
              "            brand                                   description_list  \\\n",
              "0             NSI  [Bumpersticker: A day without sunshine is like...   \n",
              "1  General Motors  [This is the official Genuine General Motors P...   \n",
              "2             JLM  [HID Xenon lights are designed to be at least ...   \n",
              "3   Spec-D Tuning  [Brand new in original packaging. Exactly the ...   \n",
              "\n",
              "                                        feature_list    price  \\\n",
              "0  [Official Licensed Die-Cut Sticker Designed by...    $4.68   \n",
              "1  [This is the official Genuine General Motors P...  $213.16   \n",
              "2  [Will run for approx 2500 hours, Produces 2 to...            \n",
              "3  [Features 1 pair of Red & Smoked lens Tail Lig...    $8.63   \n",
              "\n",
              "                                               title    main_cat  \\\n",
              "0  NSI - A Day Without Sunshine is Like, Well, Ni...  Automotive   \n",
              "1  Genuine GM Parts 10341533 Rear Bumper Valance ...  Automotive   \n",
              "2   JLM HID Conversion Kit H13 (9008) Dual Tube B...  Automotive   \n",
              "3  Spec-D Tuning LT-E362RG-F2-APC New 3D Light Ba...  Automotive   \n",
              "\n",
              "   num_also_buy  num_also_view  num_images  price_format  num_description  \\\n",
              "0             0              0           0          True                1   \n",
              "1             0              0           0          True                1   \n",
              "2             0              0           1         False                1   \n",
              "3             0             18           1          True                1   \n",
              "\n",
              "   num_features                                        description  \\\n",
              "0             5  Bumpersticker: A day without sunshine is like,...   \n",
              "1             1  This is the official Genuine General Motors Pa...   \n",
              "2             3  HID Xenon lights are designed to be at least 3...   \n",
              "3             4  Brand new in original packaging. Exactly the s...   \n",
              "\n",
              "   len_description                                           features  \\\n",
              "0               88  Official Licensed Die-Cut Sticker Designed by ...   \n",
              "1               84  This is the official Genuine General Motors Pa...   \n",
              "2              693  Will run for approx 2500 hours\\nProduces 2 to ...   \n",
              "3              464  Features 1 pair of Red & Smoked lens Tail Ligh...   \n",
              "\n",
              "   len_features  \n",
              "0           450  \n",
              "1            84  \n",
              "2           111  \n",
              "3           249  "
            ]
          },
          "execution_count": 66,
          "metadata": {},
          "output_type": "execute_result"
        }
      ],
      "source": [
        "df.head(4)"
      ]
    },
    {
      "cell_type": "markdown",
      "metadata": {
        "id": "TJEwe4eD5Vff"
      },
      "source": [
        "## 1 - Feature Selection (NON TEXT)"
      ]
    },
    {
      "cell_type": "markdown",
      "metadata": {
        "id": "KdZQZr9Y5beD"
      },
      "source": [
        "### 1.1 - Price\n",
        "\n",
        "For selecting the price, we will take a look at how many values have a correct price format."
      ]
    },
    {
      "cell_type": "code",
      "execution_count": 67,
      "metadata": {
        "colab": {
          "base_uri": "https://localhost:8080/",
          "height": 178
        },
        "id": "ix621tjgRlcs",
        "outputId": "51ced524-49c1-4866-a343-b8ad4215e659"
      },
      "outputs": [
        {
          "data": {
            "text/html": [
              "<div>\n",
              "<style scoped>\n",
              "    .dataframe tbody tr th:only-of-type {\n",
              "        vertical-align: middle;\n",
              "    }\n",
              "\n",
              "    .dataframe tbody tr th {\n",
              "        vertical-align: top;\n",
              "    }\n",
              "\n",
              "    .dataframe thead th {\n",
              "        text-align: right;\n",
              "    }\n",
              "</style>\n",
              "<table border=\"1\" class=\"dataframe\">\n",
              "  <thead>\n",
              "    <tr style=\"text-align: right;\">\n",
              "      <th></th>\n",
              "      <th>proportion</th>\n",
              "    </tr>\n",
              "    <tr>\n",
              "      <th>price_format</th>\n",
              "      <th></th>\n",
              "    </tr>\n",
              "  </thead>\n",
              "  <tbody>\n",
              "    <tr>\n",
              "      <th>True</th>\n",
              "      <td>0.524101</td>\n",
              "    </tr>\n",
              "    <tr>\n",
              "      <th>False</th>\n",
              "      <td>0.475899</td>\n",
              "    </tr>\n",
              "  </tbody>\n",
              "</table>\n",
              "</div><br><label><b>dtype:</b> float64</label>"
            ],
            "text/plain": [
              "price_format\n",
              "True     0.524101\n",
              "False    0.475899\n",
              "Name: proportion, dtype: float64"
            ]
          },
          "execution_count": 67,
          "metadata": {},
          "output_type": "execute_result"
        }
      ],
      "source": [
        "df.price_format.value_counts(normalize=True)"
      ]
    },
    {
      "cell_type": "markdown",
      "metadata": {
        "id": "txXFxffd5yUC"
      },
      "source": [
        "We see that, around half of the prices come in correct format and the other half have incorrect format.\n",
        "\n",
        "We **WON'T be using this variable** although it could be very usefull, but around half of the records for infernece won't have a value, meaning we would have to act on it.\n",
        "\n",
        "If we decided to act on it, we could, among others:\n",
        "- Imputing it. This should be carefully done specially in this case that almos half of the records are missing\n",
        "- Converting to a `has_price` boolean variable, indicating the presence or absence of the price value.\n",
        "\n",
        "For this case, we won't use it and focus on the rest of variables."
      ]
    },
    {
      "cell_type": "markdown",
      "metadata": {
        "id": "IVN8azgG9Q54"
      },
      "source": [
        "### 1.2 - Brand"
      ]
    },
    {
      "cell_type": "code",
      "execution_count": 68,
      "metadata": {
        "colab": {
          "base_uri": "https://localhost:8080/",
          "height": 429
        },
        "id": "Urqi5SZj9ijL",
        "outputId": "f42c7242-4ed4-4ddf-f1a7-4c1813d75623"
      },
      "outputs": [
        {
          "data": {
            "text/html": [
              "<div>\n",
              "<style scoped>\n",
              "    .dataframe tbody tr th:only-of-type {\n",
              "        vertical-align: middle;\n",
              "    }\n",
              "\n",
              "    .dataframe tbody tr th {\n",
              "        vertical-align: top;\n",
              "    }\n",
              "\n",
              "    .dataframe thead th {\n",
              "        text-align: right;\n",
              "    }\n",
              "</style>\n",
              "<table border=\"1\" class=\"dataframe\">\n",
              "  <thead>\n",
              "    <tr style=\"text-align: right;\">\n",
              "      <th></th>\n",
              "      <th>proportion</th>\n",
              "    </tr>\n",
              "    <tr>\n",
              "      <th>brand</th>\n",
              "      <th></th>\n",
              "    </tr>\n",
              "  </thead>\n",
              "  <tbody>\n",
              "    <tr>\n",
              "      <th></th>\n",
              "      <td>0.029971</td>\n",
              "    </tr>\n",
              "    <tr>\n",
              "      <th>Generic</th>\n",
              "      <td>0.005227</td>\n",
              "    </tr>\n",
              "    <tr>\n",
              "      <th>uxcell</th>\n",
              "      <td>0.004468</td>\n",
              "    </tr>\n",
              "    <tr>\n",
              "      <th>Unknown</th>\n",
              "      <td>0.003418</td>\n",
              "    </tr>\n",
              "    <tr>\n",
              "      <th>Sony</th>\n",
              "      <td>0.002995</td>\n",
              "    </tr>\n",
              "    <tr>\n",
              "      <th>HP</th>\n",
              "      <td>0.002301</td>\n",
              "    </tr>\n",
              "    <tr>\n",
              "      <th>Samsung</th>\n",
              "      <td>0.002222</td>\n",
              "    </tr>\n",
              "    <tr>\n",
              "      <th>Dell</th>\n",
              "      <td>0.002045</td>\n",
              "    </tr>\n",
              "    <tr>\n",
              "      <th>Disney</th>\n",
              "      <td>0.001814</td>\n",
              "    </tr>\n",
              "    <tr>\n",
              "      <th>3dRose</th>\n",
              "      <td>0.001780</td>\n",
              "    </tr>\n",
              "  </tbody>\n",
              "</table>\n",
              "</div><br><label><b>dtype:</b> float64</label>"
            ],
            "text/plain": [
              "brand\n",
              "           0.029971\n",
              "Generic    0.005227\n",
              "uxcell     0.004468\n",
              "Unknown    0.003418\n",
              "Sony       0.002995\n",
              "HP         0.002301\n",
              "Samsung    0.002222\n",
              "Dell       0.002045\n",
              "Disney     0.001814\n",
              "3dRose     0.001780\n",
              "Name: proportion, dtype: float64"
            ]
          },
          "execution_count": 68,
          "metadata": {},
          "output_type": "execute_result"
        }
      ],
      "source": [
        "df.brand.value_counts(normalize=True).head(10)"
      ]
    },
    {
      "cell_type": "markdown",
      "metadata": {
        "id": "Em9ZCR2Q9ygX"
      },
      "source": [
        "For this variable, we could leave the top N categories and group the rest onto a \"Others\" category.\n",
        "\n",
        "The thing is, there are too many categories and each one represents a very tiny fraction of the dataset, even the brands with more records.\n",
        "\n",
        "Therefore, we **won't be using this variable neither**."
      ]
    },
    {
      "cell_type": "markdown",
      "metadata": {
        "id": "LM4rO4iV-XhG"
      },
      "source": [
        "### 1.3 - num_also_buy, num_also_view, num_images"
      ]
    },
    {
      "cell_type": "markdown",
      "metadata": {
        "id": "vgVmokyq-cw0"
      },
      "source": [
        "For this three elements, we see the following:\n",
        "- num_also_buy: number of also bought products\n",
        "- also_view: number of also view products\n",
        "- num_images: number of images of the product\n",
        "\n",
        "\n",
        "We want now to see how this variable distribute."
      ]
    },
    {
      "cell_type": "code",
      "execution_count": 69,
      "metadata": {
        "colab": {
          "base_uri": "https://localhost:8080/",
          "height": 1000
        },
        "id": "6bAji3RO_BRR",
        "outputId": "659d93f3-c4f3-4752-bcb2-9ea7b21cac29"
      },
      "outputs": [
        {
          "data": {
            "image/png": "[encoded data removed]",
            "text/plain": [
              "<Figure size 640x480 with 1 Axes>"
            ]
          },
          "metadata": {},
          "output_type": "display_data"
        },
        {
          "data": {
            "image/png": "[encoded data removed]",
            "text/plain": [
              "<Figure size 640x480 with 1 Axes>"
            ]
          },
          "metadata": {},
          "output_type": "display_data"
        },
        {
          "data": {
            "image/png": "[encoded data removed]",
            "text/plain": [
              "<Figure size 640x480 with 1 Axes>"
            ]
          },
          "metadata": {},
          "output_type": "display_data"
        }
      ],
      "source": [
        "import matplotlib.pyplot as plt\n",
        "\n",
        "for var in ['num_also_buy', 'num_also_view', 'num_images']:\n",
        "\n",
        "    # Create a new figure for each plot\n",
        "    plt.figure()\n",
        "    # Plot the distribution (histogram)\n",
        "    df[var].plot(kind='hist', title=f'Distribution of {var}')\n",
        "    # Add labels\n",
        "    plt.xlabel(var)\n",
        "    plt.ylabel('Density')\n",
        "    plt.show()"
      ]
    },
    {
      "cell_type": "markdown",
      "metadata": {
        "id": "oxeJwEsDAZpR"
      },
      "source": [
        "The histograms of num_also_buy, num_also_view, and num_images clearly show highly skewed distributions where the majority of the data is concentrated at lower values, with a long tail extending towards higher values. This indicates that most data points fall into a small number of categories, while a few categories occur infrequently.\n",
        "\n",
        "For solving this, we will apply a threshold of 1% to filter out categories with a very low frequency, in order to serve the following purposes:\n",
        "1. Simplification of cateogires\n",
        "2. Reduction of noise (grouping underrepresented values into a `Others` category)\n",
        "3. Focus on significant patterns (by just nalyzing the most representative categories for each variable)"
      ]
    },
    {
      "cell_type": "code",
      "execution_count": 70,
      "metadata": {
        "id": "13Jqjb4q-dO9"
      },
      "outputs": [],
      "source": [
        "#threshold 1%\n",
        "threshold = 0.01\n",
        "\n",
        "# Get the bins\n",
        "also_buy_counts = df.num_also_buy.value_counts(normalize=True)\n",
        "also_view_counts = df.num_also_view.value_counts(normalize=True)\n",
        "num_images_counts = df.num_images.value_counts(normalize=True)\n",
        "\n",
        "bins_also_buy = also_buy_counts[also_buy_counts > threshold].index.tolist()\n",
        "bins_also_view = also_view_counts[also_view_counts > threshold].index.tolist()\n",
        "bins_images = num_images_counts[num_images_counts > threshold].index.tolist()\n",
        "\n",
        "#Create the columns\n",
        "df['also_buy_categ'] = df.num_also_buy.apply(lambda x: str(x) if x in bins_also_buy else 'Other')\n",
        "df['also_view_categ'] = df.num_also_view.apply(lambda x: str(x) if x in bins_also_view else 'Other')\n",
        "df['num_images_categ'] = df.num_images.apply(lambda x: str(x) if x in bins_images else 'Other')"
      ]
    },
    {
      "cell_type": "markdown",
      "metadata": {
        "id": "6ktf3Ncw_yhZ"
      },
      "source": [
        "Print the categories to see how they distribute now."
      ]
    },
    {
      "cell_type": "code",
      "execution_count": 71,
      "metadata": {
        "colab": {
          "base_uri": "https://localhost:8080/",
          "height": 1000
        },
        "id": "v-wVktSs__W-",
        "outputId": "d4ac9a46-9df1-4721-e399-af308943b8a4"
      },
      "outputs": [
        {
          "data": {
            "image/png": "[encoded data removed]",
            "text/plain": [
              "<Figure size 800x500 with 1 Axes>"
            ]
          },
          "metadata": {},
          "output_type": "display_data"
        },
        {
          "data": {
            "image/png": "[encoded data removed]",
            "text/plain": [
              "<Figure size 800x500 with 1 Axes>"
            ]
          },
          "metadata": {},
          "output_type": "display_data"
        },
        {
          "data": {
            "image/png": "[encoded data removed]",
            "text/plain": [
              "<Figure size 800x500 with 1 Axes>"
            ]
          },
          "metadata": {},
          "output_type": "display_data"
        }
      ],
      "source": [
        "import matplotlib.pyplot as plt\n",
        "\n",
        "# List of new categorical variables\n",
        "categorical_vars = ['also_buy_categ', 'also_view_categ', 'num_images_categ']\n",
        "\n",
        "# Iterate through the variables\n",
        "for var in categorical_vars:\n",
        "    # Get the value counts\n",
        "    value_counts = df[var].value_counts(normalize=True) * 100  # Convert to percentage if desired\n",
        "    # Create a bar plot\n",
        "    plt.figure(figsize=(8, 5))\n",
        "    value_counts.plot(kind='bar', color='skyblue', edgecolor='black')\n",
        "    # Add titles and labels\n",
        "    plt.title(f'Distribution of {var}', fontsize=14)\n",
        "    plt.xlabel(f'{var} Categories', fontsize=12)\n",
        "    plt.ylabel('Percentage (%)', fontsize=12)\n",
        "    plt.xticks(rotation=45, ha='right')\n",
        "    # Show the plot\n",
        "    plt.tight_layout()\n",
        "    plt.show()\n"
      ]
    },
    {
      "cell_type": "markdown",
      "metadata": {
        "id": "svYnw50ofeZe"
      },
      "source": [
        "## 2 - Feature Selection (TEXT)"
      ]
    },
    {
      "cell_type": "markdown",
      "metadata": {
        "id": "G8zObQBQazRc"
      },
      "source": [
        "### 2.1 - Cleaning text features"
      ]
    },
    {
      "cell_type": "markdown",
      "metadata": {
        "id": "9CdG1M1yiErk"
      },
      "source": [
        "For the text features, we will take every possible text field in the text:\n",
        "- features (concatenated)\n",
        "- description (concatentaed)\n",
        "- title\n",
        "\n",
        "And apply a cleaning function, for removing non usable and noisi information:\n",
        "- Remove the HTML tags (there are a lot)\n",
        "- Remove non-printable characters\n",
        "- Remove exessive whitespaces\n",
        "- Remove special symbols to only keep the regular punctuation marks.\n",
        "\n",
        "By doing that, we ensure ready-to-use text information to create embeddings from a DL model, that will serve as features for the model."
      ]
    },
    {
      "cell_type": "code",
      "execution_count": 72,
      "metadata": {
        "id": "Azu2E8LSIikA"
      },
      "outputs": [],
      "source": [
        "import re\n",
        "\n",
        "def clean_text(text: str) -> str:\n",
        "    \"\"\"\n",
        "    Cleans text by removing HTML tags, non-printable characters,\n",
        "    excessive whitespace (including tabs/newlines), and special symbols\n",
        "    (but keeps punctuation like . , ! ? ; : ' \").\n",
        "    \"\"\"\n",
        "\n",
        "    # 1. Remove HTML tags\n",
        "    text = re.sub(r'<.*?>', '', text)\n",
        "\n",
        "    # 2. Remove non-printable characters\n",
        "    text = re.sub(r'[^\\x00-\\x7F]+', ' ', text)\n",
        "\n",
        "    # 3. Remove excessive whitespace (including tabs/newlines)\n",
        "    text = re.sub(r'\\s+', ' ', text).strip()\n",
        "\n",
        "    # 4. Remove special symbols (keeping letters, digits, whitespace, punctuation)\n",
        "    text = re.sub(r'[^a-zA-Z0-9\\s\\.\\,\\!\\?\\;\\:\\'\\\"]+', '', text)\n",
        "\n",
        "    return text"
      ]
    },
    {
      "cell_type": "code",
      "execution_count": 73,
      "metadata": {
        "id": "I-2x58x-I14X"
      },
      "outputs": [],
      "source": [
        "#Clean descriptions\n",
        "df['description'] = df.description.apply(clean_text)\n",
        "df['len_description'] = df.description.apply(len)\n",
        "\n",
        "#Clean features\n",
        "df['features'] = df.features.apply(clean_text)\n",
        "df['len_features'] = df.features.apply(len)\n",
        "\n",
        "#Clean title\n",
        "df['title'] = df.title.apply(clean_text)\n",
        "df['len_title'] = df.title.apply(len)"
      ]
    },
    {
      "cell_type": "markdown",
      "metadata": {
        "id": "eNQV3XSBRsIg"
      },
      "source": [
        "Check if there is no record with at least one text field"
      ]
    },
    {
      "cell_type": "code",
      "execution_count": 74,
      "metadata": {
        "colab": {
          "base_uri": "https://localhost:8080/"
        },
        "id": "qSBb1NYlZC-n",
        "outputId": "7bdc0662-dfa6-4b8d-e028-e8838142fbe1"
      },
      "outputs": [
        {
          "data": {
            "text/plain": [
              "0"
            ]
          },
          "execution_count": 74,
          "metadata": {},
          "output_type": "execute_result"
        }
      ],
      "source": [
        "len(df.query('len_description == 0 & len_features == 0 & len_title == 0'))"
      ]
    },
    {
      "cell_type": "markdown",
      "metadata": {
        "id": "OYn7v9FER1b0"
      },
      "source": [
        "Perfect! Every record has at least 1 text field. This will ensure later that we have at least 1 information vector to use as text feature."
      ]
    },
    {
      "cell_type": "markdown",
      "metadata": {
        "id": "ls0xKAeUXYbf"
      },
      "source": [
        "### 2.2 - Text fields magnitudes `features`\n",
        "\n",
        "For the text field, I want to add also include a \"magnitude variable\":\n",
        "\n",
        "- `len_description`: length of the `description` text\n",
        "- `len_title`: length of the `title`\n",
        "\n",
        "But, for the `features`, we have two options:\n",
        "- `num_features`: number of features on the feature input list. This is a bounded value up ot 20 features max\n",
        "- `len_features`: length of the concatenated text\n",
        "\n",
        "I will only use one of both, because keeping both might introduce correlation between those two inputs, which is not good for building the model."
      ]
    },
    {
      "cell_type": "code",
      "execution_count": 75,
      "metadata": {
        "colab": {
          "base_uri": "https://localhost:8080/",
          "height": 335
        },
        "id": "ULzad5zTZkji",
        "outputId": "78354865-4bed-4514-d4e5-6d64caf80d93"
      },
      "outputs": [
        {
          "data": {
            "text/html": [
              "<div>\n",
              "<style scoped>\n",
              "    .dataframe tbody tr th:only-of-type {\n",
              "        vertical-align: middle;\n",
              "    }\n",
              "\n",
              "    .dataframe tbody tr th {\n",
              "        vertical-align: top;\n",
              "    }\n",
              "\n",
              "    .dataframe thead th {\n",
              "        text-align: right;\n",
              "    }\n",
              "</style>\n",
              "<table border=\"1\" class=\"dataframe\">\n",
              "  <thead>\n",
              "    <tr style=\"text-align: right;\">\n",
              "      <th></th>\n",
              "      <th>len_features</th>\n",
              "    </tr>\n",
              "  </thead>\n",
              "  <tbody>\n",
              "    <tr>\n",
              "      <th>count</th>\n",
              "      <td>1.229098e+06</td>\n",
              "    </tr>\n",
              "    <tr>\n",
              "      <th>mean</th>\n",
              "      <td>2.541660e+02</td>\n",
              "    </tr>\n",
              "    <tr>\n",
              "      <th>std</th>\n",
              "      <td>3.543834e+02</td>\n",
              "    </tr>\n",
              "    <tr>\n",
              "      <th>min</th>\n",
              "      <td>0.000000e+00</td>\n",
              "    </tr>\n",
              "    <tr>\n",
              "      <th>25%</th>\n",
              "      <td>0.000000e+00</td>\n",
              "    </tr>\n",
              "    <tr>\n",
              "      <th>50%</th>\n",
              "      <td>1.480000e+02</td>\n",
              "    </tr>\n",
              "    <tr>\n",
              "      <th>75%</th>\n",
              "      <td>3.280000e+02</td>\n",
              "    </tr>\n",
              "    <tr>\n",
              "      <th>max</th>\n",
              "      <td>6.789700e+04</td>\n",
              "    </tr>\n",
              "  </tbody>\n",
              "</table>\n",
              "</div><br><label><b>dtype:</b> float64</label>"
            ],
            "text/plain": [
              "count    1.229098e+06\n",
              "mean     2.541660e+02\n",
              "std      3.543834e+02\n",
              "min      0.000000e+00\n",
              "25%      0.000000e+00\n",
              "50%      1.480000e+02\n",
              "75%      3.280000e+02\n",
              "max      6.789700e+04\n",
              "Name: len_features, dtype: float64"
            ]
          },
          "execution_count": 75,
          "metadata": {},
          "output_type": "execute_result"
        }
      ],
      "source": [
        "df.len_features.describe()"
      ]
    },
    {
      "cell_type": "code",
      "execution_count": 76,
      "metadata": {
        "colab": {
          "base_uri": "https://localhost:8080/",
          "height": 462
        },
        "id": "NWo2qvXdZzHU",
        "outputId": "0fbda0fd-768f-4537-c0d5-5ab7789e03f8"
      },
      "outputs": [
        {
          "data": {
            "text/plain": [
              "<Axes: >"
            ]
          },
          "execution_count": 76,
          "metadata": {},
          "output_type": "execute_result"
        },
        {
          "data": {
            "image/png": "[encoded data removed]",
            "text/plain": [
              "<Figure size 640x480 with 1 Axes>"
            ]
          },
          "metadata": {},
          "output_type": "display_data"
        }
      ],
      "source": [
        "df.len_features.hist()"
      ]
    },
    {
      "cell_type": "markdown",
      "metadata": {
        "id": "ImNHa-8CZuN7"
      },
      "source": [
        "We see that is a very very skewed distribution."
      ]
    },
    {
      "cell_type": "code",
      "execution_count": 77,
      "metadata": {
        "colab": {
          "base_uri": "https://localhost:8080/",
          "height": 462
        },
        "id": "GrGbqrCjaHDK",
        "outputId": "3009ffd5-fed2-4338-9e58-d0a3c6a655c7"
      },
      "outputs": [
        {
          "data": {
            "text/plain": [
              "<Axes: >"
            ]
          },
          "execution_count": 77,
          "metadata": {},
          "output_type": "execute_result"
        },
        {
          "data": {
            "image/png": "[encoded data removed]",
            "text/plain": [
              "<Figure size 640x480 with 1 Axes>"
            ]
          },
          "metadata": {},
          "output_type": "display_data"
        }
      ],
      "source": [
        "df.num_features.hist()"
      ]
    },
    {
      "cell_type": "code",
      "execution_count": 78,
      "metadata": {
        "colab": {
          "base_uri": "https://localhost:8080/",
          "height": 429
        },
        "id": "-4iCU3ZaZoJs",
        "outputId": "e9069bd7-a1b8-4e56-a088-58468f3b494f"
      },
      "outputs": [
        {
          "data": {
            "text/html": [
              "<div>\n",
              "<style scoped>\n",
              "    .dataframe tbody tr th:only-of-type {\n",
              "        vertical-align: middle;\n",
              "    }\n",
              "\n",
              "    .dataframe tbody tr th {\n",
              "        vertical-align: top;\n",
              "    }\n",
              "\n",
              "    .dataframe thead th {\n",
              "        text-align: right;\n",
              "    }\n",
              "</style>\n",
              "<table border=\"1\" class=\"dataframe\">\n",
              "  <thead>\n",
              "    <tr style=\"text-align: right;\">\n",
              "      <th></th>\n",
              "      <th>proportion</th>\n",
              "    </tr>\n",
              "    <tr>\n",
              "      <th>num_features</th>\n",
              "      <th></th>\n",
              "    </tr>\n",
              "  </thead>\n",
              "  <tbody>\n",
              "    <tr>\n",
              "      <th>5</th>\n",
              "      <td>0.357655</td>\n",
              "    </tr>\n",
              "    <tr>\n",
              "      <th>0</th>\n",
              "      <td>0.291641</td>\n",
              "    </tr>\n",
              "    <tr>\n",
              "      <th>3</th>\n",
              "      <td>0.087648</td>\n",
              "    </tr>\n",
              "    <tr>\n",
              "      <th>4</th>\n",
              "      <td>0.087182</td>\n",
              "    </tr>\n",
              "    <tr>\n",
              "      <th>1</th>\n",
              "      <td>0.050422</td>\n",
              "    </tr>\n",
              "    <tr>\n",
              "      <th>2</th>\n",
              "      <td>0.026252</td>\n",
              "    </tr>\n",
              "    <tr>\n",
              "      <th>6</th>\n",
              "      <td>0.018552</td>\n",
              "    </tr>\n",
              "    <tr>\n",
              "      <th>10</th>\n",
              "      <td>0.011521</td>\n",
              "    </tr>\n",
              "    <tr>\n",
              "      <th>7</th>\n",
              "      <td>0.010490</td>\n",
              "    </tr>\n",
              "    <tr>\n",
              "      <th>11</th>\n",
              "      <td>0.009876</td>\n",
              "    </tr>\n",
              "  </tbody>\n",
              "</table>\n",
              "</div><br><label><b>dtype:</b> float64</label>"
            ],
            "text/plain": [
              "num_features\n",
              "5     0.357655\n",
              "0     0.291641\n",
              "3     0.087648\n",
              "4     0.087182\n",
              "1     0.050422\n",
              "2     0.026252\n",
              "6     0.018552\n",
              "10    0.011521\n",
              "7     0.010490\n",
              "11    0.009876\n",
              "Name: proportion, dtype: float64"
            ]
          },
          "execution_count": 78,
          "metadata": {},
          "output_type": "execute_result"
        }
      ],
      "source": [
        "df.num_features.value_counts(normalize=True).head(10)"
      ]
    },
    {
      "cell_type": "markdown",
      "metadata": {
        "id": "f-o9cxqAaMUk"
      },
      "source": [
        "The `num_features` is also a skewed distribution but it has only integers values (and much less of them) and more distributed among the samples, so we will keep it as the magnitude feature for `features`"
      ]
    },
    {
      "cell_type": "markdown",
      "metadata": {
        "id": "AHDu-H6PbAvH"
      },
      "source": [
        "## 3 - Save the DF"
      ]
    },
    {
      "cell_type": "markdown",
      "metadata": {
        "id": "Oe60B8qvyM82"
      },
      "source": [
        "If needed, we can now save the processed dataset, although we will build a **separate module** for data cleaning and preparation."
      ]
    },
    {
      "cell_type": "code",
      "execution_count": 79,
      "metadata": {
        "id": "2-ns-TMxK5XZ"
      },
      "outputs": [],
      "source": [
        "interest_cols = [\n",
        "    'title',\n",
        "    'len_title',\n",
        "    'description',\n",
        "    'len_description',\n",
        "    'features',\n",
        "    'num_features',\n",
        "    'main_cat',\n",
        "    'also_buy_categ',\n",
        "    'also_view_categ',\n",
        "    'num_images_categ'\n",
        "]\n",
        "\n",
        "final_df = df[interest_cols]"
      ]
    },
    {
      "cell_type": "code",
      "execution_count": 55,
      "metadata": {
        "id": "3rQta4qEdHtg"
      },
      "outputs": [],
      "source": [
        "final_df.to_csv('df_limpio.csv', index=False)"
      ]
    }
  ],
  "metadata": {
    "colab": {
      "machine_shape": "hm",
      "provenance": []
    },
    "kernelspec": {
      "display_name": "Python 3",
      "name": "python3"
    },
    "language_info": {
      "name": "python"
    }
  },
  "nbformat": 4,
  "nbformat_minor": 0
}
